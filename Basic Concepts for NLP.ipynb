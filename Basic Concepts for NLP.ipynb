{
 "cells": [
  {
   "cell_type": "markdown",
   "id": "1c991f63",
   "metadata": {},
   "source": [
    "# NLP에서 사용하는 기호"
   ]
  },
  {
   "cell_type": "markdown",
   "id": "f94e1e84",
   "metadata": {},
   "source": [
    "#### BOS : Beginning of Sequence의 약어"
   ]
  },
  {
   "cell_type": "markdown",
   "id": "16d21693",
   "metadata": {},
   "source": [
    "#### EOS : End of Sequence의 약어"
   ]
  },
  {
   "cell_type": "markdown",
   "id": "a830725c",
   "metadata": {},
   "source": [
    "#### PAD : Padding의 약어\n",
    "- 시퀀스 데이터의 길이를 맞추기 위해 사용하는 기호.\n",
    "- 각 문장의 길이가 다를 경우 모델에 Input시키기 위해서는 같은 길이의 시퀀스 데이터 필요.\n",
    "    - 그럴 경우, PAD를 통해 입력 길이 통일화"
   ]
  },
  {
   "cell_type": "markdown",
   "id": "c8582611",
   "metadata": {},
   "source": [
    "#### UNK : Unknown의 약어\n",
    "- 모델이 이전에 본 적이 없는 단어를 나타내는 특별한 기호.\n",
    "- 보통, UNK 기호는 단어 사전에 없는 단어를 대체하는 용도로 사용됨."
   ]
  },
  {
   "cell_type": "markdown",
   "id": "6dd26237",
   "metadata": {},
   "source": [
    "#### CLS : Classification의 약어\n",
    "- 분류 작업에서 사용되는 특별한 기호.\n",
    "- 입력 시퀀스의 시작을 나타내는 기호로 사용."
   ]
  },
  {
   "cell_type": "markdown",
   "id": "cdc83606",
   "metadata": {},
   "source": [
    "#### SEP : Separation의 약어\n",
    "- 입력 시퀀스의 여러 부분을 나누기 위해 사용되는 특별한 기호.\n",
    "- e.g., 입력 시퀀스가 두 개의 문장으로 이루어져 있을 때, SEP 기호를 사용하여 두 문장을 분리."
   ]
  },
  {
   "attachments": {},
   "cell_type": "markdown",
   "id": "85df61b4",
   "metadata": {},
   "source": [
    "# What is the GPT?\n",
    "\n",
    "## Basic  Model : GPT-2\n",
    "- GPT-2(Generative Pre-trained Transformer 2) : OpenAI에서 개발한 대규모 언어 모델.\n",
    "- Transformer 아키텍쳐를 사용, 총 1.5억 개의 파라미터\n",
    "\n",
    "## GPT-2로 처리할 수 있는 과제는?\n",
    "\n",
    "- Github에 NLP와 관련하여 다음 과제들을 차례대로 수행해보려고 함."
   ]
  },
  {
   "cell_type": "markdown",
   "id": "bf1ba546",
   "metadata": {},
   "source": []
  }
 ],
 "metadata": {
  "kernelspec": {
   "display_name": "Python 3 (ipykernel)",
   "language": "python",
   "name": "python3"
  },
  "language_info": {
   "codemirror_mode": {
    "name": "ipython",
    "version": 3
   },
   "file_extension": ".py",
   "mimetype": "text/x-python",
   "name": "python",
   "nbconvert_exporter": "python",
   "pygments_lexer": "ipython3",
   "version": "3.8.5"
  }
 },
 "nbformat": 4,
 "nbformat_minor": 5
}
