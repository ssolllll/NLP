{
 "cells": [
  {
   "cell_type": "code",
   "execution_count": 37,
   "id": "0c96d7e4",
   "metadata": {},
   "outputs": [],
   "source": [
    "import warnings\n",
    "\n",
    "warnings.filterwarnings(\"ignore\")"
   ]
  },
  {
   "cell_type": "code",
   "execution_count": 2,
   "id": "bc5ee923",
   "metadata": {},
   "outputs": [],
   "source": [
    "import torch\n",
    "\n",
    "device = torch.device('mps:0' if torch.backends.mps.is_available() else 'cpu')"
   ]
  },
  {
   "cell_type": "code",
   "execution_count": 4,
   "id": "c1729188",
   "metadata": {},
   "outputs": [
    {
     "name": "stdout",
     "output_type": "stream",
     "text": [
      "Token is valid.\n",
      "Your token has been saved in your configured git credential helpers (osxkeychain).\n",
      "Your token has been saved to /Users/hansol/.cache/huggingface/token\n",
      "Login successful\n"
     ]
    }
   ],
   "source": [
    "from huggingface_hub import notebook_login\n",
    "\n",
    "notebook_login()"
   ]
  },
  {
   "cell_type": "code",
   "execution_count": 9,
   "id": "4eaf5bce",
   "metadata": {
    "scrolled": true
   },
   "outputs": [
    {
     "name": "stderr",
     "output_type": "stream",
     "text": [
      "Using custom data configuration Hansollll--korquad_v1-103f86c4266af435\n"
     ]
    },
    {
     "name": "stdout",
     "output_type": "stream",
     "text": [
      "Downloading and preparing dataset None/None to /Users/hansol/.cache/huggingface/datasets/Hansollll___parquet/Hansollll--korquad_v1-103f86c4266af435/0.0.0/2a3b91fbd88a2c90d1dbbb32b460cf621d31bd5b05b934492fdef7d8d6f236ec...\n"
     ]
    },
    {
     "data": {
      "application/vnd.jupyter.widget-view+json": {
       "model_id": "dfba3020ea604d10bfbb3d6beee1b639",
       "version_major": 2,
       "version_minor": 0
      },
      "text/plain": [
       "Downloading data files:   0%|          | 0/2 [00:00<?, ?it/s]"
      ]
     },
     "metadata": {},
     "output_type": "display_data"
    },
    {
     "data": {
      "application/vnd.jupyter.widget-view+json": {
       "model_id": "315d00cf7bfb4ba08b81b6738a8d4c56",
       "version_major": 2,
       "version_minor": 0
      },
      "text/plain": [
       "Downloading data:   0%|          | 0.00/40.4M [00:00<?, ?B/s]"
      ]
     },
     "metadata": {},
     "output_type": "display_data"
    },
    {
     "data": {
      "application/vnd.jupyter.widget-view+json": {
       "model_id": "e5980e42f0d146a6a07549eaf33b96c4",
       "version_major": 2,
       "version_minor": 0
      },
      "text/plain": [
       "Extracting data files:   0%|          | 0/2 [00:00<?, ?it/s]"
      ]
     },
     "metadata": {},
     "output_type": "display_data"
    },
    {
     "data": {
      "application/vnd.jupyter.widget-view+json": {
       "model_id": "",
       "version_major": 2,
       "version_minor": 0
      },
      "text/plain": [
       "Generating test split:   0%|          | 0/12082 [00:00<?, ? examples/s]"
      ]
     },
     "metadata": {},
     "output_type": "display_data"
    },
    {
     "data": {
      "application/vnd.jupyter.widget-view+json": {
       "model_id": "",
       "version_major": 2,
       "version_minor": 0
      },
      "text/plain": [
       "Generating train split:   0%|          | 0/48325 [00:00<?, ? examples/s]"
      ]
     },
     "metadata": {},
     "output_type": "display_data"
    },
    {
     "name": "stdout",
     "output_type": "stream",
     "text": [
      "Dataset parquet downloaded and prepared to /Users/hansol/.cache/huggingface/datasets/Hansollll___parquet/Hansollll--korquad_v1-103f86c4266af435/0.0.0/2a3b91fbd88a2c90d1dbbb32b460cf621d31bd5b05b934492fdef7d8d6f236ec. Subsequent calls will reuse this data.\n"
     ]
    },
    {
     "data": {
      "application/vnd.jupyter.widget-view+json": {
       "model_id": "35b1d5dbe38141fa8e93cdeab41a5620",
       "version_major": 2,
       "version_minor": 0
      },
      "text/plain": [
       "  0%|          | 0/2 [00:00<?, ?it/s]"
      ]
     },
     "metadata": {},
     "output_type": "display_data"
    }
   ],
   "source": [
    "from datasets import load_dataset\n",
    "\n",
    "korquad = load_dataset(\"Hansollll/korquad_v1\")"
   ]
  },
  {
   "cell_type": "code",
   "execution_count": 13,
   "id": "0842983b",
   "metadata": {},
   "outputs": [
    {
     "data": {
      "text/plain": [
       "DatasetDict({\n",
       "    test: Dataset({\n",
       "        features: ['id', 'context', 'question', 'answers'],\n",
       "        num_rows: 12082\n",
       "    })\n",
       "    train: Dataset({\n",
       "        features: ['id', 'context', 'question', 'answers'],\n",
       "        num_rows: 48325\n",
       "    })\n",
       "})"
      ]
     },
     "execution_count": 13,
     "metadata": {},
     "output_type": "execute_result"
    }
   ],
   "source": [
    "korquad"
   ]
  },
  {
   "cell_type": "code",
   "execution_count": 14,
   "id": "cddf02e3",
   "metadata": {},
   "outputs": [],
   "source": [
    "from transformers import AutoTokenizer\n",
    "    \n",
    "\n",
    "model_checkpoint = \"distilbert-base-uncased\"\n",
    "tokenizer = AutoTokenizer.from_pretrained(model_checkpoint)"
   ]
  },
  {
   "cell_type": "code",
   "execution_count": 15,
   "id": "8e4336b8",
   "metadata": {},
   "outputs": [],
   "source": [
    "def preprocess_function(examples):\n",
    "    questions = [q.strip() for q in examples[\"question\"]]\n",
    "    inputs = tokenizer(\n",
    "        questions,\n",
    "        examples[\"context\"],\n",
    "        max_length=384,\n",
    "        truncation=\"only_second\",\n",
    "        return_offsets_mapping=True,\n",
    "        padding=\"max_length\",\n",
    "    )\n",
    "\n",
    "    offset_mapping = inputs.pop(\"offset_mapping\")\n",
    "    answers = examples[\"answers\"]\n",
    "    start_positions = []\n",
    "    end_positions = []\n",
    "\n",
    "    for i, offset in enumerate(offset_mapping):\n",
    "        answer = answers[i]\n",
    "        start_char = answer[\"answer_start\"]\n",
    "        end_char = answer[\"answer_start\"] + len(answer[\"text\"])\n",
    "        sequence_ids = inputs.sequence_ids(i)\n",
    "\n",
    "        # Find the start and end of the context\n",
    "        idx = 0\n",
    "        while sequence_ids[idx] != 1:\n",
    "            idx += 1\n",
    "        context_start = idx\n",
    "        while sequence_ids[idx] == 1:\n",
    "            idx += 1\n",
    "        context_end = idx - 1\n",
    "\n",
    "        # If the answer is not fully inside the context, label it (0, 0)\n",
    "        if offset[context_start][0] > end_char or offset[context_end][1] < start_char:\n",
    "            start_positions.append(0)\n",
    "            end_positions.append(0)\n",
    "        else:\n",
    "            # Otherwise it's the start and end token positions\n",
    "            idx = context_start\n",
    "            while idx <= context_end and offset[idx][0] <= start_char:\n",
    "                idx += 1\n",
    "            start_positions.append(idx - 1)\n",
    "\n",
    "            idx = context_end\n",
    "            while idx >= context_start and offset[idx][1] >= end_char:\n",
    "                idx -= 1\n",
    "            end_positions.append(idx + 1)\n",
    "\n",
    "    inputs[\"start_positions\"] = start_positions\n",
    "    inputs[\"end_positions\"] = end_positions\n",
    "    return inputs"
   ]
  },
  {
   "cell_type": "code",
   "execution_count": 28,
   "id": "311316a8",
   "metadata": {
    "scrolled": true
   },
   "outputs": [
    {
     "data": {
      "application/vnd.jupyter.widget-view+json": {
       "model_id": "4ea1d7dbf4fb4aad99dfa28f6a85d6db",
       "version_major": 2,
       "version_minor": 0
      },
      "text/plain": [
       "  0%|          | 0/13 [00:00<?, ?ba/s]"
      ]
     },
     "metadata": {},
     "output_type": "display_data"
    },
    {
     "data": {
      "application/vnd.jupyter.widget-view+json": {
       "model_id": "29bfb613449844189addecd00f720a2c",
       "version_major": 2,
       "version_minor": 0
      },
      "text/plain": [
       "  0%|          | 0/49 [00:00<?, ?ba/s]"
      ]
     },
     "metadata": {},
     "output_type": "display_data"
    }
   ],
   "source": [
    "tokenized_korquad = korquad.map(preprocess_function, batched=True, remove_columns=korquad[\"train\"].column_names)"
   ]
  },
  {
   "cell_type": "code",
   "execution_count": 29,
   "id": "c5e3dcf6",
   "metadata": {},
   "outputs": [],
   "source": [
    "from transformers import DefaultDataCollator\n",
    "\n",
    "data_collator = DefaultDataCollator()"
   ]
  },
  {
   "cell_type": "code",
   "execution_count": 30,
   "id": "a09855ee",
   "metadata": {},
   "outputs": [
    {
     "name": "stderr",
     "output_type": "stream",
     "text": [
      "loading configuration file config.json from cache at /Users/hansol/.cache/huggingface/hub/models--distilbert-base-uncased/snapshots/1c4513b2eedbda136f57676a34eea67aba266e5c/config.json\n",
      "Model config DistilBertConfig {\n",
      "  \"_name_or_path\": \"distilbert-base-uncased\",\n",
      "  \"activation\": \"gelu\",\n",
      "  \"architectures\": [\n",
      "    \"DistilBertForMaskedLM\"\n",
      "  ],\n",
      "  \"attention_dropout\": 0.1,\n",
      "  \"dim\": 768,\n",
      "  \"dropout\": 0.1,\n",
      "  \"hidden_dim\": 3072,\n",
      "  \"initializer_range\": 0.02,\n",
      "  \"max_position_embeddings\": 512,\n",
      "  \"model_type\": \"distilbert\",\n",
      "  \"n_heads\": 12,\n",
      "  \"n_layers\": 6,\n",
      "  \"pad_token_id\": 0,\n",
      "  \"qa_dropout\": 0.1,\n",
      "  \"seq_classif_dropout\": 0.2,\n",
      "  \"sinusoidal_pos_embds\": false,\n",
      "  \"tie_weights_\": true,\n",
      "  \"transformers_version\": \"4.26.1\",\n",
      "  \"vocab_size\": 30522\n",
      "}\n",
      "\n",
      "loading weights file pytorch_model.bin from cache at /Users/hansol/.cache/huggingface/hub/models--distilbert-base-uncased/snapshots/1c4513b2eedbda136f57676a34eea67aba266e5c/pytorch_model.bin\n",
      "Some weights of the model checkpoint at distilbert-base-uncased were not used when initializing DistilBertForQuestionAnswering: ['vocab_transform.weight', 'vocab_layer_norm.bias', 'vocab_transform.bias', 'vocab_projector.bias', 'vocab_layer_norm.weight', 'vocab_projector.weight']\n",
      "- This IS expected if you are initializing DistilBertForQuestionAnswering from the checkpoint of a model trained on another task or with another architecture (e.g. initializing a BertForSequenceClassification model from a BertForPreTraining model).\n",
      "- This IS NOT expected if you are initializing DistilBertForQuestionAnswering from the checkpoint of a model that you expect to be exactly identical (initializing a BertForSequenceClassification model from a BertForSequenceClassification model).\n",
      "Some weights of DistilBertForQuestionAnswering were not initialized from the model checkpoint at distilbert-base-uncased and are newly initialized: ['qa_outputs.bias', 'qa_outputs.weight']\n",
      "You should probably TRAIN this model on a down-stream task to be able to use it for predictions and inference.\n"
     ]
    }
   ],
   "source": [
    "from transformers import AutoModelForQuestionAnswering, TrainingArguments, Trainer\n",
    "\n",
    "model = AutoModelForQuestionAnswering.from_pretrained(\"distilbert-base-uncased\")"
   ]
  },
  {
   "cell_type": "code",
   "execution_count": 31,
   "id": "8189ee75",
   "metadata": {},
   "outputs": [
    {
     "data": {
      "text/plain": [
       "DistilBertForQuestionAnswering(\n",
       "  (distilbert): DistilBertModel(\n",
       "    (embeddings): Embeddings(\n",
       "      (word_embeddings): Embedding(30522, 768, padding_idx=0)\n",
       "      (position_embeddings): Embedding(512, 768)\n",
       "      (LayerNorm): LayerNorm((768,), eps=1e-12, elementwise_affine=True)\n",
       "      (dropout): Dropout(p=0.1, inplace=False)\n",
       "    )\n",
       "    (transformer): Transformer(\n",
       "      (layer): ModuleList(\n",
       "        (0): TransformerBlock(\n",
       "          (attention): MultiHeadSelfAttention(\n",
       "            (dropout): Dropout(p=0.1, inplace=False)\n",
       "            (q_lin): Linear(in_features=768, out_features=768, bias=True)\n",
       "            (k_lin): Linear(in_features=768, out_features=768, bias=True)\n",
       "            (v_lin): Linear(in_features=768, out_features=768, bias=True)\n",
       "            (out_lin): Linear(in_features=768, out_features=768, bias=True)\n",
       "          )\n",
       "          (sa_layer_norm): LayerNorm((768,), eps=1e-12, elementwise_affine=True)\n",
       "          (ffn): FFN(\n",
       "            (dropout): Dropout(p=0.1, inplace=False)\n",
       "            (lin1): Linear(in_features=768, out_features=3072, bias=True)\n",
       "            (lin2): Linear(in_features=3072, out_features=768, bias=True)\n",
       "            (activation): GELUActivation()\n",
       "          )\n",
       "          (output_layer_norm): LayerNorm((768,), eps=1e-12, elementwise_affine=True)\n",
       "        )\n",
       "        (1): TransformerBlock(\n",
       "          (attention): MultiHeadSelfAttention(\n",
       "            (dropout): Dropout(p=0.1, inplace=False)\n",
       "            (q_lin): Linear(in_features=768, out_features=768, bias=True)\n",
       "            (k_lin): Linear(in_features=768, out_features=768, bias=True)\n",
       "            (v_lin): Linear(in_features=768, out_features=768, bias=True)\n",
       "            (out_lin): Linear(in_features=768, out_features=768, bias=True)\n",
       "          )\n",
       "          (sa_layer_norm): LayerNorm((768,), eps=1e-12, elementwise_affine=True)\n",
       "          (ffn): FFN(\n",
       "            (dropout): Dropout(p=0.1, inplace=False)\n",
       "            (lin1): Linear(in_features=768, out_features=3072, bias=True)\n",
       "            (lin2): Linear(in_features=3072, out_features=768, bias=True)\n",
       "            (activation): GELUActivation()\n",
       "          )\n",
       "          (output_layer_norm): LayerNorm((768,), eps=1e-12, elementwise_affine=True)\n",
       "        )\n",
       "        (2): TransformerBlock(\n",
       "          (attention): MultiHeadSelfAttention(\n",
       "            (dropout): Dropout(p=0.1, inplace=False)\n",
       "            (q_lin): Linear(in_features=768, out_features=768, bias=True)\n",
       "            (k_lin): Linear(in_features=768, out_features=768, bias=True)\n",
       "            (v_lin): Linear(in_features=768, out_features=768, bias=True)\n",
       "            (out_lin): Linear(in_features=768, out_features=768, bias=True)\n",
       "          )\n",
       "          (sa_layer_norm): LayerNorm((768,), eps=1e-12, elementwise_affine=True)\n",
       "          (ffn): FFN(\n",
       "            (dropout): Dropout(p=0.1, inplace=False)\n",
       "            (lin1): Linear(in_features=768, out_features=3072, bias=True)\n",
       "            (lin2): Linear(in_features=3072, out_features=768, bias=True)\n",
       "            (activation): GELUActivation()\n",
       "          )\n",
       "          (output_layer_norm): LayerNorm((768,), eps=1e-12, elementwise_affine=True)\n",
       "        )\n",
       "        (3): TransformerBlock(\n",
       "          (attention): MultiHeadSelfAttention(\n",
       "            (dropout): Dropout(p=0.1, inplace=False)\n",
       "            (q_lin): Linear(in_features=768, out_features=768, bias=True)\n",
       "            (k_lin): Linear(in_features=768, out_features=768, bias=True)\n",
       "            (v_lin): Linear(in_features=768, out_features=768, bias=True)\n",
       "            (out_lin): Linear(in_features=768, out_features=768, bias=True)\n",
       "          )\n",
       "          (sa_layer_norm): LayerNorm((768,), eps=1e-12, elementwise_affine=True)\n",
       "          (ffn): FFN(\n",
       "            (dropout): Dropout(p=0.1, inplace=False)\n",
       "            (lin1): Linear(in_features=768, out_features=3072, bias=True)\n",
       "            (lin2): Linear(in_features=3072, out_features=768, bias=True)\n",
       "            (activation): GELUActivation()\n",
       "          )\n",
       "          (output_layer_norm): LayerNorm((768,), eps=1e-12, elementwise_affine=True)\n",
       "        )\n",
       "        (4): TransformerBlock(\n",
       "          (attention): MultiHeadSelfAttention(\n",
       "            (dropout): Dropout(p=0.1, inplace=False)\n",
       "            (q_lin): Linear(in_features=768, out_features=768, bias=True)\n",
       "            (k_lin): Linear(in_features=768, out_features=768, bias=True)\n",
       "            (v_lin): Linear(in_features=768, out_features=768, bias=True)\n",
       "            (out_lin): Linear(in_features=768, out_features=768, bias=True)\n",
       "          )\n",
       "          (sa_layer_norm): LayerNorm((768,), eps=1e-12, elementwise_affine=True)\n",
       "          (ffn): FFN(\n",
       "            (dropout): Dropout(p=0.1, inplace=False)\n",
       "            (lin1): Linear(in_features=768, out_features=3072, bias=True)\n",
       "            (lin2): Linear(in_features=3072, out_features=768, bias=True)\n",
       "            (activation): GELUActivation()\n",
       "          )\n",
       "          (output_layer_norm): LayerNorm((768,), eps=1e-12, elementwise_affine=True)\n",
       "        )\n",
       "        (5): TransformerBlock(\n",
       "          (attention): MultiHeadSelfAttention(\n",
       "            (dropout): Dropout(p=0.1, inplace=False)\n",
       "            (q_lin): Linear(in_features=768, out_features=768, bias=True)\n",
       "            (k_lin): Linear(in_features=768, out_features=768, bias=True)\n",
       "            (v_lin): Linear(in_features=768, out_features=768, bias=True)\n",
       "            (out_lin): Linear(in_features=768, out_features=768, bias=True)\n",
       "          )\n",
       "          (sa_layer_norm): LayerNorm((768,), eps=1e-12, elementwise_affine=True)\n",
       "          (ffn): FFN(\n",
       "            (dropout): Dropout(p=0.1, inplace=False)\n",
       "            (lin1): Linear(in_features=768, out_features=3072, bias=True)\n",
       "            (lin2): Linear(in_features=3072, out_features=768, bias=True)\n",
       "            (activation): GELUActivation()\n",
       "          )\n",
       "          (output_layer_norm): LayerNorm((768,), eps=1e-12, elementwise_affine=True)\n",
       "        )\n",
       "      )\n",
       "    )\n",
       "  )\n",
       "  (qa_outputs): Linear(in_features=768, out_features=2, bias=True)\n",
       "  (dropout): Dropout(p=0.1, inplace=False)\n",
       ")"
      ]
     },
     "execution_count": 31,
     "metadata": {},
     "output_type": "execute_result"
    }
   ],
   "source": [
    "model.to(device)"
   ]
  },
  {
   "cell_type": "code",
   "execution_count": 34,
   "id": "87b20dca",
   "metadata": {
    "scrolled": true
   },
   "outputs": [
    {
     "name": "stderr",
     "output_type": "stream",
     "text": [
      "PyTorch: setting up devices\n",
      "The default value for the training argument `--report_to` will change in v5 (from all installed integrations to none). In v5, you will need to use `--report_to all` to get the same behavior as now. You should start updating your code and make this info disappear :-).\n",
      "/Users/hansol/Desktop/KorQuAD/qa_model is already a clone of https://huggingface.co/Hansollll/qa_model. Make sure you pull the latest changes with `repo.git_pull()`.\n"
     ]
    },
    {
     "name": "stdout",
     "output_type": "stream",
     "text": [
      "huggingface/tokenizers: The current process just got forked, after parallelism has already been used. Disabling parallelism to avoid deadlocks...\n",
      "To disable this warning, you can either:\n",
      "\t- Avoid using `tokenizers` before the fork if possible\n",
      "\t- Explicitly set the environment variable TOKENIZERS_PARALLELISM=(true | false)\n",
      "huggingface/tokenizers: The current process just got forked, after parallelism has already been used. Disabling parallelism to avoid deadlocks...\n",
      "To disable this warning, you can either:\n",
      "\t- Avoid using `tokenizers` before the fork if possible\n",
      "\t- Explicitly set the environment variable TOKENIZERS_PARALLELISM=(true | false)\n",
      "huggingface/tokenizers: The current process just got forked, after parallelism has already been used. Disabling parallelism to avoid deadlocks...\n",
      "To disable this warning, you can either:\n",
      "\t- Avoid using `tokenizers` before the fork if possible\n",
      "\t- Explicitly set the environment variable TOKENIZERS_PARALLELISM=(true | false)\n",
      "huggingface/tokenizers: The current process just got forked, after parallelism has already been used. Disabling parallelism to avoid deadlocks...\n",
      "To disable this warning, you can either:\n",
      "\t- Avoid using `tokenizers` before the fork if possible\n",
      "\t- Explicitly set the environment variable TOKENIZERS_PARALLELISM=(true | false)\n",
      "huggingface/tokenizers: The current process just got forked, after parallelism has already been used. Disabling parallelism to avoid deadlocks...\n",
      "To disable this warning, you can either:\n",
      "\t- Avoid using `tokenizers` before the fork if possible\n",
      "\t- Explicitly set the environment variable TOKENIZERS_PARALLELISM=(true | false)\n",
      "huggingface/tokenizers: The current process just got forked, after parallelism has already been used. Disabling parallelism to avoid deadlocks...\n",
      "To disable this warning, you can either:\n",
      "\t- Avoid using `tokenizers` before the fork if possible\n",
      "\t- Explicitly set the environment variable TOKENIZERS_PARALLELISM=(true | false)\n",
      "huggingface/tokenizers: The current process just got forked, after parallelism has already been used. Disabling parallelism to avoid deadlocks...\n",
      "To disable this warning, you can either:\n",
      "\t- Avoid using `tokenizers` before the fork if possible\n",
      "\t- Explicitly set the environment variable TOKENIZERS_PARALLELISM=(true | false)\n",
      "huggingface/tokenizers: The current process just got forked, after parallelism has already been used. Disabling parallelism to avoid deadlocks...\n",
      "To disable this warning, you can either:\n",
      "\t- Avoid using `tokenizers` before the fork if possible\n",
      "\t- Explicitly set the environment variable TOKENIZERS_PARALLELISM=(true | false)\n",
      "huggingface/tokenizers: The current process just got forked, after parallelism has already been used. Disabling parallelism to avoid deadlocks...\n",
      "To disable this warning, you can either:\n",
      "\t- Avoid using `tokenizers` before the fork if possible\n",
      "\t- Explicitly set the environment variable TOKENIZERS_PARALLELISM=(true | false)\n",
      "huggingface/tokenizers: The current process just got forked, after parallelism has already been used. Disabling parallelism to avoid deadlocks...\n",
      "To disable this warning, you can either:\n",
      "\t- Avoid using `tokenizers` before the fork if possible\n",
      "\t- Explicitly set the environment variable TOKENIZERS_PARALLELISM=(true | false)\n",
      "huggingface/tokenizers: The current process just got forked, after parallelism has already been used. Disabling parallelism to avoid deadlocks...\n",
      "To disable this warning, you can either:\n",
      "\t- Avoid using `tokenizers` before the fork if possible\n",
      "\t- Explicitly set the environment variable TOKENIZERS_PARALLELISM=(true | false)\n",
      "huggingface/tokenizers: The current process just got forked, after parallelism has already been used. Disabling parallelism to avoid deadlocks...\n",
      "To disable this warning, you can either:\n",
      "\t- Avoid using `tokenizers` before the fork if possible\n",
      "\t- Explicitly set the environment variable TOKENIZERS_PARALLELISM=(true | false)\n"
     ]
    }
   ],
   "source": [
    "training_args = TrainingArguments(\n",
    "    output_dir=\"qa_model\",\n",
    "    evaluation_strategy=\"epoch\",\n",
    "    learning_rate=2e-5,\n",
    "    per_device_train_batch_size=16,\n",
    "    per_device_eval_batch_size=16,\n",
    "    num_train_epochs=3,\n",
    "    weight_decay=0.01,\n",
    "    push_to_hub=True,\n",
    ")\n",
    "\n",
    "trainer = Trainer(\n",
    "    model=model,\n",
    "    args=training_args,\n",
    "    train_dataset=tokenized_korquad[\"train\"],\n",
    "    eval_dataset=tokenized_korquad[\"test\"],\n",
    "    tokenizer=tokenizer,\n",
    "    data_collator=data_collator\n",
    ")"
   ]
  },
  {
   "cell_type": "code",
   "execution_count": 38,
   "id": "fb3488bb",
   "metadata": {},
   "outputs": [],
   "source": [
    "import os\n",
    "\n",
    "os.environ[\"TOKENIZERS_PARALLELISM\"] = \"false\""
   ]
  },
  {
   "cell_type": "code",
   "execution_count": 39,
   "id": "fb0260e4",
   "metadata": {
    "scrolled": true
   },
   "outputs": [
    {
     "name": "stderr",
     "output_type": "stream",
     "text": [
      "***** Running training *****\n",
      "  Num examples = 48325\n",
      "  Num Epochs = 3\n",
      "  Instantaneous batch size per device = 16\n",
      "  Total train batch size (w. parallel, distributed & accumulation) = 16\n",
      "  Gradient Accumulation steps = 1\n",
      "  Total optimization steps = 9063\n",
      "  Number of trainable parameters = 66364418\n"
     ]
    },
    {
     "data": {
      "text/html": [
       "\n",
       "    <div>\n",
       "      \n",
       "      <progress value='9063' max='9063' style='width:300px; height:20px; vertical-align: middle;'></progress>\n",
       "      [9063/9063 10:08:13, Epoch 3/3]\n",
       "    </div>\n",
       "    <table border=\"1\" class=\"dataframe\">\n",
       "  <thead>\n",
       " <tr style=\"text-align: left;\">\n",
       "      <th>Epoch</th>\n",
       "      <th>Training Loss</th>\n",
       "      <th>Validation Loss</th>\n",
       "    </tr>\n",
       "  </thead>\n",
       "  <tbody>\n",
       "    <tr>\n",
       "      <td>1</td>\n",
       "      <td>1.704200</td>\n",
       "      <td>1.589765</td>\n",
       "    </tr>\n",
       "    <tr>\n",
       "      <td>2</td>\n",
       "      <td>1.495500</td>\n",
       "      <td>1.458980</td>\n",
       "    </tr>\n",
       "    <tr>\n",
       "      <td>3</td>\n",
       "      <td>1.327400</td>\n",
       "      <td>1.390601</td>\n",
       "    </tr>\n",
       "  </tbody>\n",
       "</table><p>"
      ],
      "text/plain": [
       "<IPython.core.display.HTML object>"
      ]
     },
     "metadata": {},
     "output_type": "display_data"
    },
    {
     "name": "stderr",
     "output_type": "stream",
     "text": [
      "Saving model checkpoint to qa_model/checkpoint-500\n",
      "Configuration saved in qa_model/checkpoint-500/config.json\n",
      "Model weights saved in qa_model/checkpoint-500/pytorch_model.bin\n",
      "tokenizer config file saved in qa_model/checkpoint-500/tokenizer_config.json\n",
      "Special tokens file saved in qa_model/checkpoint-500/special_tokens_map.json\n",
      "tokenizer config file saved in qa_model/tokenizer_config.json\n",
      "Special tokens file saved in qa_model/special_tokens_map.json\n",
      "Saving model checkpoint to qa_model/checkpoint-1000\n",
      "Configuration saved in qa_model/checkpoint-1000/config.json\n",
      "Model weights saved in qa_model/checkpoint-1000/pytorch_model.bin\n",
      "tokenizer config file saved in qa_model/checkpoint-1000/tokenizer_config.json\n",
      "Special tokens file saved in qa_model/checkpoint-1000/special_tokens_map.json\n",
      "tokenizer config file saved in qa_model/tokenizer_config.json\n",
      "Special tokens file saved in qa_model/special_tokens_map.json\n",
      "Saving model checkpoint to qa_model/checkpoint-1500\n",
      "Configuration saved in qa_model/checkpoint-1500/config.json\n",
      "Model weights saved in qa_model/checkpoint-1500/pytorch_model.bin\n",
      "tokenizer config file saved in qa_model/checkpoint-1500/tokenizer_config.json\n",
      "Special tokens file saved in qa_model/checkpoint-1500/special_tokens_map.json\n",
      "tokenizer config file saved in qa_model/tokenizer_config.json\n",
      "Special tokens file saved in qa_model/special_tokens_map.json\n",
      "Saving model checkpoint to qa_model/checkpoint-2000\n",
      "Configuration saved in qa_model/checkpoint-2000/config.json\n",
      "Model weights saved in qa_model/checkpoint-2000/pytorch_model.bin\n",
      "tokenizer config file saved in qa_model/checkpoint-2000/tokenizer_config.json\n",
      "Special tokens file saved in qa_model/checkpoint-2000/special_tokens_map.json\n",
      "tokenizer config file saved in qa_model/tokenizer_config.json\n",
      "Special tokens file saved in qa_model/special_tokens_map.json\n",
      "Saving model checkpoint to qa_model/checkpoint-2500\n",
      "Configuration saved in qa_model/checkpoint-2500/config.json\n",
      "Model weights saved in qa_model/checkpoint-2500/pytorch_model.bin\n",
      "tokenizer config file saved in qa_model/checkpoint-2500/tokenizer_config.json\n",
      "Special tokens file saved in qa_model/checkpoint-2500/special_tokens_map.json\n",
      "tokenizer config file saved in qa_model/tokenizer_config.json\n",
      "Special tokens file saved in qa_model/special_tokens_map.json\n",
      "Saving model checkpoint to qa_model/checkpoint-3000\n",
      "Configuration saved in qa_model/checkpoint-3000/config.json\n",
      "Model weights saved in qa_model/checkpoint-3000/pytorch_model.bin\n",
      "tokenizer config file saved in qa_model/checkpoint-3000/tokenizer_config.json\n",
      "Special tokens file saved in qa_model/checkpoint-3000/special_tokens_map.json\n",
      "tokenizer config file saved in qa_model/tokenizer_config.json\n",
      "Special tokens file saved in qa_model/special_tokens_map.json\n",
      "***** Running Evaluation *****\n",
      "  Num examples = 12082\n",
      "  Batch size = 16\n",
      "Saving model checkpoint to qa_model/checkpoint-3500\n",
      "Configuration saved in qa_model/checkpoint-3500/config.json\n",
      "Model weights saved in qa_model/checkpoint-3500/pytorch_model.bin\n",
      "tokenizer config file saved in qa_model/checkpoint-3500/tokenizer_config.json\n",
      "Special tokens file saved in qa_model/checkpoint-3500/special_tokens_map.json\n",
      "tokenizer config file saved in qa_model/tokenizer_config.json\n",
      "Special tokens file saved in qa_model/special_tokens_map.json\n",
      "Saving model checkpoint to qa_model/checkpoint-4000\n",
      "Configuration saved in qa_model/checkpoint-4000/config.json\n",
      "Model weights saved in qa_model/checkpoint-4000/pytorch_model.bin\n",
      "tokenizer config file saved in qa_model/checkpoint-4000/tokenizer_config.json\n",
      "Special tokens file saved in qa_model/checkpoint-4000/special_tokens_map.json\n",
      "tokenizer config file saved in qa_model/tokenizer_config.json\n",
      "Special tokens file saved in qa_model/special_tokens_map.json\n",
      "Saving model checkpoint to qa_model/checkpoint-4500\n",
      "Configuration saved in qa_model/checkpoint-4500/config.json\n",
      "Model weights saved in qa_model/checkpoint-4500/pytorch_model.bin\n",
      "tokenizer config file saved in qa_model/checkpoint-4500/tokenizer_config.json\n",
      "Special tokens file saved in qa_model/checkpoint-4500/special_tokens_map.json\n",
      "tokenizer config file saved in qa_model/tokenizer_config.json\n",
      "Special tokens file saved in qa_model/special_tokens_map.json\n",
      "Saving model checkpoint to qa_model/checkpoint-5000\n",
      "Configuration saved in qa_model/checkpoint-5000/config.json\n",
      "Model weights saved in qa_model/checkpoint-5000/pytorch_model.bin\n",
      "tokenizer config file saved in qa_model/checkpoint-5000/tokenizer_config.json\n",
      "Special tokens file saved in qa_model/checkpoint-5000/special_tokens_map.json\n",
      "tokenizer config file saved in qa_model/tokenizer_config.json\n",
      "Special tokens file saved in qa_model/special_tokens_map.json\n",
      "Saving model checkpoint to qa_model/checkpoint-5500\n",
      "Configuration saved in qa_model/checkpoint-5500/config.json\n",
      "Model weights saved in qa_model/checkpoint-5500/pytorch_model.bin\n",
      "tokenizer config file saved in qa_model/checkpoint-5500/tokenizer_config.json\n",
      "Special tokens file saved in qa_model/checkpoint-5500/special_tokens_map.json\n",
      "tokenizer config file saved in qa_model/tokenizer_config.json\n",
      "Special tokens file saved in qa_model/special_tokens_map.json\n",
      "Saving model checkpoint to qa_model/checkpoint-6000\n",
      "Configuration saved in qa_model/checkpoint-6000/config.json\n",
      "Model weights saved in qa_model/checkpoint-6000/pytorch_model.bin\n",
      "tokenizer config file saved in qa_model/checkpoint-6000/tokenizer_config.json\n",
      "Special tokens file saved in qa_model/checkpoint-6000/special_tokens_map.json\n",
      "tokenizer config file saved in qa_model/tokenizer_config.json\n",
      "Special tokens file saved in qa_model/special_tokens_map.json\n",
      "***** Running Evaluation *****\n",
      "  Num examples = 12082\n",
      "  Batch size = 16\n",
      "Saving model checkpoint to qa_model/checkpoint-6500\n",
      "Configuration saved in qa_model/checkpoint-6500/config.json\n",
      "Model weights saved in qa_model/checkpoint-6500/pytorch_model.bin\n",
      "tokenizer config file saved in qa_model/checkpoint-6500/tokenizer_config.json\n",
      "Special tokens file saved in qa_model/checkpoint-6500/special_tokens_map.json\n",
      "tokenizer config file saved in qa_model/tokenizer_config.json\n",
      "Special tokens file saved in qa_model/special_tokens_map.json\n",
      "Saving model checkpoint to qa_model/checkpoint-7000\n",
      "Configuration saved in qa_model/checkpoint-7000/config.json\n",
      "Model weights saved in qa_model/checkpoint-7000/pytorch_model.bin\n",
      "tokenizer config file saved in qa_model/checkpoint-7000/tokenizer_config.json\n",
      "Special tokens file saved in qa_model/checkpoint-7000/special_tokens_map.json\n",
      "tokenizer config file saved in qa_model/tokenizer_config.json\n",
      "Special tokens file saved in qa_model/special_tokens_map.json\n",
      "Saving model checkpoint to qa_model/checkpoint-7500\n",
      "Configuration saved in qa_model/checkpoint-7500/config.json\n",
      "Model weights saved in qa_model/checkpoint-7500/pytorch_model.bin\n",
      "tokenizer config file saved in qa_model/checkpoint-7500/tokenizer_config.json\n",
      "Special tokens file saved in qa_model/checkpoint-7500/special_tokens_map.json\n",
      "tokenizer config file saved in qa_model/tokenizer_config.json\n",
      "Special tokens file saved in qa_model/special_tokens_map.json\n",
      "Saving model checkpoint to qa_model/checkpoint-8000\n",
      "Configuration saved in qa_model/checkpoint-8000/config.json\n",
      "Model weights saved in qa_model/checkpoint-8000/pytorch_model.bin\n",
      "tokenizer config file saved in qa_model/checkpoint-8000/tokenizer_config.json\n",
      "Special tokens file saved in qa_model/checkpoint-8000/special_tokens_map.json\n",
      "tokenizer config file saved in qa_model/tokenizer_config.json\n",
      "Special tokens file saved in qa_model/special_tokens_map.json\n",
      "Saving model checkpoint to qa_model/checkpoint-8500\n",
      "Configuration saved in qa_model/checkpoint-8500/config.json\n",
      "Model weights saved in qa_model/checkpoint-8500/pytorch_model.bin\n",
      "tokenizer config file saved in qa_model/checkpoint-8500/tokenizer_config.json\n",
      "Special tokens file saved in qa_model/checkpoint-8500/special_tokens_map.json\n",
      "tokenizer config file saved in qa_model/tokenizer_config.json\n",
      "Special tokens file saved in qa_model/special_tokens_map.json\n",
      "Saving model checkpoint to qa_model/checkpoint-9000\n",
      "Configuration saved in qa_model/checkpoint-9000/config.json\n",
      "Model weights saved in qa_model/checkpoint-9000/pytorch_model.bin\n",
      "tokenizer config file saved in qa_model/checkpoint-9000/tokenizer_config.json\n",
      "Special tokens file saved in qa_model/checkpoint-9000/special_tokens_map.json\n"
     ]
    },
    {
     "name": "stderr",
     "output_type": "stream",
     "text": [
      "tokenizer config file saved in qa_model/tokenizer_config.json\n",
      "Special tokens file saved in qa_model/special_tokens_map.json\n",
      "***** Running Evaluation *****\n",
      "  Num examples = 12082\n",
      "  Batch size = 16\n",
      "\n",
      "\n",
      "Training completed. Do not forget to share your model on huggingface.co/models =)\n",
      "\n",
      "\n"
     ]
    },
    {
     "data": {
      "text/plain": [
       "TrainOutput(global_step=9063, training_loss=1.6671586973730543, metrics={'train_runtime': 36497.6571, 'train_samples_per_second': 3.972, 'train_steps_per_second': 0.248, 'total_flos': 1.4765792763391488e+16, 'train_loss': 1.6671586973730543, 'epoch': 3.0})"
      ]
     },
     "execution_count": 39,
     "metadata": {},
     "output_type": "execute_result"
    }
   ],
   "source": [
    "trainer.train()"
   ]
  },
  {
   "cell_type": "code",
   "execution_count": 47,
   "id": "1b4ed0b8",
   "metadata": {},
   "outputs": [
    {
     "data": {
      "text/plain": [
       "'장 폴 고티에가 아동복 제작을 위해 스케치를 그린 나이는?'"
      ]
     },
     "execution_count": 47,
     "metadata": {},
     "output_type": "execute_result"
    }
   ],
   "source": [
    "question"
   ]
  },
  {
   "cell_type": "code",
   "execution_count": 49,
   "id": "df88d18e",
   "metadata": {},
   "outputs": [
    {
     "data": {
      "text/plain": [
       "\"15세에 그는 아동복 제작을 위한 스케치를 그린다. 모든 의상이 마르셀 로샤(Marcel Rochas)에 의해 고안된 자크 베커(Jacques Becker)의 영화 '팔발라(Falbalas)'를 본 후에, 어린 장 폴 고티에는 디자이너가 되기로 결심한다. 그는 이브 생로랑(Yves Saint Laurent)에게 자신의 스케치들을 보내지만 거부당한다. (이브 생 로랑은 그가 선택한 색이 지나치게 밝다고 생각했다.) 그의 스케치는 피에르 가르뎅에게로 보내지고 18살이 되던 날에 피에르 가르뎅의 의상실에 견습생으로 들어가 1년이 좀 덜 되게 일한다. 1970년 11월 13일 ORTF에서 방영된 방송을 피에르 가르뎅과 함께 촬영하기도 했다.\""
      ]
     },
     "execution_count": 49,
     "metadata": {},
     "output_type": "execute_result"
    }
   ],
   "source": [
    "context"
   ]
  },
  {
   "cell_type": "code",
   "execution_count": 42,
   "id": "3616e2ac",
   "metadata": {},
   "outputs": [],
   "source": [
    "question = korquad['test'][-2]['question']\n",
    "context = korquad['test'][-2]['context']"
   ]
  },
  {
   "cell_type": "code",
   "execution_count": 43,
   "id": "a50443a6",
   "metadata": {},
   "outputs": [],
   "source": [
    "inputs = tokenizer(question, context, return_tensors=\"pt\")"
   ]
  },
  {
   "cell_type": "code",
   "execution_count": 57,
   "id": "b787dc7b",
   "metadata": {},
   "outputs": [],
   "source": [
    "with torch.no_grad():\n",
    "    outputs = model(**inputs)"
   ]
  },
  {
   "cell_type": "code",
   "execution_count": 58,
   "id": "4c6e1e21",
   "metadata": {},
   "outputs": [],
   "source": [
    "answer_start_index = outputs.start_logits.argmax()\n",
    "answer_end_index = outputs.end_logits.argmax()"
   ]
  },
  {
   "cell_type": "code",
   "execution_count": 59,
   "id": "e02df87f",
   "metadata": {},
   "outputs": [
    {
     "name": "stdout",
     "output_type": "stream",
     "text": [
      "tensor(55) tensor(56)\n"
     ]
    }
   ],
   "source": [
    "print(answer_start_index, answer_end_index)"
   ]
  },
  {
   "cell_type": "code",
   "execution_count": 60,
   "id": "5cf49a40",
   "metadata": {},
   "outputs": [
    {
     "data": {
      "text/plain": [
       "'15ᄉ'"
      ]
     },
     "execution_count": 60,
     "metadata": {},
     "output_type": "execute_result"
    }
   ],
   "source": [
    "predict_answer_tokens = inputs.input_ids[0, answer_start_index : answer_end_index + 1]\n",
    "tokenizer.decode(predict_answer_tokens)"
   ]
  }
 ],
 "metadata": {
  "kernelspec": {
   "display_name": "Python 3 (ipykernel)",
   "language": "python",
   "name": "python3"
  },
  "language_info": {
   "codemirror_mode": {
    "name": "ipython",
    "version": 3
   },
   "file_extension": ".py",
   "mimetype": "text/x-python",
   "name": "python",
   "nbconvert_exporter": "python",
   "pygments_lexer": "ipython3",
   "version": "3.8.16"
  }
 },
 "nbformat": 4,
 "nbformat_minor": 5
}
