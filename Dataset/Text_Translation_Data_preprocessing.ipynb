{
 "cells": [
  {
   "cell_type": "code",
   "execution_count": 1,
   "id": "7be2f517",
   "metadata": {},
   "outputs": [],
   "source": [
    "import pandas as pd"
   ]
  },
  {
   "cell_type": "code",
   "execution_count": 2,
   "id": "e4ddf5e4",
   "metadata": {},
   "outputs": [],
   "source": [
    "from glob import glob"
   ]
  },
  {
   "cell_type": "code",
   "execution_count": 3,
   "id": "28521140",
   "metadata": {},
   "outputs": [],
   "source": [
    "lst_csv = glob('*.csv')"
   ]
  },
  {
   "cell_type": "code",
   "execution_count": 4,
   "id": "22dda9f5",
   "metadata": {},
   "outputs": [
    {
     "data": {
      "text/plain": [
       "['1113_social_train_set_1210529.csv', '1113_social_valid_set_151316.csv']"
      ]
     },
     "execution_count": 4,
     "metadata": {},
     "output_type": "execute_result"
    }
   ],
   "source": [
    "lst_csv"
   ]
  },
  {
   "cell_type": "code",
   "execution_count": 8,
   "id": "fa5dabc9",
   "metadata": {},
   "outputs": [],
   "source": [
    "df1 = pd.read_csv(f'{lst_csv[0]}')\n",
    "df2 = pd.read_csv(f'{lst_csv[1]}')"
   ]
  },
  {
   "cell_type": "code",
   "execution_count": 9,
   "id": "7d7a80f4",
   "metadata": {},
   "outputs": [
    {
     "name": "stdout",
     "output_type": "stream",
     "text": [
      "(1210529, 13) (151316, 13)\n"
     ]
    }
   ],
   "source": [
    "print(df1.shape, df2.shape)"
   ]
  },
  {
   "cell_type": "code",
   "execution_count": 15,
   "id": "e6dab7f3",
   "metadata": {
    "scrolled": true
   },
   "outputs": [
    {
     "data": {
      "text/html": [
       "<div>\n",
       "<style scoped>\n",
       "    .dataframe tbody tr th:only-of-type {\n",
       "        vertical-align: middle;\n",
       "    }\n",
       "\n",
       "    .dataframe tbody tr th {\n",
       "        vertical-align: top;\n",
       "    }\n",
       "\n",
       "    .dataframe thead th {\n",
       "        text-align: right;\n",
       "    }\n",
       "</style>\n",
       "<table border=\"1\" class=\"dataframe\">\n",
       "  <thead>\n",
       "    <tr style=\"text-align: right;\">\n",
       "      <th></th>\n",
       "      <th>sn</th>\n",
       "      <th>file_name</th>\n",
       "      <th>data_set</th>\n",
       "      <th>domain</th>\n",
       "      <th>subdomain</th>\n",
       "      <th>source</th>\n",
       "      <th>ko</th>\n",
       "      <th>mt</th>\n",
       "      <th>en</th>\n",
       "      <th>source_language</th>\n",
       "      <th>target_language</th>\n",
       "      <th>license</th>\n",
       "      <th>style</th>\n",
       "      <th>translation</th>\n",
       "    </tr>\n",
       "  </thead>\n",
       "  <tbody>\n",
       "    <tr>\n",
       "      <th>0</th>\n",
       "      <td>SCS157A15968</td>\n",
       "      <td>OneDrive_2021-08-03/법률연구/한국법제연구원/2020/「행정기본법」의...</td>\n",
       "      <td>사회과학</td>\n",
       "      <td>법률</td>\n",
       "      <td>법률연구</td>\n",
       "      <td>한국연구재단</td>\n",
       "      <td>제2항을 함께 두는 것이 적절한지에 대하여 논의 과정에서 의문이 제기되기도 하였다.</td>\n",
       "      <td>In the course of the discussion, questions wer...</td>\n",
       "      <td>In the course of the discussion, questions wer...</td>\n",
       "      <td>ko</td>\n",
       "      <td>en</td>\n",
       "      <td>open</td>\n",
       "      <td>문어체</td>\n",
       "      <td>{'ko': '제2항을 함께 두는 것이 적절한지에 대하여 논의 과정에서 의문이 제기...</td>\n",
       "    </tr>\n",
       "    <tr>\n",
       "      <th>1</th>\n",
       "      <td>SCS159A18011</td>\n",
       "      <td>OneDrive_2021-08-03/세법/한국세무사회 부설 한국조세연구소/2013/...</td>\n",
       "      <td>사회과학</td>\n",
       "      <td>법률</td>\n",
       "      <td>세법</td>\n",
       "      <td>한국연구재단</td>\n",
       "      <td>문제는 거래가 끊어진 경우에는 실제 거래가 이뤄지지 않기 때문에 이러한 실거래가 자...</td>\n",
       "      <td>The problem is that when the transaction is br...</td>\n",
       "      <td>If the transaction is cut off, the actual tran...</td>\n",
       "      <td>ko</td>\n",
       "      <td>en</td>\n",
       "      <td>open</td>\n",
       "      <td>문어체</td>\n",
       "      <td>{'ko': '문제는 거래가 끊어진 경우에는 실제 거래가 이뤄지지 않기 때문에 이러...</td>\n",
       "    </tr>\n",
       "    <tr>\n",
       "      <th>2</th>\n",
       "      <td>SCS14D2044</td>\n",
       "      <td>TFKEPCSCS14D20202021</td>\n",
       "      <td>사회과학</td>\n",
       "      <td>법률</td>\n",
       "      <td>법률연구</td>\n",
       "      <td>한국학술정보</td>\n",
       "      <td>이러한 공공 부문 이동기기 개인 영상정보 규율의 문제점을 개선하기 위해 보호 체계 ...</td>\n",
       "      <td>In order to improve the public sector mobile d...</td>\n",
       "      <td>This discussed ways to improve the protection ...</td>\n",
       "      <td>ko</td>\n",
       "      <td>en</td>\n",
       "      <td>open</td>\n",
       "      <td>문어체</td>\n",
       "      <td>{'ko': '이러한 공공 부문 이동기기 개인 영상정보 규율의 문제점을 개선하기 위...</td>\n",
       "    </tr>\n",
       "    <tr>\n",
       "      <th>3</th>\n",
       "      <td>SCS28A5630</td>\n",
       "      <td>배타조건부 거래 유형으로서 SEP 다단계 기술실시 약정의 FRAND 확약 위반 및 ...</td>\n",
       "      <td>사회과학</td>\n",
       "      <td>법률</td>\n",
       "      <td>판례</td>\n",
       "      <td>한국학술정보</td>\n",
       "      <td>그 내용은 부품 사업자가 쉽게 알 수 없고 관여할 수 없기 때문에 중간 부품 생산자...</td>\n",
       "      <td>Since the contents are not easily understood b...</td>\n",
       "      <td>Since the contents are not easily known and in...</td>\n",
       "      <td>ko</td>\n",
       "      <td>en</td>\n",
       "      <td>open</td>\n",
       "      <td>문어체</td>\n",
       "      <td>{'ko': '그 내용은 부품 사업자가 쉽게 알 수 없고 관여할 수 없기 때문에 중...</td>\n",
       "    </tr>\n",
       "    <tr>\n",
       "      <th>4</th>\n",
       "      <td>SCS157A45551</td>\n",
       "      <td>txt\\3-3 법률연규\\민주주의법학연구회\\2016\\일본제국의 헌법과 군(軍) ― 제...</td>\n",
       "      <td>사회과학</td>\n",
       "      <td>법률</td>\n",
       "      <td>법률연구</td>\n",
       "      <td>한국연구재단</td>\n",
       "      <td>매칭정보를 획득하게 되면 통상 ‘ARP spoofing’이라는 해킹기법을 사용한다.</td>\n",
       "      <td>When matching information is obtained, a hacki...</td>\n",
       "      <td>When matching information is obtained, a hacki...</td>\n",
       "      <td>ko</td>\n",
       "      <td>en</td>\n",
       "      <td>open</td>\n",
       "      <td>문어체</td>\n",
       "      <td>{'ko': '매칭정보를 획득하게 되면 통상 ‘ARP spoofing’이라는 해킹기...</td>\n",
       "    </tr>\n",
       "  </tbody>\n",
       "</table>\n",
       "</div>"
      ],
      "text/plain": [
       "             sn                                          file_name data_set  \\\n",
       "0  SCS157A15968  OneDrive_2021-08-03/법률연구/한국법제연구원/2020/「행정기본법」의...     사회과학   \n",
       "1  SCS159A18011  OneDrive_2021-08-03/세법/한국세무사회 부설 한국조세연구소/2013/...     사회과학   \n",
       "2    SCS14D2044                               TFKEPCSCS14D20202021     사회과학   \n",
       "3    SCS28A5630  배타조건부 거래 유형으로서 SEP 다단계 기술실시 약정의 FRAND 확약 위반 및 ...     사회과학   \n",
       "4  SCS157A45551  txt\\3-3 법률연규\\민주주의법학연구회\\2016\\일본제국의 헌법과 군(軍) ― 제...     사회과학   \n",
       "\n",
       "  domain subdomain  source                                                 ko  \\\n",
       "0     법률      법률연구  한국연구재단     제2항을 함께 두는 것이 적절한지에 대하여 논의 과정에서 의문이 제기되기도 하였다.   \n",
       "1     법률        세법  한국연구재단  문제는 거래가 끊어진 경우에는 실제 거래가 이뤄지지 않기 때문에 이러한 실거래가 자...   \n",
       "2     법률      법률연구  한국학술정보  이러한 공공 부문 이동기기 개인 영상정보 규율의 문제점을 개선하기 위해 보호 체계 ...   \n",
       "3     법률        판례  한국학술정보  그 내용은 부품 사업자가 쉽게 알 수 없고 관여할 수 없기 때문에 중간 부품 생산자...   \n",
       "4     법률      법률연구  한국연구재단     매칭정보를 획득하게 되면 통상 ‘ARP spoofing’이라는 해킹기법을 사용한다.   \n",
       "\n",
       "                                                  mt  \\\n",
       "0  In the course of the discussion, questions wer...   \n",
       "1  The problem is that when the transaction is br...   \n",
       "2  In order to improve the public sector mobile d...   \n",
       "3  Since the contents are not easily understood b...   \n",
       "4  When matching information is obtained, a hacki...   \n",
       "\n",
       "                                                  en source_language  \\\n",
       "0  In the course of the discussion, questions wer...              ko   \n",
       "1  If the transaction is cut off, the actual tran...              ko   \n",
       "2  This discussed ways to improve the protection ...              ko   \n",
       "3  Since the contents are not easily known and in...              ko   \n",
       "4  When matching information is obtained, a hacki...              ko   \n",
       "\n",
       "  target_language license style  \\\n",
       "0              en    open   문어체   \n",
       "1              en    open   문어체   \n",
       "2              en    open   문어체   \n",
       "3              en    open   문어체   \n",
       "4              en    open   문어체   \n",
       "\n",
       "                                         translation  \n",
       "0  {'ko': '제2항을 함께 두는 것이 적절한지에 대하여 논의 과정에서 의문이 제기...  \n",
       "1  {'ko': '문제는 거래가 끊어진 경우에는 실제 거래가 이뤄지지 않기 때문에 이러...  \n",
       "2  {'ko': '이러한 공공 부문 이동기기 개인 영상정보 규율의 문제점을 개선하기 위...  \n",
       "3  {'ko': '그 내용은 부품 사업자가 쉽게 알 수 없고 관여할 수 없기 때문에 중...  \n",
       "4  {'ko': '매칭정보를 획득하게 되면 통상 ‘ARP spoofing’이라는 해킹기...  "
      ]
     },
     "execution_count": 15,
     "metadata": {},
     "output_type": "execute_result"
    }
   ],
   "source": [
    "df1.head()"
   ]
  },
  {
   "cell_type": "code",
   "execution_count": 13,
   "id": "e32e9e99",
   "metadata": {},
   "outputs": [
    {
     "name": "stderr",
     "output_type": "stream",
     "text": [
      "100%|████████████████████████████| 1210529/1210529 [01:13<00:00, 16458.11it/s]\n"
     ]
    }
   ],
   "source": [
    "from tqdm import tqdm\n",
    "\n",
    "for idx in tqdm(range(len(df1))):\n",
    "    df1['translation'][idx] = {'ko':df1['ko'][idx],'en':df1['en'][idx]}"
   ]
  },
  {
   "cell_type": "code",
   "execution_count": 14,
   "id": "611c222c",
   "metadata": {},
   "outputs": [
    {
     "data": {
      "text/plain": [
       "0    {'ko': '제2항을 함께 두는 것이 적절한지에 대하여 논의 과정에서 의문이 제기...\n",
       "1    {'ko': '문제는 거래가 끊어진 경우에는 실제 거래가 이뤄지지 않기 때문에 이러...\n",
       "2    {'ko': '이러한 공공 부문 이동기기 개인 영상정보 규율의 문제점을 개선하기 위...\n",
       "3    {'ko': '그 내용은 부품 사업자가 쉽게 알 수 없고 관여할 수 없기 때문에 중...\n",
       "4    {'ko': '매칭정보를 획득하게 되면 통상 ‘ARP spoofing’이라는 해킹기...\n",
       "Name: translation, dtype: object"
      ]
     },
     "execution_count": 14,
     "metadata": {},
     "output_type": "execute_result"
    }
   ],
   "source": [
    "df1['translation'].head()"
   ]
  },
  {
   "cell_type": "code",
   "execution_count": 16,
   "id": "ff84a7ba",
   "metadata": {},
   "outputs": [],
   "source": [
    "df1 = df1[['sn','translation']]"
   ]
  },
  {
   "cell_type": "code",
   "execution_count": 18,
   "id": "dd754126",
   "metadata": {},
   "outputs": [
    {
     "name": "stderr",
     "output_type": "stream",
     "text": [
      "/var/folders/jx/rdhgw4n94cvb3tl_p0k9_4br0000gn/T/ipykernel_73341/2343873520.py:1: FutureWarning: The default dtype for empty Series will be 'object' instead of 'float64' in a future version. Specify a dtype explicitly to silence this warning.\n",
      "  df2['translation'] = {}\n",
      "  0%|                                              | 0/151316 [00:00<?, ?it/s]/var/folders/jx/rdhgw4n94cvb3tl_p0k9_4br0000gn/T/ipykernel_73341/2343873520.py:3: SettingWithCopyWarning: \n",
      "A value is trying to be set on a copy of a slice from a DataFrame\n",
      "\n",
      "See the caveats in the documentation: https://pandas.pydata.org/pandas-docs/stable/user_guide/indexing.html#returning-a-view-versus-a-copy\n",
      "  df2['translation'][idx] = {'ko':df2['ko'][idx],'en':df2['en'][idx]}\n",
      "100%|█████████████████████████████| 151316/151316 [00:01<00:00, 118888.56it/s]\n"
     ]
    }
   ],
   "source": [
    "df2['translation'] = {}\n",
    "for idx in tqdm(range(len(df2))):\n",
    "    df2['translation'][idx] = {'ko':df2['ko'][idx],'en':df2['en'][idx]}"
   ]
  },
  {
   "cell_type": "code",
   "execution_count": 19,
   "id": "ece6c0a8",
   "metadata": {
    "collapsed": true
   },
   "outputs": [
    {
     "data": {
      "text/html": [
       "<div>\n",
       "<style scoped>\n",
       "    .dataframe tbody tr th:only-of-type {\n",
       "        vertical-align: middle;\n",
       "    }\n",
       "\n",
       "    .dataframe tbody tr th {\n",
       "        vertical-align: top;\n",
       "    }\n",
       "\n",
       "    .dataframe thead th {\n",
       "        text-align: right;\n",
       "    }\n",
       "</style>\n",
       "<table border=\"1\" class=\"dataframe\">\n",
       "  <thead>\n",
       "    <tr style=\"text-align: right;\">\n",
       "      <th></th>\n",
       "      <th>sn</th>\n",
       "      <th>file_name</th>\n",
       "      <th>data_set</th>\n",
       "      <th>domain</th>\n",
       "      <th>subdomain</th>\n",
       "      <th>source</th>\n",
       "      <th>ko</th>\n",
       "      <th>mt</th>\n",
       "      <th>en</th>\n",
       "      <th>source_language</th>\n",
       "      <th>target_language</th>\n",
       "      <th>license</th>\n",
       "      <th>style</th>\n",
       "      <th>translation</th>\n",
       "    </tr>\n",
       "  </thead>\n",
       "  <tbody>\n",
       "    <tr>\n",
       "      <th>0</th>\n",
       "      <td>SCS157F124607</td>\n",
       "      <td>해외 온라인서비스제공자에 대한 행정조치 방안에 관한 연구</td>\n",
       "      <td>사회과학</td>\n",
       "      <td>법률</td>\n",
       "      <td>법률연구</td>\n",
       "      <td>한국학술정보</td>\n",
       "      <td>국경 없는 인터넷의 특 성을 감안하여, 저작권법의 속지적인 특성에도 불구하고 미국 ...</td>\n",
       "      <td>Considering the nature of the Internet without...</td>\n",
       "      <td>Considering the type regarding the Internet wi...</td>\n",
       "      <td>ko</td>\n",
       "      <td>en</td>\n",
       "      <td>open</td>\n",
       "      <td>문어체</td>\n",
       "      <td>{'ko': '국경 없는 인터넷의 특 성을 감안하여, 저작권법의 속지적인 특성에도 ...</td>\n",
       "    </tr>\n",
       "    <tr>\n",
       "      <th>1</th>\n",
       "      <td>SCS118A1360</td>\n",
       "      <td>프로젝트학습과 오픈스페이스기법을 활용한 교양 경제교육 사례연구</td>\n",
       "      <td>사회과학</td>\n",
       "      <td>경제</td>\n",
       "      <td>경제경영</td>\n",
       "      <td>한국학술정보</td>\n",
       "      <td>학습자들이 제시한 건의사항을 해결하기 위해 다음과 같은 논의가 필요하다.</td>\n",
       "      <td>The following discussion is necessary to resol...</td>\n",
       "      <td>The following discussion is needed to resolve ...</td>\n",
       "      <td>ko</td>\n",
       "      <td>en</td>\n",
       "      <td>open</td>\n",
       "      <td>문어체</td>\n",
       "      <td>{'ko': '학습자들이 제시한 건의사항을 해결하기 위해 다음과 같은 논의가 필요하...</td>\n",
       "    </tr>\n",
       "    <tr>\n",
       "      <th>2</th>\n",
       "      <td>SCS06A1150</td>\n",
       "      <td>유해산출물을 고려한 국내 저축은행의 생산성비교 -Malmquist-Luenberge...</td>\n",
       "      <td>사회과학</td>\n",
       "      <td>경제</td>\n",
       "      <td>금융</td>\n",
       "      <td>한국학술정보</td>\n",
       "      <td>2011년에 발생한 저축은행 부실사태 이후 관련 연구가 종종 이뤄지고 있다.</td>\n",
       "      <td>Since the insolvency of savings banks in 2011,...</td>\n",
       "      <td>Some studies on the period after the savings b...</td>\n",
       "      <td>ko</td>\n",
       "      <td>en</td>\n",
       "      <td>open</td>\n",
       "      <td>문어체</td>\n",
       "      <td>{'ko': '2011년에 발생한 저축은행 부실사태 이후 관련 연구가 종종 이뤄지고...</td>\n",
       "    </tr>\n",
       "    <tr>\n",
       "      <th>3</th>\n",
       "      <td>SCS74A7069</td>\n",
       "      <td>지역별 가젤형 기업의 고용창출 특성 분석</td>\n",
       "      <td>사회과학</td>\n",
       "      <td>경제</td>\n",
       "      <td>경제경영</td>\n",
       "      <td>한국학술정보</td>\n",
       "      <td>기업의 성장 측정 방식을 선택함에 있어 기업 규모에 따른 편향적인 결과가 도출되는 ...</td>\n",
       "      <td>In selecting a company's growth measurement me...</td>\n",
       "      <td>In selecting a company's growth measurement me...</td>\n",
       "      <td>ko</td>\n",
       "      <td>en</td>\n",
       "      <td>open</td>\n",
       "      <td>문어체</td>\n",
       "      <td>{'ko': '기업의 성장 측정 방식을 선택함에 있어 기업 규모에 따른 편향적인 결...</td>\n",
       "    </tr>\n",
       "    <tr>\n",
       "      <th>4</th>\n",
       "      <td>SCS73B29</td>\n",
       "      <td>1인가구의 여행정보채널 이용 특성 분석과 시사점 국민여행실태조사를 바탕으로</td>\n",
       "      <td>사회과학</td>\n",
       "      <td>관광</td>\n",
       "      <td>관광학</td>\n",
       "      <td>한국학술정보</td>\n",
       "      <td>1인 여행객 중 여성은 52.3%, 남성은 47.7%로 여성이 상대적으로 나 홀로 ...</td>\n",
       "      <td>Among solo travelers, 52.3% were female and 47...</td>\n",
       "      <td>Among solo travelers, 52.3% were female and 47...</td>\n",
       "      <td>ko</td>\n",
       "      <td>en</td>\n",
       "      <td>open</td>\n",
       "      <td>문어체</td>\n",
       "      <td>{'ko': '1인 여행객 중 여성은 52.3%, 남성은 47.7%로 여성이 상대적...</td>\n",
       "    </tr>\n",
       "  </tbody>\n",
       "</table>\n",
       "</div>"
      ],
      "text/plain": [
       "              sn                                          file_name data_set  \\\n",
       "0  SCS157F124607                    해외 온라인서비스제공자에 대한 행정조치 방안에 관한 연구     사회과학   \n",
       "1    SCS118A1360                 프로젝트학습과 오픈스페이스기법을 활용한 교양 경제교육 사례연구     사회과학   \n",
       "2     SCS06A1150  유해산출물을 고려한 국내 저축은행의 생산성비교 -Malmquist-Luenberge...     사회과학   \n",
       "3     SCS74A7069                             지역별 가젤형 기업의 고용창출 특성 분석     사회과학   \n",
       "4       SCS73B29          1인가구의 여행정보채널 이용 특성 분석과 시사점 국민여행실태조사를 바탕으로     사회과학   \n",
       "\n",
       "  domain subdomain  source                                                 ko  \\\n",
       "0     법률      법률연구  한국학술정보  국경 없는 인터넷의 특 성을 감안하여, 저작권법의 속지적인 특성에도 불구하고 미국 ...   \n",
       "1     경제      경제경영  한국학술정보           학습자들이 제시한 건의사항을 해결하기 위해 다음과 같은 논의가 필요하다.   \n",
       "2     경제        금융  한국학술정보         2011년에 발생한 저축은행 부실사태 이후 관련 연구가 종종 이뤄지고 있다.   \n",
       "3     경제      경제경영  한국학술정보  기업의 성장 측정 방식을 선택함에 있어 기업 규모에 따른 편향적인 결과가 도출되는 ...   \n",
       "4     관광       관광학  한국학술정보  1인 여행객 중 여성은 52.3%, 남성은 47.7%로 여성이 상대적으로 나 홀로 ...   \n",
       "\n",
       "                                                  mt  \\\n",
       "0  Considering the nature of the Internet without...   \n",
       "1  The following discussion is necessary to resol...   \n",
       "2  Since the insolvency of savings banks in 2011,...   \n",
       "3  In selecting a company's growth measurement me...   \n",
       "4  Among solo travelers, 52.3% were female and 47...   \n",
       "\n",
       "                                                  en source_language  \\\n",
       "0  Considering the type regarding the Internet wi...              ko   \n",
       "1  The following discussion is needed to resolve ...              ko   \n",
       "2  Some studies on the period after the savings b...              ko   \n",
       "3  In selecting a company's growth measurement me...              ko   \n",
       "4  Among solo travelers, 52.3% were female and 47...              ko   \n",
       "\n",
       "  target_language license style  \\\n",
       "0              en    open   문어체   \n",
       "1              en    open   문어체   \n",
       "2              en    open   문어체   \n",
       "3              en    open   문어체   \n",
       "4              en    open   문어체   \n",
       "\n",
       "                                         translation  \n",
       "0  {'ko': '국경 없는 인터넷의 특 성을 감안하여, 저작권법의 속지적인 특성에도 ...  \n",
       "1  {'ko': '학습자들이 제시한 건의사항을 해결하기 위해 다음과 같은 논의가 필요하...  \n",
       "2  {'ko': '2011년에 발생한 저축은행 부실사태 이후 관련 연구가 종종 이뤄지고...  \n",
       "3  {'ko': '기업의 성장 측정 방식을 선택함에 있어 기업 규모에 따른 편향적인 결...  \n",
       "4  {'ko': '1인 여행객 중 여성은 52.3%, 남성은 47.7%로 여성이 상대적...  "
      ]
     },
     "execution_count": 19,
     "metadata": {},
     "output_type": "execute_result"
    }
   ],
   "source": [
    "df2.head()"
   ]
  },
  {
   "cell_type": "code",
   "execution_count": 20,
   "id": "794b6f52",
   "metadata": {},
   "outputs": [],
   "source": [
    "df2 = df2[['sn','translation']]"
   ]
  },
  {
   "cell_type": "code",
   "execution_count": 22,
   "id": "3203406d",
   "metadata": {
    "scrolled": true
   },
   "outputs": [],
   "source": [
    "df = df1.iloc[:10000]"
   ]
  },
  {
   "cell_type": "code",
   "execution_count": 23,
   "id": "84d340bf",
   "metadata": {},
   "outputs": [],
   "source": [
    "from datasets import Dataset\n",
    "\n",
    "dataset = Dataset.from_pandas(df)"
   ]
  },
  {
   "cell_type": "code",
   "execution_count": 24,
   "id": "a0512bc8",
   "metadata": {},
   "outputs": [],
   "source": [
    "dataset = dataset.train_test_split(test_size=0.2)"
   ]
  },
  {
   "cell_type": "code",
   "execution_count": 25,
   "id": "fbb510c6",
   "metadata": {},
   "outputs": [
    {
     "name": "stdout",
     "output_type": "stream",
     "text": [
      "Token is valid.\n",
      "Your token has been saved in your configured git credential helpers (osxkeychain).\n",
      "Your token has been saved to /Users/hansol/.cache/huggingface/token\n",
      "Login successful\n"
     ]
    }
   ],
   "source": [
    "from huggingface_hub import notebook_login\n",
    "\n",
    "notebook_login()"
   ]
  },
  {
   "cell_type": "code",
   "execution_count": 26,
   "id": "7575538f",
   "metadata": {},
   "outputs": [
    {
     "name": "stderr",
     "output_type": "stream",
     "text": [
      "Pushing split train to the Hub.\n"
     ]
    },
    {
     "data": {
      "application/vnd.jupyter.widget-view+json": {
       "model_id": "e6187346b633457a9bdd58877e2eadd1",
       "version_major": 2,
       "version_minor": 0
      },
      "text/plain": [
       "Pushing dataset shards to the dataset hub:   0%|          | 0/1 [00:00<?, ?it/s]"
      ]
     },
     "metadata": {},
     "output_type": "display_data"
    },
    {
     "data": {
      "application/vnd.jupyter.widget-view+json": {
       "model_id": "b50eb66bf4274d6e84b58db6fda96895",
       "version_major": 2,
       "version_minor": 0
      },
      "text/plain": [
       "Creating parquet from Arrow format:   0%|          | 0/8 [00:00<?, ?ba/s]"
      ]
     },
     "metadata": {},
     "output_type": "display_data"
    },
    {
     "data": {
      "application/vnd.jupyter.widget-view+json": {
       "model_id": "137f508adb3a468eae942f3179e9fd5d",
       "version_major": 2,
       "version_minor": 0
      },
      "text/plain": [
       "Upload 1 LFS files:   0%|          | 0/1 [00:00<?, ?it/s]"
      ]
     },
     "metadata": {},
     "output_type": "display_data"
    },
    {
     "name": "stderr",
     "output_type": "stream",
     "text": [
      "Pushing split test to the Hub.\n"
     ]
    },
    {
     "data": {
      "application/vnd.jupyter.widget-view+json": {
       "model_id": "eb04c8c1f5424c14bc27c932feeb1443",
       "version_major": 2,
       "version_minor": 0
      },
      "text/plain": [
       "Pushing dataset shards to the dataset hub:   0%|          | 0/1 [00:00<?, ?it/s]"
      ]
     },
     "metadata": {},
     "output_type": "display_data"
    },
    {
     "data": {
      "application/vnd.jupyter.widget-view+json": {
       "model_id": "4144d1d090ed4be4bfeacb9a3fb562eb",
       "version_major": 2,
       "version_minor": 0
      },
      "text/plain": [
       "Creating parquet from Arrow format:   0%|          | 0/2 [00:00<?, ?ba/s]"
      ]
     },
     "metadata": {},
     "output_type": "display_data"
    },
    {
     "data": {
      "application/vnd.jupyter.widget-view+json": {
       "model_id": "4256715e855c41bf8c131758d7df562a",
       "version_major": 2,
       "version_minor": 0
      },
      "text/plain": [
       "Upload 1 LFS files:   0%|          | 0/1 [00:00<?, ?it/s]"
      ]
     },
     "metadata": {},
     "output_type": "display_data"
    }
   ],
   "source": [
    "dataset.push_to_hub(\"Hansollll/Translation\")"
   ]
  },
  {
   "cell_type": "code",
   "execution_count": null,
   "id": "ad54efee",
   "metadata": {},
   "outputs": [],
   "source": []
  }
 ],
 "metadata": {
  "kernelspec": {
   "display_name": "Python 3 (ipykernel)",
   "language": "python",
   "name": "python3"
  },
  "language_info": {
   "codemirror_mode": {
    "name": "ipython",
    "version": 3
   },
   "file_extension": ".py",
   "mimetype": "text/x-python",
   "name": "python",
   "nbconvert_exporter": "python",
   "pygments_lexer": "ipython3",
   "version": "3.8.16"
  }
 },
 "nbformat": 4,
 "nbformat_minor": 5
}
