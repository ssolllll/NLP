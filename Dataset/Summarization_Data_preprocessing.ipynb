{
 "cells": [
  {
   "cell_type": "code",
   "execution_count": 5,
   "id": "0f45bc9f",
   "metadata": {},
   "outputs": [],
   "source": [
    "import os\n",
    "import json\n",
    "import pandas as pd\n",
    "from glob import glob"
   ]
  },
  {
   "cell_type": "code",
   "execution_count": 9,
   "id": "aa873e50",
   "metadata": {},
   "outputs": [],
   "source": [
    "data_path = '01.데이터/1.Training/라벨링데이터/TL1/*'"
   ]
  },
  {
   "cell_type": "code",
   "execution_count": 11,
   "id": "4bad1932",
   "metadata": {},
   "outputs": [],
   "source": [
    "lst_dir = glob(data_path)"
   ]
  },
  {
   "cell_type": "code",
   "execution_count": 15,
   "id": "df951ce7",
   "metadata": {},
   "outputs": [
    {
     "data": {
      "text/plain": [
       "'01.데이터/1.Training/라벨링데이터/TL1/09.literature'"
      ]
     },
     "execution_count": 15,
     "metadata": {},
     "output_type": "execute_result"
    }
   ],
   "source": [
    "lst_dir[0]"
   ]
  },
  {
   "cell_type": "code",
   "execution_count": 17,
   "id": "04cf0bea",
   "metadata": {},
   "outputs": [
    {
     "data": {
      "text/plain": [
       "'01.데이터/1.Training/라벨링데이터/TL1/09.literature/*.json'"
      ]
     },
     "execution_count": 17,
     "metadata": {},
     "output_type": "execute_result"
    }
   ],
   "source": [
    "lst_dir[0]+'/*.json'"
   ]
  },
  {
   "cell_type": "code",
   "execution_count": 22,
   "id": "7a52ae66",
   "metadata": {},
   "outputs": [],
   "source": [
    "lst_json = glob(lst_dir[0]+'/2~3sent/*.json')"
   ]
  },
  {
   "cell_type": "code",
   "execution_count": 35,
   "id": "d33a3b44",
   "metadata": {
    "scrolled": true
   },
   "outputs": [],
   "source": [
    "with open(f'{lst_json[1]}','r',encoding='utf-8') as f:\n",
    "    data = json.load(f)"
   ]
  },
  {
   "cell_type": "code",
   "execution_count": 36,
   "id": "11df562d",
   "metadata": {},
   "outputs": [
    {
     "data": {
      "text/plain": [
       "{'Meta(Acqusition)': {'doc_id': 'REPORT-literature-05509',\n",
       "  'doc_category': 'REPORT',\n",
       "  'doc_type': 'literature',\n",
       "  'doc_name': '여자의 일생',\n",
       "  'author': '채만식',\n",
       "  'publisher': None,\n",
       "  'publisher_year': None,\n",
       "  'doc_origin': '저작권위원회'},\n",
       " 'Meta(Refine)': {'passage_id': 'REPORT-literature-05509-05509',\n",
       "  'passage': '불같이 급하고 서리같이 매서운 성질이면서 아울러 의리가 굳고 심히 호협 한 기개가 있었다. 거상에 그는 재물을 의리보다 가볍게 다루었다.\\n이 호협한 기개는 작은 것이나 구차한 것에 만족치 아니하고 크고 떳떳한 것을 부단히 경륜하는 야심과 서로‘방패의 반면’같은 관계성을 가지는 것 이었었다.\\n조선이 일본에게 합방이 되던 한국 말년 바로전부터 조선에는 세 가지의 큰 사회적 움직임이 머리를 들기 시작하였다. 국민의 정치에의 관심이 그 하나요, 산업 즉 경제에의 관심이 그 하나요, 새로운 학문 즉 문화에의 관 심이 그 하나요 하였다.\\n이 세 가지 관심 가운데 정치적인 것은 정복자의‘게다’짝에 짓밟혀 버렸 고.\\n경제에의 관심과 문화에의 관심은 그것 역시 정복자의 핍박이 노상 없었던 바는 아니나, 그래서 부득불 기형적이기는 하였으나 아무튼 현실에로 발전 을 하여 나아갔다.\\n창수는 처음 그 새로운 학문에의 뜨거운 지향이 그와 같이 가정적인 사정 으로 인하여 일단 꺽이게 되자 고향으로 돌아온 그는‘그러면 당분간 아 직……’이라는 생각으로 경제 방면으로 행동 방향을 바꾸었다. 작년부터 시작한 매갈이가 그것이었다. 매갈잇간(玄米工場[현미공장])을 설시하여 놓 고 자가(自家) 추수는 물론이요 농민에게서랑 지주에게서 벼를 사 모으면서 일변 현미로 갈아서 실어내다 파는 것이 매갈이라는 것이었다.\\n선비의 솜씨요 또 첫시험이라 작년에는 적지 아니한 손을 보았으나 금년에 도 계속하여 이른벼부터 매일 수십 석씩 더러는 백여 석씩 자꾸자꾸 사서 주야로 현미를 뽑아 연방 ××항(××港)으로 실어내고 하는 참이었다. 그 러느라고 자행거까지 사놓고 하루 걸러큼씩 ××항엘 나다니곤 하였다.\\n',\n",
       "  'passage_Cnt': 825},\n",
       " 'Annotation': {'summary1': '조선에는 국민에 정치, 경제, 문화에의 관심 세 가지의 큰 사회적 움직임이 한국 말년 바로 전부터 머리를 들었으며 부득불 기형적이긴 해도 경제와 문화에의 관심은 발전을 해나갔다.',\n",
       "  'summary2': '조선이 일본에게 합방이 되던 한국 말년 바로전부터 조선에는 세 가지의 큰 사회적 움직임이 머리를 들기 시작하였다. 국민의 정치에의 관심이 그 하나요, 산업 즉 경제에의 관심이 그 하나요, 새로운 학문 즉 문화에의 관 심이 그 하나요 하였다. 경제에의 관심과 문화에의 관심은 그것 역시 정복자의 핍박이 노상 없었던 바는 아니나, 그래서 부득불 기형적이기는 하였으나 아무튼 현실에로 발전 을 하여 나아갔다.',\n",
       "  'summary3': None,\n",
       "  'summary_3_cnt': None}}"
      ]
     },
     "execution_count": 36,
     "metadata": {},
     "output_type": "execute_result"
    }
   ],
   "source": [
    "data"
   ]
  },
  {
   "cell_type": "code",
   "execution_count": 37,
   "id": "1064a24e",
   "metadata": {},
   "outputs": [],
   "source": [
    "columns = ['title','text','summary']\n",
    "df = pd.DataFrame(columns= columns)"
   ]
  },
  {
   "cell_type": "code",
   "execution_count": 41,
   "id": "97132736",
   "metadata": {},
   "outputs": [],
   "source": [
    "dir_1 = ['01.데이터/1.Training/라벨링데이터/TL1',\n",
    "         '01.데이터/2.Validation/라벨링데이터/VL1']"
   ]
  },
  {
   "cell_type": "code",
   "execution_count": 43,
   "id": "bce07800",
   "metadata": {},
   "outputs": [
    {
     "data": {
      "text/plain": [
       "[['01.데이터/1.Training/라벨링데이터/TL1/09.literature',\n",
       "  '01.데이터/1.Training/라벨링데이터/TL1/10.narration',\n",
       "  '01.데이터/1.Training/라벨링데이터/TL1/02.briefing',\n",
       "  '01.데이터/1.Training/라벨링데이터/TL1/06.edit',\n",
       "  '01.데이터/1.Training/라벨링데이터/TL1/05.minute',\n",
       "  '01.데이터/1.Training/라벨링데이터/TL1/08.speech',\n",
       "  '01.데이터/1.Training/라벨링데이터/TL1/07.public',\n",
       "  '01.데이터/1.Training/라벨링데이터/TL1/01.news_r',\n",
       "  '01.데이터/1.Training/라벨링데이터/TL1/04.paper',\n",
       "  '01.데이터/1.Training/라벨링데이터/TL1/03.his_cul'],\n",
       " ['01.데이터/2.Validation/라벨링데이터/VL1/09.literature',\n",
       "  '01.데이터/2.Validation/라벨링데이터/VL1/10.narration',\n",
       "  '01.데이터/2.Validation/라벨링데이터/VL1/02.briefing',\n",
       "  '01.데이터/2.Validation/라벨링데이터/VL1/06.edit',\n",
       "  '01.데이터/2.Validation/라벨링데이터/VL1/05.minute',\n",
       "  '01.데이터/2.Validation/라벨링데이터/VL1/08.speech',\n",
       "  '01.데이터/2.Validation/라벨링데이터/VL1/07.public',\n",
       "  '01.데이터/2.Validation/라벨링데이터/VL1/01.news_r',\n",
       "  '01.데이터/2.Validation/라벨링데이터/VL1/04.paper',\n",
       "  '01.데이터/2.Validation/라벨링데이터/VL1/03.his_cul']]"
      ]
     },
     "execution_count": 43,
     "metadata": {},
     "output_type": "execute_result"
    }
   ],
   "source": [
    "dir_2_1 = dir_1[0]+'/*'\n",
    "dir_2_2 = dir_1[1]+'/*'\n",
    "dir_2 = [glob(dir_2_1),glob(dir_2_2)]\n",
    "dir_2"
   ]
  },
  {
   "cell_type": "code",
   "execution_count": 59,
   "id": "c8cdc977",
   "metadata": {},
   "outputs": [],
   "source": [
    "import numpy as np\n",
    "\n",
    "lst_dir = list(np.array(dir_2).reshape(-1,))"
   ]
  },
  {
   "cell_type": "code",
   "execution_count": 90,
   "id": "2c020b76",
   "metadata": {},
   "outputs": [],
   "source": [
    "dir_3 = ['/2~3sent/*.json','/20per/*.json']"
   ]
  },
  {
   "cell_type": "code",
   "execution_count": 70,
   "id": "760120de",
   "metadata": {},
   "outputs": [
    {
     "data": {
      "text/plain": [
       "'01.데이터/1.Training/라벨링데이터/TL1/09.literature'"
      ]
     },
     "execution_count": 70,
     "metadata": {},
     "output_type": "execute_result"
    }
   ],
   "source": [
    "lst_dir[0]"
   ]
  },
  {
   "cell_type": "code",
   "execution_count": 71,
   "id": "70b8afd1",
   "metadata": {},
   "outputs": [
    {
     "data": {
      "text/plain": [
       "'/2-3sent/*.json'"
      ]
     },
     "execution_count": 71,
     "metadata": {},
     "output_type": "execute_result"
    }
   ],
   "source": [
    "dir_3[0]"
   ]
  },
  {
   "cell_type": "code",
   "execution_count": 93,
   "id": "c91067bb",
   "metadata": {},
   "outputs": [],
   "source": [
    "from tqdm import tqdm"
   ]
  },
  {
   "cell_type": "code",
   "execution_count": 96,
   "id": "cbb6fbba",
   "metadata": {
    "scrolled": true
   },
   "outputs": [
    {
     "name": "stderr",
     "output_type": "stream",
     "text": [
      "  0%|                                                    | 0/20 [00:00<?, ?it/s]\n",
      "  0%|                                                     | 0/2 [00:00<?, ?it/s]\u001b[A\n",
      " 50%|██████████████████████▌                      | 1/2 [00:00<00:00,  1.19it/s]\u001b[A\n",
      "100%|█████████████████████████████████████████████| 2/2 [00:01<00:00,  1.17it/s]\u001b[A\n",
      "  5%|██▏                                         | 1/20 [00:01<00:32,  1.71s/it]\n",
      "  0%|                                                     | 0/2 [00:00<?, ?it/s]\u001b[A\n",
      " 50%|██████████████████████▌                      | 1/2 [00:00<00:00,  1.48it/s]\u001b[A\n",
      "100%|█████████████████████████████████████████████| 2/2 [00:01<00:00,  1.46it/s]\u001b[A\n",
      " 10%|████▍                                       | 2/20 [00:03<00:27,  1.51s/it]\n",
      "  0%|                                                     | 0/2 [00:00<?, ?it/s]\u001b[A\n",
      " 50%|██████████████████████▌                      | 1/2 [00:01<00:01,  1.37s/it]\u001b[A\n",
      "100%|█████████████████████████████████████████████| 2/2 [00:02<00:00,  1.37s/it]\u001b[A\n",
      " 15%|██████▌                                     | 3/20 [00:05<00:35,  2.07s/it]\n",
      "  0%|                                                     | 0/2 [00:00<?, ?it/s]\u001b[A\n",
      " 50%|██████████████████████▌                      | 1/2 [00:00<00:00,  1.48it/s]\u001b[A\n",
      "100%|█████████████████████████████████████████████| 2/2 [00:01<00:00,  1.50it/s]\u001b[A\n",
      " 20%|████████▊                                   | 4/20 [00:07<00:28,  1.78s/it]\n",
      "  0%|                                                     | 0/2 [00:00<?, ?it/s]\u001b[A\n",
      " 50%|██████████████████████▌                      | 1/2 [00:02<00:02,  2.38s/it]\u001b[A\n",
      "100%|█████████████████████████████████████████████| 2/2 [00:08<00:00,  4.34s/it]\u001b[A\n",
      " 25%|███████████                                 | 5/20 [00:15<01:04,  4.27s/it]\n",
      "  0%|                                                     | 0/2 [00:00<?, ?it/s]\u001b[A\n",
      " 50%|██████████████████████▌                      | 1/2 [01:13<01:13, 73.29s/it]\u001b[A\n",
      "100%|█████████████████████████████████████████████| 2/2 [02:40<00:00, 80.42s/it]\u001b[A\n",
      " 30%|█████████████▏                              | 6/20 [02:56<13:25, 57.50s/it]\n",
      "  0%|                                                     | 0/2 [00:00<?, ?it/s]\u001b[A\n",
      " 50%|██████████████████████▌                      | 1/2 [00:24<00:24, 24.20s/it]\u001b[A\n",
      "100%|█████████████████████████████████████████████| 2/2 [00:49<00:00, 24.74s/it]\u001b[A\n",
      " 35%|███████████████▍                            | 7/20 [03:46<11:53, 54.88s/it]\n",
      "  0%|                                                     | 0/2 [00:00<?, ?it/s]\u001b[A\n",
      " 50%|██████████████████████▌                      | 1/2 [01:11<01:11, 71.94s/it]\u001b[A\n",
      "100%|█████████████████████████████████████████████| 2/2 [02:30<00:00, 75.25s/it]\u001b[A\n",
      " 40%|█████████████████▌                          | 8/20 [06:16<17:03, 85.32s/it]\n",
      "  0%|                                                     | 0/2 [00:00<?, ?it/s]\u001b[A\n",
      " 50%|██████████████████████▌                      | 1/2 [00:30<00:30, 30.40s/it]\u001b[A\n",
      "100%|█████████████████████████████████████████████| 2/2 [01:01<00:00, 30.86s/it]\u001b[A\n",
      " 45%|███████████████████▊                        | 9/20 [07:18<14:17, 77.95s/it]\n",
      "  0%|                                                     | 0/2 [00:00<?, ?it/s]\u001b[A\n",
      " 50%|██████████████████████▌                      | 1/2 [00:31<00:31, 31.99s/it]\u001b[A\n",
      "100%|█████████████████████████████████████████████| 2/2 [01:05<00:00, 32.50s/it]\u001b[A\n",
      " 50%|█████████████████████▌                     | 10/20 [08:23<12:19, 73.95s/it]\n",
      "  0%|                                                     | 0/2 [00:00<?, ?it/s]\u001b[A\n",
      " 50%|██████████████████████▌                      | 1/2 [00:04<00:04,  4.96s/it]\u001b[A\n",
      "100%|█████████████████████████████████████████████| 2/2 [00:09<00:00,  4.98s/it]\u001b[A\n",
      " 55%|███████████████████████▋                   | 11/20 [08:33<08:09, 54.36s/it]\n",
      "  0%|                                                     | 0/2 [00:00<?, ?it/s]\u001b[A\n",
      " 50%|██████████████████████▌                      | 1/2 [00:04<00:04,  4.13s/it]\u001b[A\n",
      "100%|█████████████████████████████████████████████| 2/2 [00:08<00:00,  4.14s/it]\u001b[A\n",
      " 60%|█████████████████████████▊                 | 12/20 [08:41<05:22, 40.35s/it]\n",
      "  0%|                                                     | 0/2 [00:00<?, ?it/s]\u001b[A\n",
      " 50%|██████████████████████▌                      | 1/2 [00:08<00:08,  8.36s/it]\u001b[A\n",
      "100%|█████████████████████████████████████████████| 2/2 [00:16<00:00,  8.45s/it]\u001b[A\n",
      " 65%|███████████████████████████▉               | 13/20 [08:58<03:52, 33.25s/it]\n",
      "  0%|                                                     | 0/2 [00:00<?, ?it/s]\u001b[A\n",
      " 50%|██████████████████████▌                      | 1/2 [00:04<00:04,  4.22s/it]\u001b[A\n",
      "100%|█████████████████████████████████████████████| 2/2 [00:08<00:00,  4.21s/it]\u001b[A\n",
      " 70%|██████████████████████████████             | 14/20 [09:06<02:34, 25.75s/it]\n",
      "  0%|                                                     | 0/2 [00:00<?, ?it/s]\u001b[A\n",
      " 50%|██████████████████████▌                      | 1/2 [00:14<00:14, 14.74s/it]\u001b[A\n",
      "100%|█████████████████████████████████████████████| 2/2 [00:29<00:00, 14.68s/it]\u001b[A\n",
      " 75%|████████████████████████████████▎          | 15/20 [09:36<02:14, 26.84s/it]\n",
      "  0%|                                                     | 0/2 [00:00<?, ?it/s]\u001b[A\n",
      " 50%|██████████████████████▌                      | 1/2 [00:17<00:17, 17.47s/it]\u001b[A\n",
      "100%|█████████████████████████████████████████████| 2/2 [00:35<00:00, 17.63s/it]\u001b[A\n",
      " 80%|██████████████████████████████████▍        | 16/20 [10:11<01:57, 29.37s/it]\n",
      "  0%|                                                     | 0/2 [00:00<?, ?it/s]\u001b[A\n",
      " 50%|██████████████████████▌                      | 1/2 [00:04<00:04,  4.43s/it]\u001b[A\n",
      "100%|█████████████████████████████████████████████| 2/2 [00:08<00:00,  4.44s/it]\u001b[A\n",
      " 85%|████████████████████████████████████▌      | 17/20 [10:20<01:09, 23.21s/it]\n",
      "  0%|                                                     | 0/2 [00:00<?, ?it/s]\u001b[A\n",
      " 50%|██████████████████████▌                      | 1/2 [00:12<00:12, 12.42s/it]\u001b[A\n",
      "100%|█████████████████████████████████████████████| 2/2 [00:25<00:00, 12.52s/it]\u001b[A\n",
      " 90%|██████████████████████████████████████▋    | 18/20 [10:45<00:47, 23.76s/it]\n",
      "  0%|                                                     | 0/2 [00:00<?, ?it/s]\u001b[A\n",
      " 50%|██████████████████████▌                      | 1/2 [00:04<00:04,  4.54s/it]\u001b[A\n",
      "100%|█████████████████████████████████████████████| 2/2 [00:09<00:00,  4.55s/it]\u001b[A\n",
      " 95%|████████████████████████████████████████▊  | 19/20 [10:54<00:19, 19.36s/it]\n",
      "  0%|                                                     | 0/2 [00:00<?, ?it/s]\u001b[A\n",
      " 50%|██████████████████████▌                      | 1/2 [00:04<00:04,  4.60s/it]\u001b[A\n",
      "100%|█████████████████████████████████████████████| 2/2 [00:09<00:00,  4.59s/it]\u001b[A\n",
      "100%|███████████████████████████████████████████| 20/20 [11:03<00:00, 33.19s/it]\n"
     ]
    }
   ],
   "source": [
    "i = 0\n",
    "for d in tqdm(lst_dir):\n",
    "    for js in tqdm(dir_3):\n",
    "        lst = glob(d+js)\n",
    "        for l in lst:\n",
    "            with open(f'{l}','r',encoding='utf-8') as f:\n",
    "                data = json.load(f)\n",
    "            df.loc[i] = [data['Meta(Acqusition)']['doc_name'],\n",
    "                          data['Meta(Refine)']['passage'],\n",
    "                          data['Annotation']['summary1']]\n",
    "            i += 1"
   ]
  },
  {
   "cell_type": "code",
   "execution_count": 102,
   "id": "dce528d2",
   "metadata": {},
   "outputs": [],
   "source": [
    "df.reset_index(inplace=True,drop=True)"
   ]
  },
  {
   "cell_type": "code",
   "execution_count": 137,
   "id": "e9658c9b",
   "metadata": {},
   "outputs": [
    {
     "data": {
      "text/plain": [
       "제20대 국회 법제사법위원회 회의록 데이터셋.csv                   4273\n",
       "제19대 국회 법제사법위원회 회의록 데이터셋.csv                   3476\n",
       "제20대 국회 기획재정위원회 회의록 데이터셋.csv                   3072\n",
       "제20대 국회 농림축산식품해양수산위원회 회의록 데이터셋.csv             2815\n",
       "일요진단 라이브                                       2200\n",
       "                                               ... \n",
       "4년간 묵혔던 심전도계…규제 풀리니 1년만에 133억원 투자유치               1\n",
       "200901 (개방교류과) 개방형 민간 임용자, 우수 성과내면 특별승진.hwp       1\n",
       "200928_소상공인_새희망자금_지급_현황(소상공인정책과).hwp              1\n",
       "소ㆍ부ㆍ장 밀어주기 가속화…해외 소재 기업 인수하면 세금 감면                1\n",
       "서울 영은문 주초 (서울 迎恩門 柱礎)                             1\n",
       "Name: title, Length: 63972, dtype: int64"
      ]
     },
     "execution_count": 137,
     "metadata": {},
     "output_type": "execute_result"
    }
   ],
   "source": [
    "df.title.value_counts()"
   ]
  },
  {
   "cell_type": "code",
   "execution_count": 140,
   "id": "d87cde4c",
   "metadata": {},
   "outputs": [],
   "source": [
    "lst_idx = df.title.value_counts().index[:4]"
   ]
  },
  {
   "cell_type": "code",
   "execution_count": 143,
   "id": "adef2ca3",
   "metadata": {},
   "outputs": [],
   "source": [
    "df = df.iloc[:5000]"
   ]
  },
  {
   "cell_type": "code",
   "execution_count": 144,
   "id": "04e1efd2",
   "metadata": {},
   "outputs": [
    {
     "data": {
      "text/html": [
       "<div>\n",
       "<style scoped>\n",
       "    .dataframe tbody tr th:only-of-type {\n",
       "        vertical-align: middle;\n",
       "    }\n",
       "\n",
       "    .dataframe tbody tr th {\n",
       "        vertical-align: top;\n",
       "    }\n",
       "\n",
       "    .dataframe thead th {\n",
       "        text-align: right;\n",
       "    }\n",
       "</style>\n",
       "<table border=\"1\" class=\"dataframe\">\n",
       "  <thead>\n",
       "    <tr style=\"text-align: right;\">\n",
       "      <th></th>\n",
       "      <th>title</th>\n",
       "      <th>text</th>\n",
       "      <th>summary</th>\n",
       "    </tr>\n",
       "  </thead>\n",
       "  <tbody>\n",
       "    <tr>\n",
       "      <th>0</th>\n",
       "      <td>보석반지</td>\n",
       "      <td>나는 그 모든 소리를 들을 때에 꽃다운 혜경의 장래에 대한 동정심과 아울 러 최 ...</td>\n",
       "      <td>최 목사와 한 달 반쯤 남은 혜경이의 혼례식에 나는 혜경이와 아무 관계도 없건 만 ...</td>\n",
       "    </tr>\n",
       "    <tr>\n",
       "      <th>1</th>\n",
       "      <td>여자의 일생</td>\n",
       "      <td>불같이 급하고 서리같이 매서운 성질이면서 아울러 의리가 굳고 심히 호협 한 기개가 ...</td>\n",
       "      <td>조선에는 국민에 정치, 경제, 문화에의 관심 세 가지의 큰 사회적 움직임이 한국 말...</td>\n",
       "    </tr>\n",
       "    <tr>\n",
       "      <th>2</th>\n",
       "      <td>예술가와 모델</td>\n",
       "      <td>정현웅 언젠가 미술연구소에서 모델 구한다는 광고를 신문에 냈더니만 어떤 내지 여자...</td>\n",
       "      <td>아버지는 독일계의 노서야 사람이고 어머니가 조선 기생인 헤렌이라는 여자를 꾀어 모델...</td>\n",
       "    </tr>\n",
       "    <tr>\n",
       "      <th>3</th>\n",
       "      <td>명문</td>\n",
       "      <td>“네. 며칠 전에 거리에 서 있노라니깐 지나가는 사람들의 이야기에, 아버 님께서 ...</td>\n",
       "      <td>아버님이 불쌍한 사람에게 기부하신 일이 신문에 났다는 이야기를 들은 그는 어느 예배...</td>\n",
       "    </tr>\n",
       "    <tr>\n",
       "      <th>4</th>\n",
       "      <td>배비장(裵裨將)</td>\n",
       "      <td>9 밤 이경 때에 차돌이놈이 무엇인지 보꾸러미를 어깨에 메고 왔다. 배비장은 의관을...</td>\n",
       "      <td>차돌이는 배비장이 의관을 정제한 것을 보고 개가죽 두루마기와 노벙거지를 보여주었다.</td>\n",
       "    </tr>\n",
       "    <tr>\n",
       "      <th>...</th>\n",
       "      <td>...</td>\n",
       "      <td>...</td>\n",
       "      <td>...</td>\n",
       "    </tr>\n",
       "    <tr>\n",
       "      <th>4995</th>\n",
       "      <td>독백</td>\n",
       "      <td>독 백 아침에 세수할 때 어디서 날아왔는지 버들잎새 한 잎 대야물 위에 떨어진 것을...</td>\n",
       "      <td>반쯤 썩어져 버린 글라디올러스와 홍초는 가을 화초로 부적당하고 로탄제야 말로 가을의...</td>\n",
       "    </tr>\n",
       "    <tr>\n",
       "      <th>4996</th>\n",
       "      <td>성군</td>\n",
       "      <td>“갑자기 이게 웬일이요?” 채영이는 그를 보자 비웃었다.\\n“흥!” 문가는 멋쩍은 ...</td>\n",
       "      <td>채영은 방으로 성큼 들어섰던 문가를 보고 비웃으며 얼굴을 뚤어져라 쳐다보았다.</td>\n",
       "    </tr>\n",
       "    <tr>\n",
       "      <th>4997</th>\n",
       "      <td>혼명에서</td>\n",
       "      <td>나는 얼마 동안 내내 있던 이 땅에서 풍기는 그립던 흙 내음새를 가슴껏 마셔 보고...</td>\n",
       "      <td>나의 가림없는 본질은 거친 창파나 눈과 비에 다듬어지는 조약돌 또는 바윗돌이 아닌가...</td>\n",
       "    </tr>\n",
       "    <tr>\n",
       "      <th>4998</th>\n",
       "      <td>전쟁은 나고 마느냐</td>\n",
       "      <td>전쟁은 나고 마느냐(연설) ―주로 이태리―에티오피아 전쟁과 열국의 향후 동향 나는 ...</td>\n",
       "      <td>나는 오늘 저녁 열국의 정치적 혹은 경제적 동태에 관한 강연을 한다.</td>\n",
       "    </tr>\n",
       "    <tr>\n",
       "      <th>4999</th>\n",
       "      <td>기원 후 비너스</td>\n",
       "      <td>기원 후 비너스 루 킵링 작 바티칸 궁전, 부라쇼 뉴보관(館) 안, 비콘티 작(作...</td>\n",
       "      <td>우리가 기원 후의 비너스라고 부르는 그는 영원히 건강하게 하는 법을 알고 있었으며 ...</td>\n",
       "    </tr>\n",
       "  </tbody>\n",
       "</table>\n",
       "<p>5000 rows × 3 columns</p>\n",
       "</div>"
      ],
      "text/plain": [
       "           title                                               text  \\\n",
       "0           보석반지   나는 그 모든 소리를 들을 때에 꽃다운 혜경의 장래에 대한 동정심과 아울 러 최 ...   \n",
       "1         여자의 일생  불같이 급하고 서리같이 매서운 성질이면서 아울러 의리가 굳고 심히 호협 한 기개가 ...   \n",
       "2        예술가와 모델   정현웅 언젠가 미술연구소에서 모델 구한다는 광고를 신문에 냈더니만 어떤 내지 여자...   \n",
       "3             명문   “네. 며칠 전에 거리에 서 있노라니깐 지나가는 사람들의 이야기에, 아버 님께서 ...   \n",
       "4       배비장(裵裨將)  9 밤 이경 때에 차돌이놈이 무엇인지 보꾸러미를 어깨에 메고 왔다. 배비장은 의관을...   \n",
       "...          ...                                                ...   \n",
       "4995          독백  독 백 아침에 세수할 때 어디서 날아왔는지 버들잎새 한 잎 대야물 위에 떨어진 것을...   \n",
       "4996          성군  “갑자기 이게 웬일이요?” 채영이는 그를 보자 비웃었다.\\n“흥!” 문가는 멋쩍은 ...   \n",
       "4997        혼명에서   나는 얼마 동안 내내 있던 이 땅에서 풍기는 그립던 흙 내음새를 가슴껏 마셔 보고...   \n",
       "4998  전쟁은 나고 마느냐  전쟁은 나고 마느냐(연설) ―주로 이태리―에티오피아 전쟁과 열국의 향후 동향 나는 ...   \n",
       "4999    기원 후 비너스   기원 후 비너스 루 킵링 작 바티칸 궁전, 부라쇼 뉴보관(館) 안, 비콘티 작(作...   \n",
       "\n",
       "                                                summary  \n",
       "0     최 목사와 한 달 반쯤 남은 혜경이의 혼례식에 나는 혜경이와 아무 관계도 없건 만 ...  \n",
       "1     조선에는 국민에 정치, 경제, 문화에의 관심 세 가지의 큰 사회적 움직임이 한국 말...  \n",
       "2     아버지는 독일계의 노서야 사람이고 어머니가 조선 기생인 헤렌이라는 여자를 꾀어 모델...  \n",
       "3     아버님이 불쌍한 사람에게 기부하신 일이 신문에 났다는 이야기를 들은 그는 어느 예배...  \n",
       "4       차돌이는 배비장이 의관을 정제한 것을 보고 개가죽 두루마기와 노벙거지를 보여주었다.   \n",
       "...                                                 ...  \n",
       "4995  반쯤 썩어져 버린 글라디올러스와 홍초는 가을 화초로 부적당하고 로탄제야 말로 가을의...  \n",
       "4996        채영은 방으로 성큼 들어섰던 문가를 보고 비웃으며 얼굴을 뚤어져라 쳐다보았다.  \n",
       "4997  나의 가림없는 본질은 거친 창파나 눈과 비에 다듬어지는 조약돌 또는 바윗돌이 아닌가...  \n",
       "4998             나는 오늘 저녁 열국의 정치적 혹은 경제적 동태에 관한 강연을 한다.  \n",
       "4999  우리가 기원 후의 비너스라고 부르는 그는 영원히 건강하게 하는 법을 알고 있었으며 ...  \n",
       "\n",
       "[5000 rows x 3 columns]"
      ]
     },
     "execution_count": 144,
     "metadata": {},
     "output_type": "execute_result"
    }
   ],
   "source": [
    "df"
   ]
  },
  {
   "cell_type": "code",
   "execution_count": 145,
   "id": "9d035966",
   "metadata": {},
   "outputs": [],
   "source": [
    "from datasets import Dataset\n",
    "\n",
    "dataset = Dataset.from_pandas(df)"
   ]
  },
  {
   "cell_type": "code",
   "execution_count": 151,
   "id": "f9fe8b4c",
   "metadata": {},
   "outputs": [
    {
     "data": {
      "text/plain": [
       "Dataset({\n",
       "    features: ['title', 'text', 'summary'],\n",
       "    num_rows: 5000\n",
       "})"
      ]
     },
     "execution_count": 151,
     "metadata": {},
     "output_type": "execute_result"
    }
   ],
   "source": [
    "dataset"
   ]
  },
  {
   "cell_type": "code",
   "execution_count": 152,
   "id": "ae9c15e0",
   "metadata": {},
   "outputs": [],
   "source": [
    "dataset = dataset.train_test_split(test_size=0.2)"
   ]
  },
  {
   "cell_type": "code",
   "execution_count": 153,
   "id": "262a8912",
   "metadata": {},
   "outputs": [
    {
     "data": {
      "text/plain": [
       "DatasetDict({\n",
       "    train: Dataset({\n",
       "        features: ['title', 'text', 'summary'],\n",
       "        num_rows: 4000\n",
       "    })\n",
       "    test: Dataset({\n",
       "        features: ['title', 'text', 'summary'],\n",
       "        num_rows: 1000\n",
       "    })\n",
       "})"
      ]
     },
     "execution_count": 153,
     "metadata": {},
     "output_type": "execute_result"
    }
   ],
   "source": [
    "dataset"
   ]
  },
  {
   "cell_type": "code",
   "execution_count": 147,
   "id": "068fddc4",
   "metadata": {},
   "outputs": [
    {
     "name": "stdout",
     "output_type": "stream",
     "text": [
      "Token is valid.\n",
      "huggingface/tokenizers: The current process just got forked, after parallelism has already been used. Disabling parallelism to avoid deadlocks...\n",
      "To disable this warning, you can either:\n",
      "\t- Avoid using `tokenizers` before the fork if possible\n",
      "\t- Explicitly set the environment variable TOKENIZERS_PARALLELISM=(true | false)\n",
      "huggingface/tokenizers: The current process just got forked, after parallelism has already been used. Disabling parallelism to avoid deadlocks...\n",
      "To disable this warning, you can either:\n",
      "\t- Avoid using `tokenizers` before the fork if possible\n",
      "\t- Explicitly set the environment variable TOKENIZERS_PARALLELISM=(true | false)\n",
      "huggingface/tokenizers: The current process just got forked, after parallelism has already been used. Disabling parallelism to avoid deadlocks...\n",
      "To disable this warning, you can either:\n",
      "\t- Avoid using `tokenizers` before the fork if possible\n",
      "\t- Explicitly set the environment variable TOKENIZERS_PARALLELISM=(true | false)\n",
      "Your token has been saved in your configured git credential helpers (osxkeychain).\n",
      "Your token has been saved to /Users/hansol/.cache/huggingface/token\n",
      "Login successful\n"
     ]
    }
   ],
   "source": [
    "from huggingface_hub import notebook_login\n",
    "\n",
    "notebook_login()"
   ]
  },
  {
   "cell_type": "code",
   "execution_count": 115,
   "id": "521fbaec",
   "metadata": {},
   "outputs": [],
   "source": [
    "df.to_csv('summarization.csv',encoding='utf-8')"
   ]
  },
  {
   "cell_type": "code",
   "execution_count": 154,
   "id": "70bb992c",
   "metadata": {
    "scrolled": true
   },
   "outputs": [
    {
     "name": "stderr",
     "output_type": "stream",
     "text": [
      "Pushing split train to the Hub.\n"
     ]
    },
    {
     "data": {
      "application/vnd.jupyter.widget-view+json": {
       "model_id": "147298c4a0084e658902de8f6a9090b4",
       "version_major": 2,
       "version_minor": 0
      },
      "text/plain": [
       "Pushing dataset shards to the dataset hub:   0%|          | 0/1 [00:00<?, ?it/s]"
      ]
     },
     "metadata": {},
     "output_type": "display_data"
    },
    {
     "data": {
      "application/vnd.jupyter.widget-view+json": {
       "model_id": "56295ba7fb3e40b7815ec70ea4c7f53b",
       "version_major": 2,
       "version_minor": 0
      },
      "text/plain": [
       "Creating parquet from Arrow format:   0%|          | 0/4 [00:00<?, ?ba/s]"
      ]
     },
     "metadata": {},
     "output_type": "display_data"
    },
    {
     "data": {
      "application/vnd.jupyter.widget-view+json": {
       "model_id": "53f6c0ac84e64369a76b2bcf39efc4e2",
       "version_major": 2,
       "version_minor": 0
      },
      "text/plain": [
       "Upload 1 LFS files:   0%|          | 0/1 [00:00<?, ?it/s]"
      ]
     },
     "metadata": {},
     "output_type": "display_data"
    },
    {
     "name": "stderr",
     "output_type": "stream",
     "text": [
      "Pushing split test to the Hub.\n"
     ]
    },
    {
     "data": {
      "application/vnd.jupyter.widget-view+json": {
       "model_id": "264c747f6ecc4ae6a2bed482fbb26f2a",
       "version_major": 2,
       "version_minor": 0
      },
      "text/plain": [
       "Pushing dataset shards to the dataset hub:   0%|          | 0/1 [00:00<?, ?it/s]"
      ]
     },
     "metadata": {},
     "output_type": "display_data"
    },
    {
     "data": {
      "application/vnd.jupyter.widget-view+json": {
       "model_id": "c8c75c47e3ee4d2fa8cc692e828017a5",
       "version_major": 2,
       "version_minor": 0
      },
      "text/plain": [
       "Creating parquet from Arrow format:   0%|          | 0/1 [00:00<?, ?ba/s]"
      ]
     },
     "metadata": {},
     "output_type": "display_data"
    },
    {
     "data": {
      "application/vnd.jupyter.widget-view+json": {
       "model_id": "00f167a6ff2e4876bf218c23f5848af5",
       "version_major": 2,
       "version_minor": 0
      },
      "text/plain": [
       "Upload 1 LFS files:   0%|          | 0/1 [00:00<?, ?it/s]"
      ]
     },
     "metadata": {},
     "output_type": "display_data"
    }
   ],
   "source": [
    "dataset.push_to_hub(\"Hansollll/summarization\")"
   ]
  }
 ],
 "metadata": {
  "kernelspec": {
   "display_name": "Python 3 (ipykernel)",
   "language": "python",
   "name": "python3"
  },
  "language_info": {
   "codemirror_mode": {
    "name": "ipython",
    "version": 3
   },
   "file_extension": ".py",
   "mimetype": "text/x-python",
   "name": "python",
   "nbconvert_exporter": "python",
   "pygments_lexer": "ipython3",
   "version": "3.8.16"
  }
 },
 "nbformat": 4,
 "nbformat_minor": 5
}
