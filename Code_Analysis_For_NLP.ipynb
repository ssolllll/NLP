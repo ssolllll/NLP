{
 "cells": [
  {
   "attachments": {},
   "cell_type": "markdown",
   "id": "1c991f63",
   "metadata": {},
   "source": [
    "# NLP fine-tuning을 진행하면서 해당 코드가 하는 역할에 관한 정리"
   ]
  },
  {
   "attachments": {},
   "cell_type": "markdown",
   "id": "f94e1e84",
   "metadata": {},
   "source": [
    "## Pytorch"
   ]
  },
  {
   "attachments": {},
   "cell_type": "markdown",
   "id": "16d21693",
   "metadata": {},
   "source": [
    "#### torch.no_grad()"
   ]
  },
  {
   "attachments": {},
   "cell_type": "markdown",
   "id": "12114887",
   "metadata": {},
   "source": [
    "- 모델 학습 시 파라미터 업데이트를 방지하기 위해 사용.\n",
    "- 모델을 통한 예측을 할 때 업데이트를 할 필요가 없음.\n",
    "- 메모리 절약할 수 있고, 에측 속도도 더 빨라짐.\n",
    "- 모델 학습 시 torch.no_grad()를 사용하지 않고, 모델 예측 및 평가 시에 사용하여 파라미터 업데이트를 방지하려고 사용함."
   ]
  },
  {
   "attachments": {},
   "cell_type": "markdown",
   "id": "aea7f39b",
   "metadata": {},
   "source": [
    "## HuggingFace"
   ]
  },
  {
   "cell_type": "markdown",
   "id": "8ffee3aa",
   "metadata": {},
   "source": []
  },
  {
   "attachments": {},
   "cell_type": "markdown",
   "id": "1bef1a11",
   "metadata": {},
   "source": [
    "## 계속 업데이트 예정."
   ]
  }
 ],
 "metadata": {
  "kernelspec": {
   "display_name": "Python 3 (ipykernel)",
   "language": "python",
   "name": "python3"
  },
  "language_info": {
   "codemirror_mode": {
    "name": "ipython",
    "version": 3
   },
   "file_extension": ".py",
   "mimetype": "text/x-python",
   "name": "python",
   "nbconvert_exporter": "python",
   "pygments_lexer": "ipython3",
   "version": "3.8.5"
  }
 },
 "nbformat": 4,
 "nbformat_minor": 5
}
