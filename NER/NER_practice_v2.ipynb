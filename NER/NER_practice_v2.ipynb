{
  "nbformat": 4,
  "nbformat_minor": 0,
  "metadata": {
    "colab": {
      "provenance": []
    },
    "kernelspec": {
      "name": "python3",
      "display_name": "Python 3"
    },
    "language_info": {
      "name": "python"
    },
    "accelerator": "TPU",
    "gpuClass": "standard",
    "widgets": {
      "application/vnd.jupyter.widget-state+json": {
        "061155d927e04ceca1c21e26c7a74c72": {
          "model_module": "@jupyter-widgets/controls",
          "model_name": "HBoxModel",
          "model_module_version": "1.5.0",
          "state": {
            "_dom_classes": [],
            "_model_module": "@jupyter-widgets/controls",
            "_model_module_version": "1.5.0",
            "_model_name": "HBoxModel",
            "_view_count": null,
            "_view_module": "@jupyter-widgets/controls",
            "_view_module_version": "1.5.0",
            "_view_name": "HBoxView",
            "box_style": "",
            "children": [
              "IPY_MODEL_42d682ad1d48455aa3ce0eead6486da7",
              "IPY_MODEL_7f55c3fe13954e86b93097bf58d5f12b",
              "IPY_MODEL_4d46afdfeaba4bd3be211fae38f17148"
            ],
            "layout": "IPY_MODEL_22a70a7ec9094c9cba5710930e285e0e"
          }
        },
        "42d682ad1d48455aa3ce0eead6486da7": {
          "model_module": "@jupyter-widgets/controls",
          "model_name": "HTMLModel",
          "model_module_version": "1.5.0",
          "state": {
            "_dom_classes": [],
            "_model_module": "@jupyter-widgets/controls",
            "_model_module_version": "1.5.0",
            "_model_name": "HTMLModel",
            "_view_count": null,
            "_view_module": "@jupyter-widgets/controls",
            "_view_module_version": "1.5.0",
            "_view_name": "HTMLView",
            "description": "",
            "description_tooltip": null,
            "layout": "IPY_MODEL_2aac5e10dc0c46beb03bd2b37b0b942b",
            "placeholder": "​",
            "style": "IPY_MODEL_6b038b18336f4e2ab95b0e166cc9d533",
            "value": "Downloading (…)solve/main/vocab.txt: 100%"
          }
        },
        "7f55c3fe13954e86b93097bf58d5f12b": {
          "model_module": "@jupyter-widgets/controls",
          "model_name": "FloatProgressModel",
          "model_module_version": "1.5.0",
          "state": {
            "_dom_classes": [],
            "_model_module": "@jupyter-widgets/controls",
            "_model_module_version": "1.5.0",
            "_model_name": "FloatProgressModel",
            "_view_count": null,
            "_view_module": "@jupyter-widgets/controls",
            "_view_module_version": "1.5.0",
            "_view_name": "ProgressView",
            "bar_style": "success",
            "description": "",
            "description_tooltip": null,
            "layout": "IPY_MODEL_0f9f638fca8d495fa083dafc5384ed22",
            "max": 248477,
            "min": 0,
            "orientation": "horizontal",
            "style": "IPY_MODEL_f7fb712f469442b39aab8e3f53b7da23",
            "value": 248477
          }
        },
        "4d46afdfeaba4bd3be211fae38f17148": {
          "model_module": "@jupyter-widgets/controls",
          "model_name": "HTMLModel",
          "model_module_version": "1.5.0",
          "state": {
            "_dom_classes": [],
            "_model_module": "@jupyter-widgets/controls",
            "_model_module_version": "1.5.0",
            "_model_name": "HTMLModel",
            "_view_count": null,
            "_view_module": "@jupyter-widgets/controls",
            "_view_module_version": "1.5.0",
            "_view_name": "HTMLView",
            "description": "",
            "description_tooltip": null,
            "layout": "IPY_MODEL_779a13dd647c4bcab17d9e44cc0a4599",
            "placeholder": "​",
            "style": "IPY_MODEL_63b2f0707f0c4f1eafdc7b3e11411a45",
            "value": " 248k/248k [00:00&lt;00:00, 2.91MB/s]"
          }
        },
        "22a70a7ec9094c9cba5710930e285e0e": {
          "model_module": "@jupyter-widgets/base",
          "model_name": "LayoutModel",
          "model_module_version": "1.2.0",
          "state": {
            "_model_module": "@jupyter-widgets/base",
            "_model_module_version": "1.2.0",
            "_model_name": "LayoutModel",
            "_view_count": null,
            "_view_module": "@jupyter-widgets/base",
            "_view_module_version": "1.2.0",
            "_view_name": "LayoutView",
            "align_content": null,
            "align_items": null,
            "align_self": null,
            "border": null,
            "bottom": null,
            "display": null,
            "flex": null,
            "flex_flow": null,
            "grid_area": null,
            "grid_auto_columns": null,
            "grid_auto_flow": null,
            "grid_auto_rows": null,
            "grid_column": null,
            "grid_gap": null,
            "grid_row": null,
            "grid_template_areas": null,
            "grid_template_columns": null,
            "grid_template_rows": null,
            "height": null,
            "justify_content": null,
            "justify_items": null,
            "left": null,
            "margin": null,
            "max_height": null,
            "max_width": null,
            "min_height": null,
            "min_width": null,
            "object_fit": null,
            "object_position": null,
            "order": null,
            "overflow": null,
            "overflow_x": null,
            "overflow_y": null,
            "padding": null,
            "right": null,
            "top": null,
            "visibility": null,
            "width": null
          }
        },
        "2aac5e10dc0c46beb03bd2b37b0b942b": {
          "model_module": "@jupyter-widgets/base",
          "model_name": "LayoutModel",
          "model_module_version": "1.2.0",
          "state": {
            "_model_module": "@jupyter-widgets/base",
            "_model_module_version": "1.2.0",
            "_model_name": "LayoutModel",
            "_view_count": null,
            "_view_module": "@jupyter-widgets/base",
            "_view_module_version": "1.2.0",
            "_view_name": "LayoutView",
            "align_content": null,
            "align_items": null,
            "align_self": null,
            "border": null,
            "bottom": null,
            "display": null,
            "flex": null,
            "flex_flow": null,
            "grid_area": null,
            "grid_auto_columns": null,
            "grid_auto_flow": null,
            "grid_auto_rows": null,
            "grid_column": null,
            "grid_gap": null,
            "grid_row": null,
            "grid_template_areas": null,
            "grid_template_columns": null,
            "grid_template_rows": null,
            "height": null,
            "justify_content": null,
            "justify_items": null,
            "left": null,
            "margin": null,
            "max_height": null,
            "max_width": null,
            "min_height": null,
            "min_width": null,
            "object_fit": null,
            "object_position": null,
            "order": null,
            "overflow": null,
            "overflow_x": null,
            "overflow_y": null,
            "padding": null,
            "right": null,
            "top": null,
            "visibility": null,
            "width": null
          }
        },
        "6b038b18336f4e2ab95b0e166cc9d533": {
          "model_module": "@jupyter-widgets/controls",
          "model_name": "DescriptionStyleModel",
          "model_module_version": "1.5.0",
          "state": {
            "_model_module": "@jupyter-widgets/controls",
            "_model_module_version": "1.5.0",
            "_model_name": "DescriptionStyleModel",
            "_view_count": null,
            "_view_module": "@jupyter-widgets/base",
            "_view_module_version": "1.2.0",
            "_view_name": "StyleView",
            "description_width": ""
          }
        },
        "0f9f638fca8d495fa083dafc5384ed22": {
          "model_module": "@jupyter-widgets/base",
          "model_name": "LayoutModel",
          "model_module_version": "1.2.0",
          "state": {
            "_model_module": "@jupyter-widgets/base",
            "_model_module_version": "1.2.0",
            "_model_name": "LayoutModel",
            "_view_count": null,
            "_view_module": "@jupyter-widgets/base",
            "_view_module_version": "1.2.0",
            "_view_name": "LayoutView",
            "align_content": null,
            "align_items": null,
            "align_self": null,
            "border": null,
            "bottom": null,
            "display": null,
            "flex": null,
            "flex_flow": null,
            "grid_area": null,
            "grid_auto_columns": null,
            "grid_auto_flow": null,
            "grid_auto_rows": null,
            "grid_column": null,
            "grid_gap": null,
            "grid_row": null,
            "grid_template_areas": null,
            "grid_template_columns": null,
            "grid_template_rows": null,
            "height": null,
            "justify_content": null,
            "justify_items": null,
            "left": null,
            "margin": null,
            "max_height": null,
            "max_width": null,
            "min_height": null,
            "min_width": null,
            "object_fit": null,
            "object_position": null,
            "order": null,
            "overflow": null,
            "overflow_x": null,
            "overflow_y": null,
            "padding": null,
            "right": null,
            "top": null,
            "visibility": null,
            "width": null
          }
        },
        "f7fb712f469442b39aab8e3f53b7da23": {
          "model_module": "@jupyter-widgets/controls",
          "model_name": "ProgressStyleModel",
          "model_module_version": "1.5.0",
          "state": {
            "_model_module": "@jupyter-widgets/controls",
            "_model_module_version": "1.5.0",
            "_model_name": "ProgressStyleModel",
            "_view_count": null,
            "_view_module": "@jupyter-widgets/base",
            "_view_module_version": "1.2.0",
            "_view_name": "StyleView",
            "bar_color": null,
            "description_width": ""
          }
        },
        "779a13dd647c4bcab17d9e44cc0a4599": {
          "model_module": "@jupyter-widgets/base",
          "model_name": "LayoutModel",
          "model_module_version": "1.2.0",
          "state": {
            "_model_module": "@jupyter-widgets/base",
            "_model_module_version": "1.2.0",
            "_model_name": "LayoutModel",
            "_view_count": null,
            "_view_module": "@jupyter-widgets/base",
            "_view_module_version": "1.2.0",
            "_view_name": "LayoutView",
            "align_content": null,
            "align_items": null,
            "align_self": null,
            "border": null,
            "bottom": null,
            "display": null,
            "flex": null,
            "flex_flow": null,
            "grid_area": null,
            "grid_auto_columns": null,
            "grid_auto_flow": null,
            "grid_auto_rows": null,
            "grid_column": null,
            "grid_gap": null,
            "grid_row": null,
            "grid_template_areas": null,
            "grid_template_columns": null,
            "grid_template_rows": null,
            "height": null,
            "justify_content": null,
            "justify_items": null,
            "left": null,
            "margin": null,
            "max_height": null,
            "max_width": null,
            "min_height": null,
            "min_width": null,
            "object_fit": null,
            "object_position": null,
            "order": null,
            "overflow": null,
            "overflow_x": null,
            "overflow_y": null,
            "padding": null,
            "right": null,
            "top": null,
            "visibility": null,
            "width": null
          }
        },
        "63b2f0707f0c4f1eafdc7b3e11411a45": {
          "model_module": "@jupyter-widgets/controls",
          "model_name": "DescriptionStyleModel",
          "model_module_version": "1.5.0",
          "state": {
            "_model_module": "@jupyter-widgets/controls",
            "_model_module_version": "1.5.0",
            "_model_name": "DescriptionStyleModel",
            "_view_count": null,
            "_view_module": "@jupyter-widgets/base",
            "_view_module_version": "1.2.0",
            "_view_name": "StyleView",
            "description_width": ""
          }
        },
        "a8ffc01b038c4de6a4b8fa52ee49639f": {
          "model_module": "@jupyter-widgets/controls",
          "model_name": "HBoxModel",
          "model_module_version": "1.5.0",
          "state": {
            "_dom_classes": [],
            "_model_module": "@jupyter-widgets/controls",
            "_model_module_version": "1.5.0",
            "_model_name": "HBoxModel",
            "_view_count": null,
            "_view_module": "@jupyter-widgets/controls",
            "_view_module_version": "1.5.0",
            "_view_name": "HBoxView",
            "box_style": "",
            "children": [
              "IPY_MODEL_901d207a46144ec9ac2644e1c44fcbff",
              "IPY_MODEL_344473acc82c46a8a8c828065879f965",
              "IPY_MODEL_440f89c99c8d45328fcab602f3e12e3d"
            ],
            "layout": "IPY_MODEL_c25c9470fc0c45b4abd0377dd3512266"
          }
        },
        "901d207a46144ec9ac2644e1c44fcbff": {
          "model_module": "@jupyter-widgets/controls",
          "model_name": "HTMLModel",
          "model_module_version": "1.5.0",
          "state": {
            "_dom_classes": [],
            "_model_module": "@jupyter-widgets/controls",
            "_model_module_version": "1.5.0",
            "_model_name": "HTMLModel",
            "_view_count": null,
            "_view_module": "@jupyter-widgets/controls",
            "_view_module_version": "1.5.0",
            "_view_name": "HTMLView",
            "description": "",
            "description_tooltip": null,
            "layout": "IPY_MODEL_27d223f7d7954894af3a7fa34486c6c9",
            "placeholder": "​",
            "style": "IPY_MODEL_d1e6b11d6a764bbba2abc32ca14407bc",
            "value": "Downloading (…)cial_tokens_map.json: 100%"
          }
        },
        "344473acc82c46a8a8c828065879f965": {
          "model_module": "@jupyter-widgets/controls",
          "model_name": "FloatProgressModel",
          "model_module_version": "1.5.0",
          "state": {
            "_dom_classes": [],
            "_model_module": "@jupyter-widgets/controls",
            "_model_module_version": "1.5.0",
            "_model_name": "FloatProgressModel",
            "_view_count": null,
            "_view_module": "@jupyter-widgets/controls",
            "_view_module_version": "1.5.0",
            "_view_name": "ProgressView",
            "bar_style": "success",
            "description": "",
            "description_tooltip": null,
            "layout": "IPY_MODEL_d19e47ee52d44ab3b1bf9cff726a977e",
            "max": 125,
            "min": 0,
            "orientation": "horizontal",
            "style": "IPY_MODEL_1947ea74f2cf497c99bb595a7d03420e",
            "value": 125
          }
        },
        "440f89c99c8d45328fcab602f3e12e3d": {
          "model_module": "@jupyter-widgets/controls",
          "model_name": "HTMLModel",
          "model_module_version": "1.5.0",
          "state": {
            "_dom_classes": [],
            "_model_module": "@jupyter-widgets/controls",
            "_model_module_version": "1.5.0",
            "_model_name": "HTMLModel",
            "_view_count": null,
            "_view_module": "@jupyter-widgets/controls",
            "_view_module_version": "1.5.0",
            "_view_name": "HTMLView",
            "description": "",
            "description_tooltip": null,
            "layout": "IPY_MODEL_52c3703a1bc84facaf216cb4a9f0a494",
            "placeholder": "​",
            "style": "IPY_MODEL_16cbc795463e48e9ba06c566324e75c6",
            "value": " 125/125 [00:00&lt;00:00, 1.09kB/s]"
          }
        },
        "c25c9470fc0c45b4abd0377dd3512266": {
          "model_module": "@jupyter-widgets/base",
          "model_name": "LayoutModel",
          "model_module_version": "1.2.0",
          "state": {
            "_model_module": "@jupyter-widgets/base",
            "_model_module_version": "1.2.0",
            "_model_name": "LayoutModel",
            "_view_count": null,
            "_view_module": "@jupyter-widgets/base",
            "_view_module_version": "1.2.0",
            "_view_name": "LayoutView",
            "align_content": null,
            "align_items": null,
            "align_self": null,
            "border": null,
            "bottom": null,
            "display": null,
            "flex": null,
            "flex_flow": null,
            "grid_area": null,
            "grid_auto_columns": null,
            "grid_auto_flow": null,
            "grid_auto_rows": null,
            "grid_column": null,
            "grid_gap": null,
            "grid_row": null,
            "grid_template_areas": null,
            "grid_template_columns": null,
            "grid_template_rows": null,
            "height": null,
            "justify_content": null,
            "justify_items": null,
            "left": null,
            "margin": null,
            "max_height": null,
            "max_width": null,
            "min_height": null,
            "min_width": null,
            "object_fit": null,
            "object_position": null,
            "order": null,
            "overflow": null,
            "overflow_x": null,
            "overflow_y": null,
            "padding": null,
            "right": null,
            "top": null,
            "visibility": null,
            "width": null
          }
        },
        "27d223f7d7954894af3a7fa34486c6c9": {
          "model_module": "@jupyter-widgets/base",
          "model_name": "LayoutModel",
          "model_module_version": "1.2.0",
          "state": {
            "_model_module": "@jupyter-widgets/base",
            "_model_module_version": "1.2.0",
            "_model_name": "LayoutModel",
            "_view_count": null,
            "_view_module": "@jupyter-widgets/base",
            "_view_module_version": "1.2.0",
            "_view_name": "LayoutView",
            "align_content": null,
            "align_items": null,
            "align_self": null,
            "border": null,
            "bottom": null,
            "display": null,
            "flex": null,
            "flex_flow": null,
            "grid_area": null,
            "grid_auto_columns": null,
            "grid_auto_flow": null,
            "grid_auto_rows": null,
            "grid_column": null,
            "grid_gap": null,
            "grid_row": null,
            "grid_template_areas": null,
            "grid_template_columns": null,
            "grid_template_rows": null,
            "height": null,
            "justify_content": null,
            "justify_items": null,
            "left": null,
            "margin": null,
            "max_height": null,
            "max_width": null,
            "min_height": null,
            "min_width": null,
            "object_fit": null,
            "object_position": null,
            "order": null,
            "overflow": null,
            "overflow_x": null,
            "overflow_y": null,
            "padding": null,
            "right": null,
            "top": null,
            "visibility": null,
            "width": null
          }
        },
        "d1e6b11d6a764bbba2abc32ca14407bc": {
          "model_module": "@jupyter-widgets/controls",
          "model_name": "DescriptionStyleModel",
          "model_module_version": "1.5.0",
          "state": {
            "_model_module": "@jupyter-widgets/controls",
            "_model_module_version": "1.5.0",
            "_model_name": "DescriptionStyleModel",
            "_view_count": null,
            "_view_module": "@jupyter-widgets/base",
            "_view_module_version": "1.2.0",
            "_view_name": "StyleView",
            "description_width": ""
          }
        },
        "d19e47ee52d44ab3b1bf9cff726a977e": {
          "model_module": "@jupyter-widgets/base",
          "model_name": "LayoutModel",
          "model_module_version": "1.2.0",
          "state": {
            "_model_module": "@jupyter-widgets/base",
            "_model_module_version": "1.2.0",
            "_model_name": "LayoutModel",
            "_view_count": null,
            "_view_module": "@jupyter-widgets/base",
            "_view_module_version": "1.2.0",
            "_view_name": "LayoutView",
            "align_content": null,
            "align_items": null,
            "align_self": null,
            "border": null,
            "bottom": null,
            "display": null,
            "flex": null,
            "flex_flow": null,
            "grid_area": null,
            "grid_auto_columns": null,
            "grid_auto_flow": null,
            "grid_auto_rows": null,
            "grid_column": null,
            "grid_gap": null,
            "grid_row": null,
            "grid_template_areas": null,
            "grid_template_columns": null,
            "grid_template_rows": null,
            "height": null,
            "justify_content": null,
            "justify_items": null,
            "left": null,
            "margin": null,
            "max_height": null,
            "max_width": null,
            "min_height": null,
            "min_width": null,
            "object_fit": null,
            "object_position": null,
            "order": null,
            "overflow": null,
            "overflow_x": null,
            "overflow_y": null,
            "padding": null,
            "right": null,
            "top": null,
            "visibility": null,
            "width": null
          }
        },
        "1947ea74f2cf497c99bb595a7d03420e": {
          "model_module": "@jupyter-widgets/controls",
          "model_name": "ProgressStyleModel",
          "model_module_version": "1.5.0",
          "state": {
            "_model_module": "@jupyter-widgets/controls",
            "_model_module_version": "1.5.0",
            "_model_name": "ProgressStyleModel",
            "_view_count": null,
            "_view_module": "@jupyter-widgets/base",
            "_view_module_version": "1.2.0",
            "_view_name": "StyleView",
            "bar_color": null,
            "description_width": ""
          }
        },
        "52c3703a1bc84facaf216cb4a9f0a494": {
          "model_module": "@jupyter-widgets/base",
          "model_name": "LayoutModel",
          "model_module_version": "1.2.0",
          "state": {
            "_model_module": "@jupyter-widgets/base",
            "_model_module_version": "1.2.0",
            "_model_name": "LayoutModel",
            "_view_count": null,
            "_view_module": "@jupyter-widgets/base",
            "_view_module_version": "1.2.0",
            "_view_name": "LayoutView",
            "align_content": null,
            "align_items": null,
            "align_self": null,
            "border": null,
            "bottom": null,
            "display": null,
            "flex": null,
            "flex_flow": null,
            "grid_area": null,
            "grid_auto_columns": null,
            "grid_auto_flow": null,
            "grid_auto_rows": null,
            "grid_column": null,
            "grid_gap": null,
            "grid_row": null,
            "grid_template_areas": null,
            "grid_template_columns": null,
            "grid_template_rows": null,
            "height": null,
            "justify_content": null,
            "justify_items": null,
            "left": null,
            "margin": null,
            "max_height": null,
            "max_width": null,
            "min_height": null,
            "min_width": null,
            "object_fit": null,
            "object_position": null,
            "order": null,
            "overflow": null,
            "overflow_x": null,
            "overflow_y": null,
            "padding": null,
            "right": null,
            "top": null,
            "visibility": null,
            "width": null
          }
        },
        "16cbc795463e48e9ba06c566324e75c6": {
          "model_module": "@jupyter-widgets/controls",
          "model_name": "DescriptionStyleModel",
          "model_module_version": "1.5.0",
          "state": {
            "_model_module": "@jupyter-widgets/controls",
            "_model_module_version": "1.5.0",
            "_model_name": "DescriptionStyleModel",
            "_view_count": null,
            "_view_module": "@jupyter-widgets/base",
            "_view_module_version": "1.2.0",
            "_view_name": "StyleView",
            "description_width": ""
          }
        },
        "bcfb877ce319420f808ea6b6e75c3118": {
          "model_module": "@jupyter-widgets/controls",
          "model_name": "HBoxModel",
          "model_module_version": "1.5.0",
          "state": {
            "_dom_classes": [],
            "_model_module": "@jupyter-widgets/controls",
            "_model_module_version": "1.5.0",
            "_model_name": "HBoxModel",
            "_view_count": null,
            "_view_module": "@jupyter-widgets/controls",
            "_view_module_version": "1.5.0",
            "_view_name": "HBoxView",
            "box_style": "",
            "children": [
              "IPY_MODEL_ba2e3408494f4ba797bb240d734f6754",
              "IPY_MODEL_258110acbbd3470893deb48c97de9bc2",
              "IPY_MODEL_98f5a9a0843f492588f3631b74fa9bc9"
            ],
            "layout": "IPY_MODEL_a424219645fa4c3cb69e32a78176f965"
          }
        },
        "ba2e3408494f4ba797bb240d734f6754": {
          "model_module": "@jupyter-widgets/controls",
          "model_name": "HTMLModel",
          "model_module_version": "1.5.0",
          "state": {
            "_dom_classes": [],
            "_model_module": "@jupyter-widgets/controls",
            "_model_module_version": "1.5.0",
            "_model_name": "HTMLModel",
            "_view_count": null,
            "_view_module": "@jupyter-widgets/controls",
            "_view_module_version": "1.5.0",
            "_view_name": "HTMLView",
            "description": "",
            "description_tooltip": null,
            "layout": "IPY_MODEL_c1b772dcda4d43209ae4fd30a4ec5673",
            "placeholder": "​",
            "style": "IPY_MODEL_4d2325a423db4bb298267806b837287c",
            "value": "Downloading (…)okenizer_config.json: 100%"
          }
        },
        "258110acbbd3470893deb48c97de9bc2": {
          "model_module": "@jupyter-widgets/controls",
          "model_name": "FloatProgressModel",
          "model_module_version": "1.5.0",
          "state": {
            "_dom_classes": [],
            "_model_module": "@jupyter-widgets/controls",
            "_model_module_version": "1.5.0",
            "_model_name": "FloatProgressModel",
            "_view_count": null,
            "_view_module": "@jupyter-widgets/controls",
            "_view_module_version": "1.5.0",
            "_view_name": "ProgressView",
            "bar_style": "success",
            "description": "",
            "description_tooltip": null,
            "layout": "IPY_MODEL_9af9448553f54b879f6a78b999db5b31",
            "max": 289,
            "min": 0,
            "orientation": "horizontal",
            "style": "IPY_MODEL_60f38bc80d6a40b5b3ebe00addfa2d62",
            "value": 289
          }
        },
        "98f5a9a0843f492588f3631b74fa9bc9": {
          "model_module": "@jupyter-widgets/controls",
          "model_name": "HTMLModel",
          "model_module_version": "1.5.0",
          "state": {
            "_dom_classes": [],
            "_model_module": "@jupyter-widgets/controls",
            "_model_module_version": "1.5.0",
            "_model_name": "HTMLModel",
            "_view_count": null,
            "_view_module": "@jupyter-widgets/controls",
            "_view_module_version": "1.5.0",
            "_view_name": "HTMLView",
            "description": "",
            "description_tooltip": null,
            "layout": "IPY_MODEL_3878b0be1c3d4a3da502092e3e6ae734",
            "placeholder": "​",
            "style": "IPY_MODEL_f41eef4436514024a9fd8f97a6f5436b",
            "value": " 289/289 [00:00&lt;00:00, 8.44kB/s]"
          }
        },
        "a424219645fa4c3cb69e32a78176f965": {
          "model_module": "@jupyter-widgets/base",
          "model_name": "LayoutModel",
          "model_module_version": "1.2.0",
          "state": {
            "_model_module": "@jupyter-widgets/base",
            "_model_module_version": "1.2.0",
            "_model_name": "LayoutModel",
            "_view_count": null,
            "_view_module": "@jupyter-widgets/base",
            "_view_module_version": "1.2.0",
            "_view_name": "LayoutView",
            "align_content": null,
            "align_items": null,
            "align_self": null,
            "border": null,
            "bottom": null,
            "display": null,
            "flex": null,
            "flex_flow": null,
            "grid_area": null,
            "grid_auto_columns": null,
            "grid_auto_flow": null,
            "grid_auto_rows": null,
            "grid_column": null,
            "grid_gap": null,
            "grid_row": null,
            "grid_template_areas": null,
            "grid_template_columns": null,
            "grid_template_rows": null,
            "height": null,
            "justify_content": null,
            "justify_items": null,
            "left": null,
            "margin": null,
            "max_height": null,
            "max_width": null,
            "min_height": null,
            "min_width": null,
            "object_fit": null,
            "object_position": null,
            "order": null,
            "overflow": null,
            "overflow_x": null,
            "overflow_y": null,
            "padding": null,
            "right": null,
            "top": null,
            "visibility": null,
            "width": null
          }
        },
        "c1b772dcda4d43209ae4fd30a4ec5673": {
          "model_module": "@jupyter-widgets/base",
          "model_name": "LayoutModel",
          "model_module_version": "1.2.0",
          "state": {
            "_model_module": "@jupyter-widgets/base",
            "_model_module_version": "1.2.0",
            "_model_name": "LayoutModel",
            "_view_count": null,
            "_view_module": "@jupyter-widgets/base",
            "_view_module_version": "1.2.0",
            "_view_name": "LayoutView",
            "align_content": null,
            "align_items": null,
            "align_self": null,
            "border": null,
            "bottom": null,
            "display": null,
            "flex": null,
            "flex_flow": null,
            "grid_area": null,
            "grid_auto_columns": null,
            "grid_auto_flow": null,
            "grid_auto_rows": null,
            "grid_column": null,
            "grid_gap": null,
            "grid_row": null,
            "grid_template_areas": null,
            "grid_template_columns": null,
            "grid_template_rows": null,
            "height": null,
            "justify_content": null,
            "justify_items": null,
            "left": null,
            "margin": null,
            "max_height": null,
            "max_width": null,
            "min_height": null,
            "min_width": null,
            "object_fit": null,
            "object_position": null,
            "order": null,
            "overflow": null,
            "overflow_x": null,
            "overflow_y": null,
            "padding": null,
            "right": null,
            "top": null,
            "visibility": null,
            "width": null
          }
        },
        "4d2325a423db4bb298267806b837287c": {
          "model_module": "@jupyter-widgets/controls",
          "model_name": "DescriptionStyleModel",
          "model_module_version": "1.5.0",
          "state": {
            "_model_module": "@jupyter-widgets/controls",
            "_model_module_version": "1.5.0",
            "_model_name": "DescriptionStyleModel",
            "_view_count": null,
            "_view_module": "@jupyter-widgets/base",
            "_view_module_version": "1.2.0",
            "_view_name": "StyleView",
            "description_width": ""
          }
        },
        "9af9448553f54b879f6a78b999db5b31": {
          "model_module": "@jupyter-widgets/base",
          "model_name": "LayoutModel",
          "model_module_version": "1.2.0",
          "state": {
            "_model_module": "@jupyter-widgets/base",
            "_model_module_version": "1.2.0",
            "_model_name": "LayoutModel",
            "_view_count": null,
            "_view_module": "@jupyter-widgets/base",
            "_view_module_version": "1.2.0",
            "_view_name": "LayoutView",
            "align_content": null,
            "align_items": null,
            "align_self": null,
            "border": null,
            "bottom": null,
            "display": null,
            "flex": null,
            "flex_flow": null,
            "grid_area": null,
            "grid_auto_columns": null,
            "grid_auto_flow": null,
            "grid_auto_rows": null,
            "grid_column": null,
            "grid_gap": null,
            "grid_row": null,
            "grid_template_areas": null,
            "grid_template_columns": null,
            "grid_template_rows": null,
            "height": null,
            "justify_content": null,
            "justify_items": null,
            "left": null,
            "margin": null,
            "max_height": null,
            "max_width": null,
            "min_height": null,
            "min_width": null,
            "object_fit": null,
            "object_position": null,
            "order": null,
            "overflow": null,
            "overflow_x": null,
            "overflow_y": null,
            "padding": null,
            "right": null,
            "top": null,
            "visibility": null,
            "width": null
          }
        },
        "60f38bc80d6a40b5b3ebe00addfa2d62": {
          "model_module": "@jupyter-widgets/controls",
          "model_name": "ProgressStyleModel",
          "model_module_version": "1.5.0",
          "state": {
            "_model_module": "@jupyter-widgets/controls",
            "_model_module_version": "1.5.0",
            "_model_name": "ProgressStyleModel",
            "_view_count": null,
            "_view_module": "@jupyter-widgets/base",
            "_view_module_version": "1.2.0",
            "_view_name": "StyleView",
            "bar_color": null,
            "description_width": ""
          }
        },
        "3878b0be1c3d4a3da502092e3e6ae734": {
          "model_module": "@jupyter-widgets/base",
          "model_name": "LayoutModel",
          "model_module_version": "1.2.0",
          "state": {
            "_model_module": "@jupyter-widgets/base",
            "_model_module_version": "1.2.0",
            "_model_name": "LayoutModel",
            "_view_count": null,
            "_view_module": "@jupyter-widgets/base",
            "_view_module_version": "1.2.0",
            "_view_name": "LayoutView",
            "align_content": null,
            "align_items": null,
            "align_self": null,
            "border": null,
            "bottom": null,
            "display": null,
            "flex": null,
            "flex_flow": null,
            "grid_area": null,
            "grid_auto_columns": null,
            "grid_auto_flow": null,
            "grid_auto_rows": null,
            "grid_column": null,
            "grid_gap": null,
            "grid_row": null,
            "grid_template_areas": null,
            "grid_template_columns": null,
            "grid_template_rows": null,
            "height": null,
            "justify_content": null,
            "justify_items": null,
            "left": null,
            "margin": null,
            "max_height": null,
            "max_width": null,
            "min_height": null,
            "min_width": null,
            "object_fit": null,
            "object_position": null,
            "order": null,
            "overflow": null,
            "overflow_x": null,
            "overflow_y": null,
            "padding": null,
            "right": null,
            "top": null,
            "visibility": null,
            "width": null
          }
        },
        "f41eef4436514024a9fd8f97a6f5436b": {
          "model_module": "@jupyter-widgets/controls",
          "model_name": "DescriptionStyleModel",
          "model_module_version": "1.5.0",
          "state": {
            "_model_module": "@jupyter-widgets/controls",
            "_model_module_version": "1.5.0",
            "_model_name": "DescriptionStyleModel",
            "_view_count": null,
            "_view_module": "@jupyter-widgets/base",
            "_view_module_version": "1.2.0",
            "_view_name": "StyleView",
            "description_width": ""
          }
        },
        "dadeee861c854cda8bda602318be0eed": {
          "model_module": "@jupyter-widgets/controls",
          "model_name": "HBoxModel",
          "model_module_version": "1.5.0",
          "state": {
            "_dom_classes": [],
            "_model_module": "@jupyter-widgets/controls",
            "_model_module_version": "1.5.0",
            "_model_name": "HBoxModel",
            "_view_count": null,
            "_view_module": "@jupyter-widgets/controls",
            "_view_module_version": "1.5.0",
            "_view_name": "HBoxView",
            "box_style": "",
            "children": [
              "IPY_MODEL_412991743c7e49de82e756bcc67bebdd",
              "IPY_MODEL_d91ab6de6ccc49868568cf527fc33659",
              "IPY_MODEL_05ecc7bb7fa1466298e58e4b865e4213"
            ],
            "layout": "IPY_MODEL_5258356cd7ee4d3fb17031710a6ac001"
          }
        },
        "412991743c7e49de82e756bcc67bebdd": {
          "model_module": "@jupyter-widgets/controls",
          "model_name": "HTMLModel",
          "model_module_version": "1.5.0",
          "state": {
            "_dom_classes": [],
            "_model_module": "@jupyter-widgets/controls",
            "_model_module_version": "1.5.0",
            "_model_name": "HTMLModel",
            "_view_count": null,
            "_view_module": "@jupyter-widgets/controls",
            "_view_module_version": "1.5.0",
            "_view_name": "HTMLView",
            "description": "",
            "description_tooltip": null,
            "layout": "IPY_MODEL_eca066f545964ff7b2f0958a7d667d00",
            "placeholder": "​",
            "style": "IPY_MODEL_add4a444cc3d46c4b4cd2451d1b3a65f",
            "value": "Downloading (…)lve/main/config.json: 100%"
          }
        },
        "d91ab6de6ccc49868568cf527fc33659": {
          "model_module": "@jupyter-widgets/controls",
          "model_name": "FloatProgressModel",
          "model_module_version": "1.5.0",
          "state": {
            "_dom_classes": [],
            "_model_module": "@jupyter-widgets/controls",
            "_model_module_version": "1.5.0",
            "_model_name": "FloatProgressModel",
            "_view_count": null,
            "_view_module": "@jupyter-widgets/controls",
            "_view_module_version": "1.5.0",
            "_view_name": "ProgressView",
            "bar_style": "success",
            "description": "",
            "description_tooltip": null,
            "layout": "IPY_MODEL_b6a61ef8c1b847848dc670f15f86a51a",
            "max": 425,
            "min": 0,
            "orientation": "horizontal",
            "style": "IPY_MODEL_c2e781f4e23f407085ebf7aef3e84dff",
            "value": 425
          }
        },
        "05ecc7bb7fa1466298e58e4b865e4213": {
          "model_module": "@jupyter-widgets/controls",
          "model_name": "HTMLModel",
          "model_module_version": "1.5.0",
          "state": {
            "_dom_classes": [],
            "_model_module": "@jupyter-widgets/controls",
            "_model_module_version": "1.5.0",
            "_model_name": "HTMLModel",
            "_view_count": null,
            "_view_module": "@jupyter-widgets/controls",
            "_view_module_version": "1.5.0",
            "_view_name": "HTMLView",
            "description": "",
            "description_tooltip": null,
            "layout": "IPY_MODEL_584a2badcb4b457fa0cdbafd5ea9c679",
            "placeholder": "​",
            "style": "IPY_MODEL_3e4be00750af41129fbf81a6986394f8",
            "value": " 425/425 [00:00&lt;00:00, 3.10kB/s]"
          }
        },
        "5258356cd7ee4d3fb17031710a6ac001": {
          "model_module": "@jupyter-widgets/base",
          "model_name": "LayoutModel",
          "model_module_version": "1.2.0",
          "state": {
            "_model_module": "@jupyter-widgets/base",
            "_model_module_version": "1.2.0",
            "_model_name": "LayoutModel",
            "_view_count": null,
            "_view_module": "@jupyter-widgets/base",
            "_view_module_version": "1.2.0",
            "_view_name": "LayoutView",
            "align_content": null,
            "align_items": null,
            "align_self": null,
            "border": null,
            "bottom": null,
            "display": null,
            "flex": null,
            "flex_flow": null,
            "grid_area": null,
            "grid_auto_columns": null,
            "grid_auto_flow": null,
            "grid_auto_rows": null,
            "grid_column": null,
            "grid_gap": null,
            "grid_row": null,
            "grid_template_areas": null,
            "grid_template_columns": null,
            "grid_template_rows": null,
            "height": null,
            "justify_content": null,
            "justify_items": null,
            "left": null,
            "margin": null,
            "max_height": null,
            "max_width": null,
            "min_height": null,
            "min_width": null,
            "object_fit": null,
            "object_position": null,
            "order": null,
            "overflow": null,
            "overflow_x": null,
            "overflow_y": null,
            "padding": null,
            "right": null,
            "top": null,
            "visibility": null,
            "width": null
          }
        },
        "eca066f545964ff7b2f0958a7d667d00": {
          "model_module": "@jupyter-widgets/base",
          "model_name": "LayoutModel",
          "model_module_version": "1.2.0",
          "state": {
            "_model_module": "@jupyter-widgets/base",
            "_model_module_version": "1.2.0",
            "_model_name": "LayoutModel",
            "_view_count": null,
            "_view_module": "@jupyter-widgets/base",
            "_view_module_version": "1.2.0",
            "_view_name": "LayoutView",
            "align_content": null,
            "align_items": null,
            "align_self": null,
            "border": null,
            "bottom": null,
            "display": null,
            "flex": null,
            "flex_flow": null,
            "grid_area": null,
            "grid_auto_columns": null,
            "grid_auto_flow": null,
            "grid_auto_rows": null,
            "grid_column": null,
            "grid_gap": null,
            "grid_row": null,
            "grid_template_areas": null,
            "grid_template_columns": null,
            "grid_template_rows": null,
            "height": null,
            "justify_content": null,
            "justify_items": null,
            "left": null,
            "margin": null,
            "max_height": null,
            "max_width": null,
            "min_height": null,
            "min_width": null,
            "object_fit": null,
            "object_position": null,
            "order": null,
            "overflow": null,
            "overflow_x": null,
            "overflow_y": null,
            "padding": null,
            "right": null,
            "top": null,
            "visibility": null,
            "width": null
          }
        },
        "add4a444cc3d46c4b4cd2451d1b3a65f": {
          "model_module": "@jupyter-widgets/controls",
          "model_name": "DescriptionStyleModel",
          "model_module_version": "1.5.0",
          "state": {
            "_model_module": "@jupyter-widgets/controls",
            "_model_module_version": "1.5.0",
            "_model_name": "DescriptionStyleModel",
            "_view_count": null,
            "_view_module": "@jupyter-widgets/base",
            "_view_module_version": "1.2.0",
            "_view_name": "StyleView",
            "description_width": ""
          }
        },
        "b6a61ef8c1b847848dc670f15f86a51a": {
          "model_module": "@jupyter-widgets/base",
          "model_name": "LayoutModel",
          "model_module_version": "1.2.0",
          "state": {
            "_model_module": "@jupyter-widgets/base",
            "_model_module_version": "1.2.0",
            "_model_name": "LayoutModel",
            "_view_count": null,
            "_view_module": "@jupyter-widgets/base",
            "_view_module_version": "1.2.0",
            "_view_name": "LayoutView",
            "align_content": null,
            "align_items": null,
            "align_self": null,
            "border": null,
            "bottom": null,
            "display": null,
            "flex": null,
            "flex_flow": null,
            "grid_area": null,
            "grid_auto_columns": null,
            "grid_auto_flow": null,
            "grid_auto_rows": null,
            "grid_column": null,
            "grid_gap": null,
            "grid_row": null,
            "grid_template_areas": null,
            "grid_template_columns": null,
            "grid_template_rows": null,
            "height": null,
            "justify_content": null,
            "justify_items": null,
            "left": null,
            "margin": null,
            "max_height": null,
            "max_width": null,
            "min_height": null,
            "min_width": null,
            "object_fit": null,
            "object_position": null,
            "order": null,
            "overflow": null,
            "overflow_x": null,
            "overflow_y": null,
            "padding": null,
            "right": null,
            "top": null,
            "visibility": null,
            "width": null
          }
        },
        "c2e781f4e23f407085ebf7aef3e84dff": {
          "model_module": "@jupyter-widgets/controls",
          "model_name": "ProgressStyleModel",
          "model_module_version": "1.5.0",
          "state": {
            "_model_module": "@jupyter-widgets/controls",
            "_model_module_version": "1.5.0",
            "_model_name": "ProgressStyleModel",
            "_view_count": null,
            "_view_module": "@jupyter-widgets/base",
            "_view_module_version": "1.2.0",
            "_view_name": "StyleView",
            "bar_color": null,
            "description_width": ""
          }
        },
        "584a2badcb4b457fa0cdbafd5ea9c679": {
          "model_module": "@jupyter-widgets/base",
          "model_name": "LayoutModel",
          "model_module_version": "1.2.0",
          "state": {
            "_model_module": "@jupyter-widgets/base",
            "_model_module_version": "1.2.0",
            "_model_name": "LayoutModel",
            "_view_count": null,
            "_view_module": "@jupyter-widgets/base",
            "_view_module_version": "1.2.0",
            "_view_name": "LayoutView",
            "align_content": null,
            "align_items": null,
            "align_self": null,
            "border": null,
            "bottom": null,
            "display": null,
            "flex": null,
            "flex_flow": null,
            "grid_area": null,
            "grid_auto_columns": null,
            "grid_auto_flow": null,
            "grid_auto_rows": null,
            "grid_column": null,
            "grid_gap": null,
            "grid_row": null,
            "grid_template_areas": null,
            "grid_template_columns": null,
            "grid_template_rows": null,
            "height": null,
            "justify_content": null,
            "justify_items": null,
            "left": null,
            "margin": null,
            "max_height": null,
            "max_width": null,
            "min_height": null,
            "min_width": null,
            "object_fit": null,
            "object_position": null,
            "order": null,
            "overflow": null,
            "overflow_x": null,
            "overflow_y": null,
            "padding": null,
            "right": null,
            "top": null,
            "visibility": null,
            "width": null
          }
        },
        "3e4be00750af41129fbf81a6986394f8": {
          "model_module": "@jupyter-widgets/controls",
          "model_name": "DescriptionStyleModel",
          "model_module_version": "1.5.0",
          "state": {
            "_model_module": "@jupyter-widgets/controls",
            "_model_module_version": "1.5.0",
            "_model_name": "DescriptionStyleModel",
            "_view_count": null,
            "_view_module": "@jupyter-widgets/base",
            "_view_module_version": "1.2.0",
            "_view_name": "StyleView",
            "description_width": ""
          }
        }
      }
    }
  },
  "cells": [
    {
      "cell_type": "code",
      "execution_count": 58,
      "metadata": {
        "id": "IJTL2FSQT9PL"
      },
      "outputs": [],
      "source": [
        "!pip install Korpora\n",
        "!pip install seqeval\n",
        "!pip install transformers"
      ]
    },
    {
      "cell_type": "code",
      "source": [
        "from Korpora import Korpora\n",
        "\n",
        "Korpora.fetch(\"naver_changwon_ner\")\n",
        "corpus = Korpora.load(\"naver_changwon_ner\")"
      ],
      "metadata": {
        "colab": {
          "base_uri": "https://localhost:8080/"
        },
        "id": "AuN8x39NULrJ",
        "outputId": "5202bb7c-1e58-47b2-966f-a3c917376dfc"
      },
      "execution_count": 4,
      "outputs": [
        {
          "output_type": "stream",
          "name": "stderr",
          "text": [
            "[naver_changwon_ner] download train_data: 16.9MB [00:00, 98.8MB/s]                            \n"
          ]
        },
        {
          "output_type": "stream",
          "name": "stdout",
          "text": [
            "\n",
            "    Korpora 는 다른 분들이 연구 목적으로 공유해주신 말뭉치들을\n",
            "    손쉽게 다운로드, 사용할 수 있는 기능만을 제공합니다.\n",
            "\n",
            "    말뭉치들을 공유해 주신 분들에게 감사드리며, 각 말뭉치 별 설명과 라이센스를 공유 드립니다.\n",
            "    해당 말뭉치에 대해 자세히 알고 싶으신 분은 아래의 description 을 참고,\n",
            "    해당 말뭉치를 연구/상용의 목적으로 이용하실 때에는 아래의 라이센스를 참고해 주시기 바랍니다.\n",
            "\n",
            "    # Description\n",
            "    Author : 네이버 + 창원대\n",
            "    Repository : https://github.com/naver/nlp-challenge/tree/master/missions/ner\n",
            "    References : http://air.changwon.ac.kr/?page_id=10\n",
            "\n",
            "    개체명(Named Entity)은 인명, 기관명, 지명 등과 같이 문장 또는 문서에서 특정한 의미를 가지고 있는 단어 또는 어구를 말합니다.\n",
            "    이 때문에 개체명은 정보 검색 및 언어 이해를 위한 분석에서 주요한 대상으로 다루어지고 있습니다.\n",
            "    Data.ly에서는 개체명 코퍼스를 제공하여 연구에 도움을 드리고자 하며, 공개적인 리더보드를 통해 많은 분들의 연구 동향을 논의/공유하고자 합니다.\n",
            "    제공되는 코퍼스는 Data.ly에서 제작한 것으로, 연구 및 리더보드를 위한 학습으로 사용 가능하며 상업적인 목적으로 사용될 수 없습니다.\n",
            "\n",
            "    # License\n",
            "    연구 및 리더보드를 위한 학습으로 사용 가능하며 상업적인 목적으로 사용될 수 없습니다.\n",
            "\n",
            "[Korpora] Corpus `naver_changwon_ner` is already installed at /root/Korpora/naver_changwon_ner/train_data\n"
          ]
        }
      ]
    },
    {
      "cell_type": "code",
      "source": [
        "import numpy as np\n",
        "import pandas as pd\n",
        "from torch.utils.data import DataLoader, Dataset\n",
        "from tensorflow.keras.optimizers import SGD\n",
        "from tqdm import tqdm\n",
        "import os\n",
        "\n",
        "from sklearn.model_selection import train_test_split\n",
        "from transformers import shape_list, BertTokenizer, TFBertModel, AdamW\n",
        "import tensorflow as tf\n",
        "\n",
        "from seqeval.metrics import f1_score, classification_report"
      ],
      "metadata": {
        "id": "36SCIuQCXW9Z"
      },
      "execution_count": 44,
      "outputs": []
    },
    {
      "cell_type": "code",
      "source": [
        "df = pd.DataFrame()\n",
        "df['text'] = corpus.train.texts\n",
        "df['words'] = corpus.train.words\n",
        "df['tags'] = corpus.train.tags"
      ],
      "metadata": {
        "id": "_U06HC9MXgvo"
      },
      "execution_count": 6,
      "outputs": []
    },
    {
      "cell_type": "code",
      "source": [
        "all_tag = []\n",
        "for tags in tqdm(corpus.train.tags):\n",
        "  for tag in tags:\n",
        "    if tag not in all_tag:\n",
        "      all_tag.append(tag)\n"
      ],
      "metadata": {
        "colab": {
          "base_uri": "https://localhost:8080/"
        },
        "id": "Dl_lWZYoYmmz",
        "outputId": "21e9fd1b-5280-48ef-cd54-1f9138fdeaee"
      },
      "execution_count": 7,
      "outputs": [
        {
          "output_type": "stream",
          "name": "stderr",
          "text": [
            "100%|██████████| 90000/90000 [00:00<00:00, 107009.77it/s]\n"
          ]
        }
      ]
    },
    {
      "cell_type": "code",
      "source": [
        "df['tags'] = df['tags'].apply(lambda x: ' '.join(x))"
      ],
      "metadata": {
        "id": "KHfQVhRxa_Ul"
      },
      "execution_count": 8,
      "outputs": []
    },
    {
      "cell_type": "code",
      "source": [
        "all_tag"
      ],
      "metadata": {
        "colab": {
          "base_uri": "https://localhost:8080/"
        },
        "id": "H_NIiZHdZBEU",
        "outputId": "98b6e9f6-271a-4855-9a4e-20ccc8b55f3a"
      },
      "execution_count": 9,
      "outputs": [
        {
          "output_type": "execute_result",
          "data": {
            "text/plain": [
              "['PER_B',\n",
              " 'DAT_B',\n",
              " '-',\n",
              " 'ORG_B',\n",
              " 'CVL_B',\n",
              " 'NUM_B',\n",
              " 'LOC_B',\n",
              " 'EVT_B',\n",
              " 'TRM_B',\n",
              " 'TRM_I',\n",
              " 'EVT_I',\n",
              " 'PER_I',\n",
              " 'CVL_I',\n",
              " 'NUM_I',\n",
              " 'TIM_B',\n",
              " 'TIM_I',\n",
              " 'ANM_B',\n",
              " 'DAT_I',\n",
              " 'FLD_B',\n",
              " 'ORG_I',\n",
              " 'MAT_B',\n",
              " 'MAT_I',\n",
              " 'AFW_B',\n",
              " 'LOC_I',\n",
              " 'AFW_I',\n",
              " 'PLT_B',\n",
              " 'FLD_I',\n",
              " 'ANM_I',\n",
              " 'PLT_I']"
            ]
          },
          "metadata": {},
          "execution_count": 9
        }
      ]
    },
    {
      "cell_type": "code",
      "source": [
        "train_df, test_df = train_test_split(df, test_size=0.2, random_state=42)\n",
        "\n",
        "# 학습 데이터 개수와 테스트 데이터 개수 출력하기\n",
        "print(f'train data size: {len(train_df)}, test data size: {len(test_df)}')"
      ],
      "metadata": {
        "colab": {
          "base_uri": "https://localhost:8080/"
        },
        "id": "E_qOm3vyUNTR",
        "outputId": "1183d3d8-735b-4a44-997d-55c458f00532"
      },
      "execution_count": 10,
      "outputs": [
        {
          "output_type": "stream",
          "name": "stdout",
          "text": [
            "train data size: 72000, test data size: 18000\n"
          ]
        }
      ]
    },
    {
      "cell_type": "code",
      "source": [
        "train_data_sentence = [sent.split() for sent in train_df['text'].values ]\n",
        "test_data_sentence = [sent.split() for sent in test_df['text'].values]\n",
        "train_data_label = [tag.split() for tag in train_df['tags'].values]\n",
        "test_data_label = [tag.split() for tag in test_df['tags'].values]"
      ],
      "metadata": {
        "id": "piF4R-DOar-N"
      },
      "execution_count": 11,
      "outputs": []
    },
    {
      "cell_type": "code",
      "source": [
        "print(train_data_sentence[2])\n",
        "print(train_data_label[2])"
      ],
      "metadata": {
        "colab": {
          "base_uri": "https://localhost:8080/"
        },
        "id": "bPu90C1Dar76",
        "outputId": "db2cabff-d3e1-4b10-f0ee-be39c263232a"
      },
      "execution_count": 12,
      "outputs": [
        {
          "output_type": "stream",
          "name": "stdout",
          "text": [
            "['타석에', '서서', '힘', '일체', '안들이고', '좌', '·', '우', '외야로', '타호를', '가볍게', '보내', '율동을', '확인하는데', '그치더라', '．']\n",
            "['-', '-', '-', '-', '-', 'TRM_B', '-', 'TRM_B', '-', '-', '-', '-', '-', '-', '-', '-']\n"
          ]
        }
      ]
    },
    {
      "cell_type": "code",
      "source": [
        "tag_to_index = {tag: index for index, tag in enumerate(all_tag)}\n",
        "index_to_tag = {index: tag for index, tag in enumerate(all_tag)}"
      ],
      "metadata": {
        "id": "SQoiXJfqbW7p"
      },
      "execution_count": 13,
      "outputs": []
    },
    {
      "cell_type": "code",
      "source": [
        "tag_size = len(tag_to_index)\n",
        "print('개체명 태깅 정보의 개수 :',tag_size)"
      ],
      "metadata": {
        "colab": {
          "base_uri": "https://localhost:8080/"
        },
        "id": "qYhhTA4JbW5R",
        "outputId": "5d409862-2e24-4483-ffe4-c185f95afe98"
      },
      "execution_count": 14,
      "outputs": [
        {
          "output_type": "stream",
          "name": "stdout",
          "text": [
            "개체명 태깅 정보의 개수 : 29\n"
          ]
        }
      ]
    },
    {
      "cell_type": "code",
      "source": [
        "tokenizer =BertTokenizer.from_pretrained('klue/bert-base')\n",
        "sent = train_data_sentence[1]\n",
        "label = train_data_label[1]\n",
        "\n",
        "print(' 문장 :', sent)\n",
        "print(' 레이블 :',label)\n",
        "print(' 레이블의 정수 인코딩 :',[tag_to_index[idx] for idx in label])\n",
        "print('문장의 길이 :', len(sent))\n",
        "print('레이블의 길이 :', len(label))"
      ],
      "metadata": {
        "colab": {
          "base_uri": "https://localhost:8080/",
          "height": 255,
          "referenced_widgets": [
            "061155d927e04ceca1c21e26c7a74c72",
            "42d682ad1d48455aa3ce0eead6486da7",
            "7f55c3fe13954e86b93097bf58d5f12b",
            "4d46afdfeaba4bd3be211fae38f17148",
            "22a70a7ec9094c9cba5710930e285e0e",
            "2aac5e10dc0c46beb03bd2b37b0b942b",
            "6b038b18336f4e2ab95b0e166cc9d533",
            "0f9f638fca8d495fa083dafc5384ed22",
            "f7fb712f469442b39aab8e3f53b7da23",
            "779a13dd647c4bcab17d9e44cc0a4599",
            "63b2f0707f0c4f1eafdc7b3e11411a45",
            "a8ffc01b038c4de6a4b8fa52ee49639f",
            "901d207a46144ec9ac2644e1c44fcbff",
            "344473acc82c46a8a8c828065879f965",
            "440f89c99c8d45328fcab602f3e12e3d",
            "c25c9470fc0c45b4abd0377dd3512266",
            "27d223f7d7954894af3a7fa34486c6c9",
            "d1e6b11d6a764bbba2abc32ca14407bc",
            "d19e47ee52d44ab3b1bf9cff726a977e",
            "1947ea74f2cf497c99bb595a7d03420e",
            "52c3703a1bc84facaf216cb4a9f0a494",
            "16cbc795463e48e9ba06c566324e75c6",
            "bcfb877ce319420f808ea6b6e75c3118",
            "ba2e3408494f4ba797bb240d734f6754",
            "258110acbbd3470893deb48c97de9bc2",
            "98f5a9a0843f492588f3631b74fa9bc9",
            "a424219645fa4c3cb69e32a78176f965",
            "c1b772dcda4d43209ae4fd30a4ec5673",
            "4d2325a423db4bb298267806b837287c",
            "9af9448553f54b879f6a78b999db5b31",
            "60f38bc80d6a40b5b3ebe00addfa2d62",
            "3878b0be1c3d4a3da502092e3e6ae734",
            "f41eef4436514024a9fd8f97a6f5436b",
            "dadeee861c854cda8bda602318be0eed",
            "412991743c7e49de82e756bcc67bebdd",
            "d91ab6de6ccc49868568cf527fc33659",
            "05ecc7bb7fa1466298e58e4b865e4213",
            "5258356cd7ee4d3fb17031710a6ac001",
            "eca066f545964ff7b2f0958a7d667d00",
            "add4a444cc3d46c4b4cd2451d1b3a65f",
            "b6a61ef8c1b847848dc670f15f86a51a",
            "c2e781f4e23f407085ebf7aef3e84dff",
            "584a2badcb4b457fa0cdbafd5ea9c679",
            "3e4be00750af41129fbf81a6986394f8"
          ]
        },
        "id": "RQfFmRU-bW3N",
        "outputId": "ffcfb18f-f9da-45d8-ef9e-21bd863b8a42"
      },
      "execution_count": 15,
      "outputs": [
        {
          "output_type": "display_data",
          "data": {
            "text/plain": [
              "Downloading (…)solve/main/vocab.txt:   0%|          | 0.00/248k [00:00<?, ?B/s]"
            ],
            "application/vnd.jupyter.widget-view+json": {
              "version_major": 2,
              "version_minor": 0,
              "model_id": "061155d927e04ceca1c21e26c7a74c72"
            }
          },
          "metadata": {}
        },
        {
          "output_type": "display_data",
          "data": {
            "text/plain": [
              "Downloading (…)cial_tokens_map.json:   0%|          | 0.00/125 [00:00<?, ?B/s]"
            ],
            "application/vnd.jupyter.widget-view+json": {
              "version_major": 2,
              "version_minor": 0,
              "model_id": "a8ffc01b038c4de6a4b8fa52ee49639f"
            }
          },
          "metadata": {}
        },
        {
          "output_type": "display_data",
          "data": {
            "text/plain": [
              "Downloading (…)okenizer_config.json:   0%|          | 0.00/289 [00:00<?, ?B/s]"
            ],
            "application/vnd.jupyter.widget-view+json": {
              "version_major": 2,
              "version_minor": 0,
              "model_id": "bcfb877ce319420f808ea6b6e75c3118"
            }
          },
          "metadata": {}
        },
        {
          "output_type": "display_data",
          "data": {
            "text/plain": [
              "Downloading (…)lve/main/config.json:   0%|          | 0.00/425 [00:00<?, ?B/s]"
            ],
            "application/vnd.jupyter.widget-view+json": {
              "version_major": 2,
              "version_minor": 0,
              "model_id": "dadeee861c854cda8bda602318be0eed"
            }
          },
          "metadata": {}
        },
        {
          "output_type": "stream",
          "name": "stdout",
          "text": [
            " 문장 : ['김준호', '트레이닝복은', '“소비자들이', '새로운', 'HD방식', '서드샷용', '화면', '사진기를', '활용하기', '시작하면', '큰', '광대역', '서브를', '원하게', '될', '것”이라고', '인터넷', '업체', '창설', '검토', '후경을', '설명했다', '.']\n",
            " 레이블 : ['PER_B', 'CVL_B', 'CVL_B', '-', 'TRM_B', 'TRM_B', 'TRM_I', 'TRM_I', '-', '-', '-', '-', '-', '-', '-', '-', 'TRM_B', '-', '-', '-', '-', '-', '-']\n",
            " 레이블의 정수 인코딩 : [0, 4, 4, 2, 8, 8, 9, 9, 2, 2, 2, 2, 2, 2, 2, 2, 8, 2, 2, 2, 2, 2, 2]\n",
            "문장의 길이 : 23\n",
            "레이블의 길이 : 23\n"
          ]
        }
      ]
    },
    {
      "cell_type": "code",
      "source": [
        "tokens = []\n",
        "for one_word in sent:\n",
        "#각 단어에 대해서 서브워드로 분리.\n",
        "# ex) one_word = '쿠 마 리' ===> subword_tokens = ['쿠', '##마 리']\n",
        "# ex) one_word = '한 동 수 가' ===> subword_tokens = ['한 동', '##수', '##가']\n",
        "  subword_tokens = tokenizer.tokenize(one_word)\n",
        "  tokens.extend(subword_tokens)\n",
        "\n",
        "print('BERT 토크나이저 적용 후 문장 :',tokens)\n",
        "print(' 레이블 :', label)\n",
        "print('레이블의 정수 인코딩 :',[tag_to_index[idx] for idx in label])\n",
        "print('문장의 길이 :', len(tokens))\n",
        "print('레이블의 길이 :', len(label))"
      ],
      "metadata": {
        "colab": {
          "base_uri": "https://localhost:8080/"
        },
        "id": "J6uKK536bW05",
        "outputId": "3d013708-5ec4-4b69-8c8f-fd546ffd0fe1"
      },
      "execution_count": 16,
      "outputs": [
        {
          "output_type": "stream",
          "name": "stdout",
          "text": [
            "BERT 토크나이저 적용 후 문장 : ['김준', '##호', '트레이닝', '##복', '##은', '“', '소비자', '##들이', '새로운', 'HD', '##방식', '서', '##드', '##샷', '##용', '화면', '사진', '##기', '##를', '활용', '##하기', '시작', '##하면', '큰', '광대', '##역', '서브', '##를', '원하', '##게', '될', '것', '”', '이라', '##고', '인터넷', '업체', '창설', '검토', '후', '##경', '##을', '설명', '##했', '##다', '.']\n",
            " 레이블 : ['PER_B', 'CVL_B', 'CVL_B', '-', 'TRM_B', 'TRM_B', 'TRM_I', 'TRM_I', '-', '-', '-', '-', '-', '-', '-', '-', 'TRM_B', '-', '-', '-', '-', '-', '-']\n",
            "레이블의 정수 인코딩 : [0, 4, 4, 2, 8, 8, 9, 9, 2, 2, 2, 2, 2, 2, 2, 2, 8, 2, 2, 2, 2, 2, 2]\n",
            "문장의 길이 : 46\n",
            "레이블의 길이 : 23\n"
          ]
        }
      ]
    },
    {
      "cell_type": "code",
      "source": [
        "tokens = []\n",
        "labels_ids = []\n",
        "for one_word, label_token in zip(train_data_sentence[1], train_data_label[1]):\n",
        "  subword_tokens = tokenizer.tokenize(one_word)\n",
        "  tokens.extend(subword_tokens)\n",
        "  labels_ids.extend([tag_to_index[label_token]]+ [-100] * (len(subword_tokens)- 1))\n",
        "\n",
        "print('토 큰 화 후 문 장 :',tokens)\n",
        "print('레 이 블 :', ['[PAD]' if idx == -100 else index_to_tag[idx] for idx in labels_ids])\n",
        "print('레이블의 정수 인코딩 :',labels_ids)\n",
        "print('문 장 의 길 이 :', len(tokens))\n",
        "print('레 이 블 의 길 이 :', len(labels_ids))"
      ],
      "metadata": {
        "colab": {
          "base_uri": "https://localhost:8080/"
        },
        "id": "CGGOhY8-bWyx",
        "outputId": "5104303a-7651-4117-ccad-dbc79ead5e50"
      },
      "execution_count": 17,
      "outputs": [
        {
          "output_type": "stream",
          "name": "stdout",
          "text": [
            "토 큰 화 후 문 장 : ['김준', '##호', '트레이닝', '##복', '##은', '“', '소비자', '##들이', '새로운', 'HD', '##방식', '서', '##드', '##샷', '##용', '화면', '사진', '##기', '##를', '활용', '##하기', '시작', '##하면', '큰', '광대', '##역', '서브', '##를', '원하', '##게', '될', '것', '”', '이라', '##고', '인터넷', '업체', '창설', '검토', '후', '##경', '##을', '설명', '##했', '##다', '.']\n",
            "레 이 블 : ['PER_B', '[PAD]', 'CVL_B', '[PAD]', '[PAD]', 'CVL_B', '[PAD]', '[PAD]', '-', 'TRM_B', '[PAD]', 'TRM_B', '[PAD]', '[PAD]', '[PAD]', 'TRM_I', 'TRM_I', '[PAD]', '[PAD]', '-', '[PAD]', '-', '[PAD]', '-', '-', '[PAD]', '-', '[PAD]', '-', '[PAD]', '-', '-', '[PAD]', '[PAD]', '[PAD]', 'TRM_B', '-', '-', '-', '-', '[PAD]', '[PAD]', '-', '[PAD]', '[PAD]', '-']\n",
            "레이블의 정수 인코딩 : [0, -100, 4, -100, -100, 4, -100, -100, 2, 8, -100, 8, -100, -100, -100, 9, 9, -100, -100, 2, -100, 2, -100, 2, 2, -100, 2, -100, 2, -100, 2, 2, -100, -100, -100, 8, 2, 2, 2, 2, -100, -100, 2, -100, -100, 2]\n",
            "문 장 의 길 이 : 46\n",
            "레 이 블 의 길 이 : 46\n"
          ]
        }
      ]
    },
    {
      "cell_type": "code",
      "source": [
        "def convert_examples_to_features(examples, labels, max_seq_len, tokenizer,\n",
        "                                 pad_token_id_for_segment=0,pad_token_id_for_label=-100):\n",
        "  pad_token_id = tokenizer.pad_token_id\n",
        "  input_ids, attention_masks, token_type_ids, data_labels = [], [], [], []\n",
        "  cls_token = tokenizer.cls_token\n",
        "  sep_token = tokenizer.sep_token\n",
        "  for example, label in tqdm(zip(examples, labels), total=len(examples)):\n",
        "    tokens = []\n",
        "    labels_ids = []\n",
        "    for one_word, label_token in zip(example, label):\n",
        "      #하나의 단어에 대해서 서브워드로 토큰화\n",
        "      subword_tokens = tokenizer.tokenize(one_word)\n",
        "      tokens.extend(subword_tokens)\n",
        "      #서브워드 중 첫번째 서브워드만 개체명 레이블을 부여하고 그 외에는 -100으로 채운다.\n",
        "      labels_ids.extend([tag_to_index[label_token]]+ [pad_token_id_for_label] * (len(subword_tokens) - 1))\n",
        "      #[CLS]와[SEP]를 후에 추가할 것을 고려하여 최대 길이를 초과하는 샘플의 경우 max_seq_len-2의 길이로 변환.\n",
        "      #ex)max_seq_len=64라면 길이가62보다 긴 샘플은 뒷 부분을 자르고 길 이62로 변환.\n",
        "    special_tokens_count = 2\n",
        "    if len(tokens) > max_seq_len - special_tokens_count:\n",
        "        tokens = tokens[:(max_seq_len - special_tokens_count)]\n",
        "        labels_ids = labels_ids[:(max_seq_len - special_tokens_count)]\n",
        "    #[SEP]를 추가하는 코드\n",
        "    #1.토큰화 결과의 맨 뒷 부분에[SEP]토큰 추가 #2. 레이블에도 맨 뒷 부분에 -100 추가.\n",
        "    tokens += [sep_token]\n",
        "    labels_ids += [pad_token_id_for_label]\n",
        "    #[CLS]를 추가하는 코드\n",
        "    #1. 토큰화 결과의 앞 부분에 [CLS] 토큰 추가\n",
        "    #2. 레이블의 맨 앞 부분에도 -100 추가.\n",
        "    tokens = [cls_token] + tokens\n",
        "    labels_ids = [pad_token_id_for_label] + labels_ids\n",
        "    #정수 인코딩\n",
        "    input_id = tokenizer.convert_tokens_to_ids(tokens)\n",
        "    #어텐션 마스크 생성\n",
        "    attention_mask = [1] * len(input_id)\n",
        "    #정수 인코딩에 추가할 패딩 길이 연산\n",
        "    padding_count = max_seq_len - len(input_id)\n",
        "    #정수 인코딩,어텐션 마스크에 패딩 추가\n",
        "    input_id = input_id + ([pad_token_id] * padding_count)\n",
        "    attention_mask = attention_mask + ([0] * padding_count)\n",
        "\n",
        "    #세그먼트 인코딩.\n",
        "    token_type_id = [pad_token_id_for_segment] * max_seq_len\n",
        "\n",
        "    # 레이블 패딩.(단, 이 경우는 패딩 토큰의 ID가 -100)\n",
        "    label = labels_ids + ([pad_token_id_for_label] * padding_count)\n",
        "\n",
        "    assert len(input_id) == max_seq_len, \"Error with input length {} vs {}\".format(len(input_id), max_seq_len)\n",
        "    assert len(attention_mask) == max_seq_len, \"Error with attention mask length {} vs {}\".format(len(attention_mask), max_seq_len)\n",
        "    assert len(token_type_id) == max_seq_len, \"Error with token type length {} vs {}\".format(len(token_type_id), max_seq_len)\n",
        "    assert len(label) == max_seq_len, \"Error with labels length {} vs {}\".format(len(label), max_seq_len)\n",
        "\n",
        "    input_ids.append(input_id)\n",
        "    attention_masks.append(attention_mask)\n",
        "    token_type_ids.append(token_type_id)\n",
        "    data_labels.append(label)\n",
        "\n",
        "  input_ids = np.array(input_ids, dtype=int)\n",
        "  attention_masks = np.array(attention_masks, dtype=int)\n",
        "  token_type_ids = np.array(token_type_ids, dtype=int)\n",
        "  data_labels = np.asarray(data_labels, dtype=np.int32)\n",
        "  \n",
        "  return (input_ids, attention_masks, token_type_ids), data_labels"
      ],
      "metadata": {
        "id": "m8oUlh7ObWwn"
      },
      "execution_count": 18,
      "outputs": []
    },
    {
      "cell_type": "code",
      "source": [
        "X_train, y_train = convert_examples_to_features(train_data_sentence, train_data_label, max_seq_len=128, tokenizer=tokenizer)\n",
        "X_test, y_test = convert_examples_to_features(test_data_sentence, test_data_label, max_seq_len=128, tokenizer=tokenizer)"
      ],
      "metadata": {
        "colab": {
          "base_uri": "https://localhost:8080/"
        },
        "id": "uxIkh0WnbWR2",
        "outputId": "7179b641-07d6-4133-d5af-446d3c237c32"
      },
      "execution_count": 19,
      "outputs": [
        {
          "output_type": "stream",
          "name": "stderr",
          "text": [
            "100%|██████████| 72000/72000 [01:28<00:00, 809.30it/s]\n",
            "100%|██████████| 18000/18000 [00:26<00:00, 675.86it/s]\n"
          ]
        }
      ]
    },
    {
      "cell_type": "code",
      "source": [
        "print('기 존 원 문 :', train_data_sentence[0])\n",
        "print('기 존 레 이 블 :', train_data_label[0])\n",
        "print('-' * 50)\n",
        "print('토 큰 화 후 원 문 :', [tokenizer.decode([word]) for word in X_train[0][0]])\n",
        "print('토 큰 화 후 레 이 블 :', ['[PAD]' if idx == -100 else index_to_tag[idx] for idx in y_train[0]])\n",
        "print('-' * 50)\n",
        "print('정 수 인 코 딩 결 과 :', X_train[0][0])\n",
        "print('정수 인코딩 레이블:',y_train[0])"
      ],
      "metadata": {
        "colab": {
          "base_uri": "https://localhost:8080/"
        },
        "id": "BGdP5-PBar1Q",
        "outputId": "118d0185-738d-49ee-bb75-c46a701e854c"
      },
      "execution_count": 20,
      "outputs": [
        {
          "output_type": "stream",
          "name": "stdout",
          "text": [
            "기 존 원 문 : ['3일', '몽모렌시폭포', '소공동', '롯데호텔에서', '알바레스', '부총리', '겸', '한러정상회담', '별미국수', '체재로', '제11회', '과학기술관계장관회의가', '열렸다', '.']\n",
            "기 존 레 이 블 : ['DAT_B', 'LOC_B', 'LOC_B', 'AFW_B', 'PER_B', 'CVL_B', '-', 'ORG_B', 'CVL_B', '-', 'NUM_B', 'EVT_B', '-', '-']\n",
            "--------------------------------------------------\n",
            "토 큰 화 후 원 문 : ['[CLS]', '3', '##일', '몽', '##모', '##렌', '##시', '##폭', '##포', '소공동', '롯데호텔', '##에서', '알바', '##레스', '부총리', '겸', '한', '##러', '##정', '##상', '##회', '##담', '별미', '##국수', '체', '##재', '##로', '제', '##11', '##회', '과학', '##기술', '##관계', '##장', '##관', '##회의', '##가', '열렸', '##다', '.', '[SEP]', '[PAD]', '[PAD]', '[PAD]', '[PAD]', '[PAD]', '[PAD]', '[PAD]', '[PAD]', '[PAD]', '[PAD]', '[PAD]', '[PAD]', '[PAD]', '[PAD]', '[PAD]', '[PAD]', '[PAD]', '[PAD]', '[PAD]', '[PAD]', '[PAD]', '[PAD]', '[PAD]', '[PAD]', '[PAD]', '[PAD]', '[PAD]', '[PAD]', '[PAD]', '[PAD]', '[PAD]', '[PAD]', '[PAD]', '[PAD]', '[PAD]', '[PAD]', '[PAD]', '[PAD]', '[PAD]', '[PAD]', '[PAD]', '[PAD]', '[PAD]', '[PAD]', '[PAD]', '[PAD]', '[PAD]', '[PAD]', '[PAD]', '[PAD]', '[PAD]', '[PAD]', '[PAD]', '[PAD]', '[PAD]', '[PAD]', '[PAD]', '[PAD]', '[PAD]', '[PAD]', '[PAD]', '[PAD]', '[PAD]', '[PAD]', '[PAD]', '[PAD]', '[PAD]', '[PAD]', '[PAD]', '[PAD]', '[PAD]', '[PAD]', '[PAD]', '[PAD]', '[PAD]', '[PAD]', '[PAD]', '[PAD]', '[PAD]', '[PAD]', '[PAD]', '[PAD]', '[PAD]', '[PAD]', '[PAD]', '[PAD]', '[PAD]']\n",
            "토 큰 화 후 레 이 블 : ['[PAD]', 'DAT_B', '[PAD]', 'LOC_B', '[PAD]', '[PAD]', '[PAD]', '[PAD]', '[PAD]', 'LOC_B', 'AFW_B', '[PAD]', 'PER_B', '[PAD]', 'CVL_B', '-', 'ORG_B', '[PAD]', '[PAD]', '[PAD]', '[PAD]', '[PAD]', 'CVL_B', '[PAD]', '-', '[PAD]', '[PAD]', 'NUM_B', '[PAD]', '[PAD]', 'EVT_B', '[PAD]', '[PAD]', '[PAD]', '[PAD]', '[PAD]', '[PAD]', '-', '[PAD]', '-', '[PAD]', '[PAD]', '[PAD]', '[PAD]', '[PAD]', '[PAD]', '[PAD]', '[PAD]', '[PAD]', '[PAD]', '[PAD]', '[PAD]', '[PAD]', '[PAD]', '[PAD]', '[PAD]', '[PAD]', '[PAD]', '[PAD]', '[PAD]', '[PAD]', '[PAD]', '[PAD]', '[PAD]', '[PAD]', '[PAD]', '[PAD]', '[PAD]', '[PAD]', '[PAD]', '[PAD]', '[PAD]', '[PAD]', '[PAD]', '[PAD]', '[PAD]', '[PAD]', '[PAD]', '[PAD]', '[PAD]', '[PAD]', '[PAD]', '[PAD]', '[PAD]', '[PAD]', '[PAD]', '[PAD]', '[PAD]', '[PAD]', '[PAD]', '[PAD]', '[PAD]', '[PAD]', '[PAD]', '[PAD]', '[PAD]', '[PAD]', '[PAD]', '[PAD]', '[PAD]', '[PAD]', '[PAD]', '[PAD]', '[PAD]', '[PAD]', '[PAD]', '[PAD]', '[PAD]', '[PAD]', '[PAD]', '[PAD]', '[PAD]', '[PAD]', '[PAD]', '[PAD]', '[PAD]', '[PAD]', '[PAD]', '[PAD]', '[PAD]', '[PAD]', '[PAD]', '[PAD]', '[PAD]', '[PAD]', '[PAD]', '[PAD]', '[PAD]']\n",
            "--------------------------------------------------\n",
            "정 수 인 코 딩 결 과 : [    2    23  2210  1086  2391  2479  2067  2277  2208 28633 18942 27135\n",
            " 14321  4443  8819   588  1891  2030  2287  2290  2124  2408 21621  9473\n",
            "  1658  2070  2200  1545 14189  2124  4038 14276  8812  2121  2133  7288\n",
            "  2116  7099  2062    18     3     0     0     0     0     0     0     0\n",
            "     0     0     0     0     0     0     0     0     0     0     0     0\n",
            "     0     0     0     0     0     0     0     0     0     0     0     0\n",
            "     0     0     0     0     0     0     0     0     0     0     0     0\n",
            "     0     0     0     0     0     0     0     0     0     0     0     0\n",
            "     0     0     0     0     0     0     0     0     0     0     0     0\n",
            "     0     0     0     0     0     0     0     0     0     0     0     0\n",
            "     0     0     0     0     0     0     0     0]\n",
            "정수 인코딩 레이블: [-100    1 -100    6 -100 -100 -100 -100 -100    6   22 -100    0 -100\n",
            "    4    2    3 -100 -100 -100 -100 -100    4 -100    2 -100 -100    5\n",
            " -100 -100    7 -100 -100 -100 -100 -100 -100    2 -100    2 -100 -100\n",
            " -100 -100 -100 -100 -100 -100 -100 -100 -100 -100 -100 -100 -100 -100\n",
            " -100 -100 -100 -100 -100 -100 -100 -100 -100 -100 -100 -100 -100 -100\n",
            " -100 -100 -100 -100 -100 -100 -100 -100 -100 -100 -100 -100 -100 -100\n",
            " -100 -100 -100 -100 -100 -100 -100 -100 -100 -100 -100 -100 -100 -100\n",
            " -100 -100 -100 -100 -100 -100 -100 -100 -100 -100 -100 -100 -100 -100\n",
            " -100 -100 -100 -100 -100 -100 -100 -100 -100 -100 -100 -100 -100 -100\n",
            " -100 -100]\n"
          ]
        }
      ]
    },
    {
      "cell_type": "code",
      "source": [
        "print('세그먼트 인코딩 :', X_train[2][0])\n",
        "print('어텐션 마스크 :', X_train[1][0])"
      ],
      "metadata": {
        "colab": {
          "base_uri": "https://localhost:8080/"
        },
        "id": "EyydKAgiarzL",
        "outputId": "5d8f115d-1e95-48d6-a376-744adcea8fba"
      },
      "execution_count": 21,
      "outputs": [
        {
          "output_type": "stream",
          "name": "stdout",
          "text": [
            "세그먼트 인코딩 : [0 0 0 0 0 0 0 0 0 0 0 0 0 0 0 0 0 0 0 0 0 0 0 0 0 0 0 0 0 0 0 0 0 0 0 0 0\n",
            " 0 0 0 0 0 0 0 0 0 0 0 0 0 0 0 0 0 0 0 0 0 0 0 0 0 0 0 0 0 0 0 0 0 0 0 0 0\n",
            " 0 0 0 0 0 0 0 0 0 0 0 0 0 0 0 0 0 0 0 0 0 0 0 0 0 0 0 0 0 0 0 0 0 0 0 0 0\n",
            " 0 0 0 0 0 0 0 0 0 0 0 0 0 0 0 0 0]\n",
            "어텐션 마스크 : [1 1 1 1 1 1 1 1 1 1 1 1 1 1 1 1 1 1 1 1 1 1 1 1 1 1 1 1 1 1 1 1 1 1 1 1 1\n",
            " 1 1 1 1 0 0 0 0 0 0 0 0 0 0 0 0 0 0 0 0 0 0 0 0 0 0 0 0 0 0 0 0 0 0 0 0 0\n",
            " 0 0 0 0 0 0 0 0 0 0 0 0 0 0 0 0 0 0 0 0 0 0 0 0 0 0 0 0 0 0 0 0 0 0 0 0 0\n",
            " 0 0 0 0 0 0 0 0 0 0 0 0 0 0 0 0 0]\n"
          ]
        }
      ]
    },
    {
      "cell_type": "code",
      "source": [
        "class TFBertForTokenClassification(tf.keras.Model):\n",
        "  def __init__(self, model_name, num_labels):\n",
        "    super(TFBertForTokenClassification, self).__init__()\n",
        "    self.bert = TFBertModel.from_pretrained(model_name, from_pt=True)\n",
        "    self.classifier = tf.keras.layers.Dense(num_labels,kernel_initializer=tf.keras.initializers.TruncatedNormal(0.02),\n",
        "                                        name='classifier')\n",
        "  def call(self, inputs):\n",
        "    input_ids, attention_mask, token_type_ids = inputs\n",
        "    outputs = self.bert(input_ids=input_ids, attention_mask=attention_mask,\n",
        "                        token_type_ids=token_type_ids)\n",
        "    # 전체 시퀀스에 대해서 분류해야 하므로 outputs[0]임에 주의\n",
        "    all_output = outputs[0]\n",
        "    prediction = self.classifier(all_output)\n",
        "    return prediction"
      ],
      "metadata": {
        "id": "VWFoG93zeKua"
      },
      "execution_count": 32,
      "outputs": []
    },
    {
      "cell_type": "code",
      "source": [
        "labels = tf.constant([[-100, 2, 1, -100]])\n",
        "logits = tf.constant([[[0.8, 0.1, 0.1], [0.06, 0.04, 0.9], [0.75, 0.1, 0.15],[0.4, 0.5, 0.1]]])"
      ],
      "metadata": {
        "id": "kytpbn5teKsJ"
      },
      "execution_count": 33,
      "outputs": []
    },
    {
      "cell_type": "code",
      "source": [
        "active_loss = tf.reshape(labels, (-1,)) != -100\n",
        "print(active_loss)"
      ],
      "metadata": {
        "colab": {
          "base_uri": "https://localhost:8080/"
        },
        "id": "UfjXIPF8eKp-",
        "outputId": "7acdb8f2-dea4-4893-e5aa-29f3c1a7c663"
      },
      "execution_count": 34,
      "outputs": [
        {
          "output_type": "stream",
          "name": "stdout",
          "text": [
            "tf.Tensor([False  True  True False], shape=(4,), dtype=bool)\n"
          ]
        }
      ]
    },
    {
      "cell_type": "code",
      "source": [
        "reduced_logits = tf.boolean_mask(tf.reshape(logits, (-1, shape_list(logits)[2]) ), active_loss)\n",
        "print(reduced_logits)"
      ],
      "metadata": {
        "colab": {
          "base_uri": "https://localhost:8080/"
        },
        "id": "yz3x99qdeKn6",
        "outputId": "2a22e7c0-3f64-42cf-cc6d-a577fea84840"
      },
      "execution_count": 35,
      "outputs": [
        {
          "output_type": "stream",
          "name": "stdout",
          "text": [
            "tf.Tensor(\n",
            "[[0.06 0.04 0.9 ]\n",
            " [0.75 0.1  0.15]], shape=(2, 3), dtype=float32)\n"
          ]
        }
      ]
    },
    {
      "cell_type": "code",
      "source": [
        "labels = tf.boolean_mask(tf.reshape(labels, (-1,)), active_loss)\n",
        "print(labels)"
      ],
      "metadata": {
        "colab": {
          "base_uri": "https://localhost:8080/"
        },
        "id": "76QevODleKl8",
        "outputId": "38e32f19-2479-4dac-eb38-3aa0f29fe7c7"
      },
      "execution_count": 36,
      "outputs": [
        {
          "output_type": "stream",
          "name": "stdout",
          "text": [
            "tf.Tensor([2 1], shape=(2,), dtype=int32)\n"
          ]
        }
      ]
    },
    {
      "cell_type": "code",
      "source": [
        "def compute_loss(labels, logits):\n",
        "  # 다중 클래스 분류 문제에서 소프트맥스 함수 미사용 시 from_logits=True로 설정\n",
        "\n",
        "  loss_fn = tf.keras.losses.SparseCategoricalCrossentropy(from_logits=True, reduction=tf.keras.losses.Reduction.NONE)\n",
        "  #-100의 값을 가진 정수에 대해서는 오차를 반영하지 않도록labels를 수정.\n",
        "  active_loss = tf.reshape(labels, (-1,)) != -100\n",
        "\n",
        "  # activa_loss 로 부 터 reduced_logits 과 labels 를 각 각 얻 는 다 .\n",
        "  reduced_logits = tf.boolean_mask(tf.reshape(logits, (-1, shape_list(logits)[2])), active_loss)\n",
        "  labels = tf.boolean_mask(tf.reshape(labels, (-1,)), active_loss)\n",
        "  return loss_fn(labels, reduced_logits)"
      ],
      "metadata": {
        "id": "UQ-bDqW4flCE"
      },
      "execution_count": 37,
      "outputs": []
    },
    {
      "cell_type": "code",
      "source": [
        "#TPU작동을 위한 코드\n",
        "resolver = tf.distribute.cluster_resolver.TPUClusterResolver(tpu='grpc://' + os.environ['COLAB_TPU_ADDR'])\n",
        "tf.config.experimental_connect_to_cluster(resolver)\n",
        "tf.tpu.experimental.initialize_tpu_system(resolver)\n",
        "\n",
        "strategy = tf.distribute.experimental.TPUStrategy(resolver)"
      ],
      "metadata": {
        "colab": {
          "base_uri": "https://localhost:8080/"
        },
        "id": "x1xz0OHLfkna",
        "outputId": "b8840b85-a689-47e8-d66e-f7ae8c72784a"
      },
      "execution_count": 38,
      "outputs": [
        {
          "output_type": "stream",
          "name": "stderr",
          "text": [
            "WARNING:tensorflow:TPU system grpc://10.43.3.66:8470 has already been initialized. Reinitializing the TPU can cause previously created variables on TPU to be lost.\n",
            "WARNING:absl:`tf.distribute.experimental.TPUStrategy` is deprecated, please use  the non experimental symbol `tf.distribute.TPUStrategy` instead.\n"
          ]
        }
      ]
    },
    {
      "cell_type": "code",
      "source": [
        "with strategy.scope():\n",
        "  model = TFBertForTokenClassification(\"klue/bert-base\", num_labels=tag_size)\n",
        "  optimizer = tf.keras.optimizers.Adam(learning_rate=5e-5)\n",
        "  model.compile(optimizer=optimizer, loss=compute_loss)"
      ],
      "metadata": {
        "colab": {
          "base_uri": "https://localhost:8080/"
        },
        "id": "vNzURRlIfklB",
        "outputId": "45ae746e-4bf1-4e10-abcd-37bbfa336d1f"
      },
      "execution_count": 39,
      "outputs": [
        {
          "output_type": "stream",
          "name": "stderr",
          "text": [
            "Some weights of the PyTorch model were not used when initializing the TF 2.0 model TFBertModel: ['cls.predictions.transform.LayerNorm.bias', 'cls.predictions.transform.dense.bias', 'bert.embeddings.position_ids', 'cls.predictions.bias', 'cls.seq_relationship.bias', 'cls.predictions.transform.LayerNorm.weight', 'cls.predictions.transform.dense.weight', 'cls.predictions.decoder.weight', 'cls.seq_relationship.weight', 'cls.predictions.decoder.bias']\n",
            "- This IS expected if you are initializing TFBertModel from a PyTorch model trained on another task or with another architecture (e.g. initializing a TFBertForSequenceClassification model from a BertForPreTraining model).\n",
            "- This IS NOT expected if you are initializing TFBertModel from a PyTorch model that you expect to be exactly identical (e.g. initializing a TFBertForSequenceClassification model from a BertForSequenceClassification model).\n",
            "All the weights of TFBertModel were initialized from the PyTorch model.\n",
            "If your task is similar to the task the model of the checkpoint was trained on, you can already use TFBertModel for predictions without further training.\n"
          ]
        }
      ]
    },
    {
      "cell_type": "code",
      "source": [
        "class F1score(tf.keras.callbacks.Callback):\n",
        "  def __init__(self, X_test, y_test):\n",
        "        self.X_test = X_test\n",
        "        self.y_test = y_test\n",
        "  def sequences_to_tags(self, label_ids, pred_ids):\n",
        "    label_list = []\n",
        "    pred_list = []\n",
        "    for i in range(0, len(label_ids)):\n",
        "      label_tag = []\n",
        "      pred_tag = []\n",
        "      for label_index, pred_index in zip(label_ids[i], pred_ids[i]):\n",
        "        if label_index != -100:\n",
        "          label_tag.append(index_to_tag[label_index])\n",
        "          pred_tag.append(index_to_tag[pred_index])\n",
        "      label_list.append(label_tag)\n",
        "      pred_list.append(pred_tag)\n",
        "    return label_list, pred_list \n",
        "    \n",
        "  #에포크가 끝날 때마다 실행되는 함수}\n",
        "  def on_epoch_end(self, epoch, logs={}):\n",
        "    y_predicted = self.model.predict(self.X_test)\n",
        "    y_predicted = np.argmax(y_predicted, axis = 2)\n",
        "    label_list, pred_list = self.sequences_to_tags(self.y_test, y_predicted)\n",
        "    score = f1_score(label_list, pred_list, suffix=True)\n",
        "    print(' - f1: {:04.2f}'.format(score * 100))\n",
        "    print(classification_report(label_list, pred_list, suffix=True))"
      ],
      "metadata": {
        "id": "AxQlxrcrfkix"
      },
      "execution_count": 40,
      "outputs": []
    },
    {
      "cell_type": "code",
      "source": [
        "f1_score_report = F1score(X_test, y_test)\n",
        "\n",
        "model.fit(\n",
        "    X_train, y_train, epochs=3, batch_size=32,\n",
        "    callbacks = [f1_score_report]\n",
        ")"
      ],
      "metadata": {
        "colab": {
          "base_uri": "https://localhost:8080/"
        },
        "id": "_1p3C6kNfkgl",
        "outputId": "ce6f096e-7f47-4edd-b06d-1b271c975f69"
      },
      "execution_count": 45,
      "outputs": [
        {
          "output_type": "stream",
          "name": "stdout",
          "text": [
            "Epoch 1/3\n",
            "   6/2250 [..............................] - ETA: 3:03 - loss: 0.1433"
          ]
        },
        {
          "output_type": "stream",
          "name": "stderr",
          "text": [
            "WARNING:tensorflow:Callback method `on_train_batch_end` is slow compared to the batch time (batch time: 0.0125s vs `on_train_batch_end` time: 0.0646s). Check your callbacks.\n"
          ]
        },
        {
          "output_type": "stream",
          "name": "stdout",
          "text": [
            "563/563 [==============================] - 13s 21ms/step\n"
          ]
        },
        {
          "output_type": "stream",
          "name": "stderr",
          "text": [
            "/usr/local/lib/python3.9/dist-packages/seqeval/metrics/sequence_labeling.py:167: UserWarning: ORG_B seems not to be NE tag.\n",
            "  warnings.warn('{} seems not to be NE tag.'.format(chunk))\n",
            "/usr/local/lib/python3.9/dist-packages/seqeval/metrics/sequence_labeling.py:167: UserWarning: - seems not to be NE tag.\n",
            "  warnings.warn('{} seems not to be NE tag.'.format(chunk))\n",
            "/usr/local/lib/python3.9/dist-packages/seqeval/metrics/sequence_labeling.py:167: UserWarning: PER_B seems not to be NE tag.\n",
            "  warnings.warn('{} seems not to be NE tag.'.format(chunk))\n",
            "/usr/local/lib/python3.9/dist-packages/seqeval/metrics/sequence_labeling.py:167: UserWarning: CVL_B seems not to be NE tag.\n",
            "  warnings.warn('{} seems not to be NE tag.'.format(chunk))\n",
            "/usr/local/lib/python3.9/dist-packages/seqeval/metrics/sequence_labeling.py:167: UserWarning: LOC_B seems not to be NE tag.\n",
            "  warnings.warn('{} seems not to be NE tag.'.format(chunk))\n",
            "/usr/local/lib/python3.9/dist-packages/seqeval/metrics/sequence_labeling.py:167: UserWarning: EVT_B seems not to be NE tag.\n",
            "  warnings.warn('{} seems not to be NE tag.'.format(chunk))\n",
            "/usr/local/lib/python3.9/dist-packages/seqeval/metrics/sequence_labeling.py:167: UserWarning: EVT_I seems not to be NE tag.\n",
            "  warnings.warn('{} seems not to be NE tag.'.format(chunk))\n",
            "/usr/local/lib/python3.9/dist-packages/seqeval/metrics/sequence_labeling.py:167: UserWarning: ANM_B seems not to be NE tag.\n",
            "  warnings.warn('{} seems not to be NE tag.'.format(chunk))\n",
            "/usr/local/lib/python3.9/dist-packages/seqeval/metrics/sequence_labeling.py:167: UserWarning: DAT_B seems not to be NE tag.\n",
            "  warnings.warn('{} seems not to be NE tag.'.format(chunk))\n",
            "/usr/local/lib/python3.9/dist-packages/seqeval/metrics/sequence_labeling.py:167: UserWarning: ORG_I seems not to be NE tag.\n",
            "  warnings.warn('{} seems not to be NE tag.'.format(chunk))\n",
            "/usr/local/lib/python3.9/dist-packages/seqeval/metrics/sequence_labeling.py:167: UserWarning: NUM_B seems not to be NE tag.\n",
            "  warnings.warn('{} seems not to be NE tag.'.format(chunk))\n",
            "/usr/local/lib/python3.9/dist-packages/seqeval/metrics/sequence_labeling.py:167: UserWarning: NUM_I seems not to be NE tag.\n",
            "  warnings.warn('{} seems not to be NE tag.'.format(chunk))\n",
            "/usr/local/lib/python3.9/dist-packages/seqeval/metrics/sequence_labeling.py:167: UserWarning: TRM_B seems not to be NE tag.\n",
            "  warnings.warn('{} seems not to be NE tag.'.format(chunk))\n",
            "/usr/local/lib/python3.9/dist-packages/seqeval/metrics/sequence_labeling.py:167: UserWarning: TRM_I seems not to be NE tag.\n",
            "  warnings.warn('{} seems not to be NE tag.'.format(chunk))\n",
            "/usr/local/lib/python3.9/dist-packages/seqeval/metrics/sequence_labeling.py:167: UserWarning: PER_I seems not to be NE tag.\n",
            "  warnings.warn('{} seems not to be NE tag.'.format(chunk))\n",
            "/usr/local/lib/python3.9/dist-packages/seqeval/metrics/sequence_labeling.py:167: UserWarning: TIM_B seems not to be NE tag.\n",
            "  warnings.warn('{} seems not to be NE tag.'.format(chunk))\n",
            "/usr/local/lib/python3.9/dist-packages/seqeval/metrics/sequence_labeling.py:167: UserWarning: TIM_I seems not to be NE tag.\n",
            "  warnings.warn('{} seems not to be NE tag.'.format(chunk))\n",
            "/usr/local/lib/python3.9/dist-packages/seqeval/metrics/sequence_labeling.py:167: UserWarning: DAT_I seems not to be NE tag.\n",
            "  warnings.warn('{} seems not to be NE tag.'.format(chunk))\n",
            "/usr/local/lib/python3.9/dist-packages/seqeval/metrics/sequence_labeling.py:167: UserWarning: AFW_B seems not to be NE tag.\n",
            "  warnings.warn('{} seems not to be NE tag.'.format(chunk))\n",
            "/usr/local/lib/python3.9/dist-packages/seqeval/metrics/sequence_labeling.py:167: UserWarning: CVL_I seems not to be NE tag.\n",
            "  warnings.warn('{} seems not to be NE tag.'.format(chunk))\n",
            "/usr/local/lib/python3.9/dist-packages/seqeval/metrics/sequence_labeling.py:167: UserWarning: ANM_I seems not to be NE tag.\n",
            "  warnings.warn('{} seems not to be NE tag.'.format(chunk))\n",
            "/usr/local/lib/python3.9/dist-packages/seqeval/metrics/sequence_labeling.py:167: UserWarning: FLD_B seems not to be NE tag.\n",
            "  warnings.warn('{} seems not to be NE tag.'.format(chunk))\n",
            "/usr/local/lib/python3.9/dist-packages/seqeval/metrics/sequence_labeling.py:167: UserWarning: LOC_I seems not to be NE tag.\n",
            "  warnings.warn('{} seems not to be NE tag.'.format(chunk))\n",
            "/usr/local/lib/python3.9/dist-packages/seqeval/metrics/sequence_labeling.py:167: UserWarning: AFW_I seems not to be NE tag.\n",
            "  warnings.warn('{} seems not to be NE tag.'.format(chunk))\n",
            "/usr/local/lib/python3.9/dist-packages/seqeval/metrics/sequence_labeling.py:167: UserWarning: PLT_B seems not to be NE tag.\n",
            "  warnings.warn('{} seems not to be NE tag.'.format(chunk))\n",
            "/usr/local/lib/python3.9/dist-packages/seqeval/metrics/sequence_labeling.py:167: UserWarning: PLT_I seems not to be NE tag.\n",
            "  warnings.warn('{} seems not to be NE tag.'.format(chunk))\n",
            "/usr/local/lib/python3.9/dist-packages/seqeval/metrics/sequence_labeling.py:167: UserWarning: MAT_B seems not to be NE tag.\n",
            "  warnings.warn('{} seems not to be NE tag.'.format(chunk))\n",
            "/usr/local/lib/python3.9/dist-packages/seqeval/metrics/sequence_labeling.py:167: UserWarning: MAT_I seems not to be NE tag.\n",
            "  warnings.warn('{} seems not to be NE tag.'.format(chunk))\n",
            "/usr/local/lib/python3.9/dist-packages/seqeval/metrics/sequence_labeling.py:167: UserWarning: FLD_I seems not to be NE tag.\n",
            "  warnings.warn('{} seems not to be NE tag.'.format(chunk))\n"
          ]
        },
        {
          "output_type": "stream",
          "name": "stdout",
          "text": [
            " - f1: 82.69\n",
            "              precision    recall  f1-score   support\n",
            "\n",
            "        AFW_       0.60      0.55      0.57       893\n",
            "        ANM_       0.70      0.78      0.74      1277\n",
            "        CVL_       0.83      0.82      0.83     11515\n",
            "        DAT_       0.90      0.92      0.91      5097\n",
            "        EVT_       0.75      0.77      0.76      2319\n",
            "        FLD_       0.65      0.66      0.65       487\n",
            "        LOC_       0.82      0.88      0.85      4223\n",
            "        MAT_       0.77      0.20      0.32        49\n",
            "        NUM_       0.91      0.92      0.92     11135\n",
            "        ORG_       0.89      0.85      0.87      8224\n",
            "        PER_       0.86      0.91      0.88      8562\n",
            "        PLT_       0.58      0.25      0.35        57\n",
            "        TIM_       0.82      0.92      0.87       639\n",
            "        TRM_       0.75      0.73      0.74      3750\n",
            "           _       0.77      0.77      0.77     25426\n",
            "\n",
            "   micro avg       0.82      0.83      0.83     83653\n",
            "   macro avg       0.77      0.73      0.74     83653\n",
            "weighted avg       0.82      0.83      0.83     83653\n",
            "\n",
            "2250/2250 [==============================] - 202s 90ms/step - loss: 0.1558\n",
            "Epoch 2/3\n",
            "563/563 [==============================] - 13s 22ms/step\n",
            " - f1: 82.88\n",
            "              precision    recall  f1-score   support\n",
            "\n",
            "        AFW_       0.59      0.63      0.61       893\n",
            "        ANM_       0.73      0.77      0.75      1277\n",
            "        CVL_       0.82      0.84      0.83     11515\n",
            "        DAT_       0.91      0.92      0.92      5097\n",
            "        EVT_       0.74      0.76      0.75      2319\n",
            "        FLD_       0.59      0.71      0.64       487\n",
            "        LOC_       0.87      0.84      0.85      4223\n",
            "        MAT_       0.48      0.31      0.38        49\n",
            "        NUM_       0.90      0.92      0.91     11135\n",
            "        ORG_       0.87      0.88      0.87      8224\n",
            "        PER_       0.90      0.89      0.89      8562\n",
            "        PLT_       0.41      0.42      0.41        57\n",
            "        TIM_       0.85      0.90      0.88       639\n",
            "        TRM_       0.72      0.78      0.75      3750\n",
            "           _       0.77      0.77      0.77     25426\n",
            "\n",
            "   micro avg       0.82      0.83      0.83     83653\n",
            "   macro avg       0.74      0.75      0.75     83653\n",
            "weighted avg       0.82      0.83      0.83     83653\n",
            "\n",
            "2250/2250 [==============================] - 195s 87ms/step - loss: 0.1016\n",
            "Epoch 3/3\n",
            "563/563 [==============================] - 13s 21ms/step\n",
            " - f1: 82.82\n",
            "              precision    recall  f1-score   support\n",
            "\n",
            "        AFW_       0.61      0.60      0.60       893\n",
            "        ANM_       0.72      0.76      0.74      1277\n",
            "        CVL_       0.84      0.82      0.83     11515\n",
            "        DAT_       0.91      0.92      0.91      5097\n",
            "        EVT_       0.72      0.78      0.75      2319\n",
            "        FLD_       0.67      0.66      0.66       487\n",
            "        LOC_       0.83      0.88      0.85      4223\n",
            "        MAT_       0.65      0.35      0.45        49\n",
            "        NUM_       0.92      0.91      0.92     11135\n",
            "        ORG_       0.89      0.86      0.87      8224\n",
            "        PER_       0.87      0.90      0.89      8562\n",
            "        PLT_       0.40      0.18      0.24        57\n",
            "        TIM_       0.86      0.92      0.89       639\n",
            "        TRM_       0.80      0.69      0.74      3750\n",
            "           _       0.77      0.76      0.77     25426\n",
            "\n",
            "   micro avg       0.83      0.82      0.83     83653\n",
            "   macro avg       0.76      0.73      0.74     83653\n",
            "weighted avg       0.83      0.82      0.83     83653\n",
            "\n",
            "2250/2250 [==============================] - 197s 88ms/step - loss: 0.0675\n"
          ]
        },
        {
          "output_type": "execute_result",
          "data": {
            "text/plain": [
              "<keras.callbacks.History at 0x7f9c1543b2e0>"
            ]
          },
          "metadata": {},
          "execution_count": 45
        }
      ]
    },
    {
      "cell_type": "code",
      "source": [
        "def convert_examples_to_features_for_prediction(examples, max_seq_len, tokenizer,\n",
        "                                                pad_token_id_for_segment=0,pad_token_id_for_label=-100):\n",
        "  cls_token = tokenizer.cls_token\n",
        "  sep_token = tokenizer.sep_token\n",
        "  pad_token_id = tokenizer.pad_token_id\n",
        "  input_ids, attention_masks, token_type_ids, label_masks = [], [], [], []\n",
        "  for example in tqdm(examples):\n",
        "    tokens = []\n",
        "    label_mask = []\n",
        "    for one_word in example:\n",
        "      #하나의 단어에 대해서 서브워드로 토큰화\n",
        "      subword_tokens = tokenizer.tokenize(one_word)\n",
        "      tokens.extend(subword_tokens)\n",
        "      # 서브워드 중 첫번째 서브워드를 제외하고 그 뒤의 서브워드들은 -100으로 채운다.\n",
        "      label_mask.extend([0]+ [pad_token_id_for_label] * (len(subword_tokens) - 1))\n",
        "      #[CLS]와[SEP]를 후에 추가할 것을 고려하여 최대 길이를 초과하는 샘플의 경우 max_seq_len-2의 길이로 변환.\n",
        "      #ex)max_seq_len=64라면 길이가62보다 긴 샘플은 뒷 부분을 자르고 길 이62로 변환.\n",
        "    special_tokens_count = 2\n",
        "    if len(tokens) > max_seq_len - special_tokens_count:\n",
        "      tokens = tokens[:(max_seq_len - special_tokens_count)]\n",
        "      label_mask = label_mask[:(max_seq_len - special_tokens_count)]\n",
        "\n",
        "    #[SEP]를 추가하는 코드\n",
        "    #1.토큰화 결과의 맨 뒷 부분에[SEP]토큰 추가\n",
        "    #2. 레이블에도 맨 뒷 부분에 -100 추가.\n",
        "    tokens += [sep_token]\n",
        "    label_mask += [pad_token_id_for_label]\n",
        "\n",
        "    #[CLS]를 추가하는 코드\n",
        "    #1. 토큰화 결과의 앞 부분에 [CLS] 토큰 추가\n",
        "    #2. 레이블의 맨 앞 부분에도 -100 추가.\n",
        "    tokens = [cls_token] + tokens\n",
        "    label_mask = [pad_token_id_for_label] + label_mask\n",
        "\n",
        "    #정수 인코딩\n",
        "    input_id = tokenizer.convert_tokens_to_ids(tokens)\n",
        "\n",
        "    #어텐션 마스크 생성\n",
        "    attention_mask = [1] * len(input_id)\n",
        "\n",
        "    #정수 인코딩에 추가할 패딩 길이 연산\n",
        "    padding_count = max_seq_len - len(input_id)\n",
        "\n",
        "    #정수 인코딩,어텐션 마스크에 패딩 추가\n",
        "    input_id = input_id + ([pad_token_id] * padding_count)\n",
        "    attention_mask = attention_mask + ([0] * padding_count)\n",
        "\n",
        "    #세그먼트인코딩.\n",
        "    token_type_id = [pad_token_id_for_segment] * max_seq_len\n",
        "\n",
        "    # 레이블 패딩.(단, 이 경우는 패딩 토큰의 ID가 -100)\n",
        "    label_mask = label_mask + ([pad_token_id_for_label] * padding_count)\n",
        "\n",
        "    assert len(input_id) == max_seq_len, \"Error with input length {} vs {}\".format(len(input_id), max_seq_len)\n",
        "    assert len(attention_mask) == max_seq_len, \"Error with attention mask length {} vs {}\".format(len(attention_mask), max_seq_len)\n",
        "    assert len(token_type_id) == max_seq_len, \"Error with token type length {} vs {}\".format(len(token_type_id), max_seq_len)\n",
        "    assert len(label_mask) == max_seq_len, \"Error with labels length {} vs {}\".format(len(label_mask), max_seq_len)\n",
        "\n",
        "    input_ids.append(input_id)\n",
        "    attention_masks.append(attention_mask)\n",
        "    token_type_ids.append(token_type_id)\n",
        "    label_masks.append(label_mask)\n",
        "\n",
        "  input_ids = np.array(input_ids, dtype=int)\n",
        "  attention_masks = np.array(attention_masks, dtype=int)\n",
        "  token_type_ids = np.array(token_type_ids, dtype=int)\n",
        "  label_masks = np.asarray(label_masks, dtype=np.int32)\n",
        "\n",
        "  return (input_ids, attention_masks, token_type_ids), label_masks"
      ],
      "metadata": {
        "id": "euTKgyBqfkeZ"
      },
      "execution_count": 53,
      "outputs": []
    },
    {
      "cell_type": "code",
      "source": [
        "X_pred, label_masks = convert_examples_to_features_for_prediction(test_data_sentence[:5], max_seq_len=128, tokenizer=tokenizer)"
      ],
      "metadata": {
        "colab": {
          "base_uri": "https://localhost:8080/"
        },
        "id": "hCH2Lj80Zadm",
        "outputId": "7a3e2513-6fc8-406e-82eb-5d2f8e833e47"
      },
      "execution_count": 54,
      "outputs": [
        {
          "output_type": "stream",
          "name": "stderr",
          "text": [
            "100%|██████████| 5/5 [00:00<00:00, 312.40it/s]\n"
          ]
        }
      ]
    },
    {
      "cell_type": "code",
      "source": [
        "print('기 존 원 문 :', test_data_sentence[0])\n",
        "print('-' * 50)\n",
        "print('토 큰 화 후 원 문 :', [tokenizer.decode([word]) for word in X_pred[0][0]])\n",
        "print('레 이 블 마 스 크 :', ['[PAD]' if idx == -100 else '[FIRST]' for idx in label_masks[0]])"
      ],
      "metadata": {
        "colab": {
          "base_uri": "https://localhost:8080/"
        },
        "id": "vDIG58goiq1h",
        "outputId": "8984ac84-5365-4489-bcd7-d3fffdfe1e12"
      },
      "execution_count": 55,
      "outputs": [
        {
          "output_type": "stream",
          "name": "stdout",
          "text": [
            "기 존 원 문 : ['[마이데일리', '=', '마일영', '매사추세츠주지사]', '좌해', '인간문화재가', '백고천난', '끝에', '강호', '스트라스부르를', '꺾고', '오륜대회', '서울대회', '진출의', '실낱같은', '체념을', '되살렸다', '.']\n",
            "--------------------------------------------------\n",
            "토 큰 화 후 원 문 : ['[CLS]', '[', '마이', '##데', '##일리', '=', '마일', '##영', '매사추세츠', '##주', '##지사', ']', '좌', '##해', '인간', '##문화재', '##가', '백', '##고', '##천', '##난', '끝', '##에', '강호', '스트라', '##스', '##부', '##르', '##를', '꺾', '##고', '오', '##륜', '##대', '##회', '서울대', '##회', '진출', '##의', '실', '##낱', '##같', '##은', '체념', '##을', '되살', '##렸', '##다', '.', '[SEP]', '[PAD]', '[PAD]', '[PAD]', '[PAD]', '[PAD]', '[PAD]', '[PAD]', '[PAD]', '[PAD]', '[PAD]', '[PAD]', '[PAD]', '[PAD]', '[PAD]', '[PAD]', '[PAD]', '[PAD]', '[PAD]', '[PAD]', '[PAD]', '[PAD]', '[PAD]', '[PAD]', '[PAD]', '[PAD]', '[PAD]', '[PAD]', '[PAD]', '[PAD]', '[PAD]', '[PAD]', '[PAD]', '[PAD]', '[PAD]', '[PAD]', '[PAD]', '[PAD]', '[PAD]', '[PAD]', '[PAD]', '[PAD]', '[PAD]', '[PAD]', '[PAD]', '[PAD]', '[PAD]', '[PAD]', '[PAD]', '[PAD]', '[PAD]', '[PAD]', '[PAD]', '[PAD]', '[PAD]', '[PAD]', '[PAD]', '[PAD]', '[PAD]', '[PAD]', '[PAD]', '[PAD]', '[PAD]', '[PAD]', '[PAD]', '[PAD]', '[PAD]', '[PAD]', '[PAD]', '[PAD]', '[PAD]', '[PAD]', '[PAD]', '[PAD]', '[PAD]', '[PAD]', '[PAD]', '[PAD]', '[PAD]']\n",
            "레 이 블 마 스 크 : ['[PAD]', '[FIRST]', '[PAD]', '[PAD]', '[PAD]', '[FIRST]', '[FIRST]', '[PAD]', '[FIRST]', '[PAD]', '[PAD]', '[PAD]', '[FIRST]', '[PAD]', '[FIRST]', '[PAD]', '[PAD]', '[FIRST]', '[PAD]', '[PAD]', '[PAD]', '[FIRST]', '[PAD]', '[FIRST]', '[FIRST]', '[PAD]', '[PAD]', '[PAD]', '[PAD]', '[FIRST]', '[PAD]', '[FIRST]', '[PAD]', '[PAD]', '[PAD]', '[FIRST]', '[PAD]', '[FIRST]', '[PAD]', '[FIRST]', '[PAD]', '[PAD]', '[PAD]', '[FIRST]', '[PAD]', '[FIRST]', '[PAD]', '[PAD]', '[FIRST]', '[PAD]', '[PAD]', '[PAD]', '[PAD]', '[PAD]', '[PAD]', '[PAD]', '[PAD]', '[PAD]', '[PAD]', '[PAD]', '[PAD]', '[PAD]', '[PAD]', '[PAD]', '[PAD]', '[PAD]', '[PAD]', '[PAD]', '[PAD]', '[PAD]', '[PAD]', '[PAD]', '[PAD]', '[PAD]', '[PAD]', '[PAD]', '[PAD]', '[PAD]', '[PAD]', '[PAD]', '[PAD]', '[PAD]', '[PAD]', '[PAD]', '[PAD]', '[PAD]', '[PAD]', '[PAD]', '[PAD]', '[PAD]', '[PAD]', '[PAD]', '[PAD]', '[PAD]', '[PAD]', '[PAD]', '[PAD]', '[PAD]', '[PAD]', '[PAD]', '[PAD]', '[PAD]', '[PAD]', '[PAD]', '[PAD]', '[PAD]', '[PAD]', '[PAD]', '[PAD]', '[PAD]', '[PAD]', '[PAD]', '[PAD]', '[PAD]', '[PAD]', '[PAD]', '[PAD]', '[PAD]', '[PAD]', '[PAD]', '[PAD]', '[PAD]', '[PAD]', '[PAD]', '[PAD]', '[PAD]', '[PAD]', '[PAD]']\n"
          ]
        }
      ]
    },
    {
      "cell_type": "code",
      "source": [
        "def ner_prediction(examples, max_seq_len, tokenizer):\n",
        "  examples = [sent.split() for sent in examples]\n",
        "  X_pred, label_masks = convert_examples_to_features_for_prediction(examples,max_seq_len=128, tokenizer=tokenizer)\n",
        "  y_predicted = model.predict(X_pred)\n",
        "  y_predicted = np.argmax(y_predicted, axis = 2)\n",
        "  pred_list = []\n",
        "  result_list = []\n",
        "  for i in range(0, len(label_masks)):\n",
        "    pred_tag = []\n",
        "    #ex) 모델의 예측값 디코딩 과정\n",
        "    # 예측값(y_predicted)에서 레이블 마스크(label_masks)의 값이 -100인 동일 위치의값을삭제\n",
        "    # label_masks : [-100 0 -100 0 -100]\n",
        "    #y_predicted:[ 0 1 0 2 0]==>[12]==> 최종 예측(pred_tag):[ PER-B PER-I]\n",
        "    for label_index, pred_index in zip(label_masks[i], y_predicted[i]):\n",
        "      if label_index != -100:\n",
        "        pred_tag.append(index_to_tag[pred_index])\n",
        "\n",
        "    pred_list.append(pred_tag)\n",
        "  for example, pred in zip(examples, pred_list):\n",
        "    one_sample_result = []\n",
        "    for one_word, label_token in zip(example, pred):\n",
        "      one_sample_result.append((one_word, label_token))\n",
        "    result_list.append(one_sample_result)\n",
        "  \n",
        "  return result_list"
      ],
      "metadata": {
        "id": "zF7foAgciu_f"
      },
      "execution_count": 56,
      "outputs": []
    },
    {
      "cell_type": "code",
      "source": [
        "sent1='오리온스는 리그 최정상급 포인트가드 김동훈을 앞세우는 빠른 공수전환이 돋보이는 팀이다'\n",
        "sent2='하이신사에 속한 섬들도 위로 솟아 있는데 타인은 살고 있어요'\n",
        "\n",
        "test_samples = [sent1, sent2]\n",
        "result_list = ner_prediction(test_samples, max_seq_len=128, tokenizer=tokenizer )\n",
        "result_list"
      ],
      "metadata": {
        "colab": {
          "base_uri": "https://localhost:8080/"
        },
        "id": "hE9vHBZ3izOm",
        "outputId": "47e2783d-93b4-4acf-9427-837f9b47f126"
      },
      "execution_count": 57,
      "outputs": [
        {
          "output_type": "stream",
          "name": "stderr",
          "text": [
            "100%|██████████| 2/2 [00:00<00:00, 339.17it/s]\n"
          ]
        },
        {
          "output_type": "stream",
          "name": "stdout",
          "text": [
            "1/1 [==============================] - 1s 1s/step\n"
          ]
        },
        {
          "output_type": "execute_result",
          "data": {
            "text/plain": [
              "[[('오리온스는', 'ORG_B'),\n",
              "  ('리그', '-'),\n",
              "  ('최정상급', '-'),\n",
              "  ('포인트가드', 'CVL_B'),\n",
              "  ('김동훈을', 'PER_B'),\n",
              "  ('앞세우는', '-'),\n",
              "  ('빠른', '-'),\n",
              "  ('공수전환이', '-'),\n",
              "  ('돋보이는', '-'),\n",
              "  ('팀이다', '-')],\n",
              " [('하이신사에', 'LOC_B'),\n",
              "  ('속한', '-'),\n",
              "  ('섬들도', '-'),\n",
              "  ('위로', '-'),\n",
              "  ('솟아', '-'),\n",
              "  ('있는데', '-'),\n",
              "  ('타인은', '-'),\n",
              "  ('살고', '-'),\n",
              "  ('있어요', '-')]]"
            ]
          },
          "metadata": {},
          "execution_count": 57
        }
      ]
    }
  ]
}