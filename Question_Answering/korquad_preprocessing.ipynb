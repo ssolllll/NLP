{
 "cells": [
  {
   "cell_type": "code",
   "execution_count": 17,
   "id": "f87244b8",
   "metadata": {},
   "outputs": [],
   "source": [
    "import os\n",
    "import json\n",
    "import pandas as pd\n",
    "from glob import glob\n",
    "from tqdm import tqdm\n",
    "\n",
    "from sklearn.model_selection import train_test_split"
   ]
  },
  {
   "cell_type": "code",
   "execution_count": 2,
   "id": "6f965451",
   "metadata": {},
   "outputs": [],
   "source": [
    "data_path = '*.json'"
   ]
  },
  {
   "cell_type": "code",
   "execution_count": 3,
   "id": "a00a3ef8",
   "metadata": {},
   "outputs": [],
   "source": [
    "lst_json = glob(data_path)"
   ]
  },
  {
   "cell_type": "code",
   "execution_count": 6,
   "id": "71d37f70",
   "metadata": {},
   "outputs": [
    {
     "data": {
      "text/plain": [
       "['korquad2.1_dev_00.json',\n",
       " 'korquad2.1_dev_01.json',\n",
       " 'KorQuAD_v1.0_dev.json',\n",
       " 'KorQuAD_v1.0_train.json',\n",
       " 'korquad2.1_dev_04.json',\n",
       " 'korquad2.1_dev_02.json',\n",
       " 'korquad2.1_dev_03.json']"
      ]
     },
     "execution_count": 6,
     "metadata": {},
     "output_type": "execute_result"
    }
   ],
   "source": [
    "lst_json"
   ]
  },
  {
   "cell_type": "code",
   "execution_count": 7,
   "id": "d65ab493",
   "metadata": {},
   "outputs": [],
   "source": [
    "with open(f'{lst_json[3]}','r',encoding='utf-8') as f:\n",
    "    data = json.load(f)"
   ]
  },
  {
   "cell_type": "code",
   "execution_count": 8,
   "id": "69c718a1",
   "metadata": {},
   "outputs": [
    {
     "data": {
      "text/plain": [
       "dict_keys(['version', 'data'])"
      ]
     },
     "execution_count": 8,
     "metadata": {},
     "output_type": "execute_result"
    }
   ],
   "source": [
    "data.keys()"
   ]
  },
  {
   "cell_type": "code",
   "execution_count": 9,
   "id": "4333189d",
   "metadata": {},
   "outputs": [
    {
     "data": {
      "text/plain": [
       "dict_keys(['paragraphs', 'title'])"
      ]
     },
     "execution_count": 9,
     "metadata": {},
     "output_type": "execute_result"
    }
   ],
   "source": [
    "data['data'][0].keys()"
   ]
  },
  {
   "cell_type": "code",
   "execution_count": 11,
   "id": "55a25868",
   "metadata": {},
   "outputs": [
    {
     "data": {
      "text/plain": [
       "{'qas': [{'answers': [{'text': '교향곡', 'answer_start': 54}],\n",
       "   'id': '6566495-0-0',\n",
       "   'question': '바그너는 괴테의 파우스트를 읽고 무엇을 쓰고자 했는가?'},\n",
       "  {'answers': [{'text': '1악장', 'answer_start': 421}],\n",
       "   'id': '6566495-0-1',\n",
       "   'question': '바그너는 교향곡 작곡을 어디까지 쓴 뒤에 중단했는가?'},\n",
       "  {'answers': [{'text': '베토벤의 교향곡 9번', 'answer_start': 194}],\n",
       "   'id': '6566495-0-2',\n",
       "   'question': '바그너가 파우스트 서곡을 쓸 때 어떤 곡의 영향을 받았는가?'},\n",
       "  {'answers': [{'text': '파우스트', 'answer_start': 15}],\n",
       "   'id': '6566518-0-0',\n",
       "   'question': '1839년 바그너가 교향곡의 소재로 쓰려고 했던 책은?'},\n",
       "  {'answers': [{'text': '합창교향곡', 'answer_start': 354}],\n",
       "   'id': '6566518-0-1',\n",
       "   'question': '파우스트 서곡의 라단조 조성이 영향을 받은 베토벤의 곡은?'},\n",
       "  {'answers': [{'text': '1839', 'answer_start': 0}],\n",
       "   'id': '5917067-0-0',\n",
       "   'question': '바그너가 파우스트를 처음으로 읽은 년도는?'},\n",
       "  {'answers': [{'text': '파리', 'answer_start': 410}],\n",
       "   'id': '5917067-0-1',\n",
       "   'question': '바그너가 처음 교향곡 작곡을 한 장소는?'},\n",
       "  {'answers': [{'text': '드레스덴', 'answer_start': 534}],\n",
       "   'id': '5917067-0-2',\n",
       "   'question': '바그너의 1악장의 초연은 어디서 연주되었는가?'}],\n",
       " 'context': '1839년 바그너는 괴테의 파우스트을 처음 읽고 그 내용에 마음이 끌려 이를 소재로 해서 하나의 교향곡을 쓰려는 뜻을 갖는다. 이 시기 바그너는 1838년에 빛 독촉으로 산전수전을 다 걲은 상황이라 좌절과 실망에 가득했으며 메피스토펠레스를 만나는 파우스트의 심경에 공감했다고 한다. 또한 파리에서 아브네크의 지휘로 파리 음악원 관현악단이 연주하는 베토벤의 교향곡 9번을 듣고 깊은 감명을 받았는데, 이것이 이듬해 1월에 파우스트의 서곡으로 쓰여진 이 작품에 조금이라도 영향을 끼쳤으리라는 것은 의심할 여지가 없다. 여기의 라단조 조성의 경우에도 그의 전기에 적혀 있는 것처럼 단순한 정신적 피로나 실의가 반영된 것이 아니라 베토벤의 합창교향곡 조성의 영향을 받은 것을 볼 수 있다. 그렇게 교향곡 작곡을 1839년부터 40년에 걸쳐 파리에서 착수했으나 1악장을 쓴 뒤에 중단했다. 또한 작품의 완성과 동시에 그는 이 서곡(1악장)을 파리 음악원의 연주회에서 연주할 파트보까지 준비하였으나, 실제로는 이루어지지는 않았다. 결국 초연은 4년 반이 지난 후에 드레스덴에서 연주되었고 재연도 이루어졌지만, 이후에 그대로 방치되고 말았다. 그 사이에 그는 리엔치와 방황하는 네덜란드인을 완성하고 탄호이저에도 착수하는 등 분주한 시간을 보냈는데, 그런 바쁜 생활이 이 곡을 잊게 한 것이 아닌가 하는 의견도 있다.'}"
      ]
     },
     "execution_count": 11,
     "metadata": {},
     "output_type": "execute_result"
    }
   ],
   "source": [
    "data['data'][0]['paragraphs'][0]"
   ]
  },
  {
   "cell_type": "code",
   "execution_count": 12,
   "id": "8202c18a",
   "metadata": {},
   "outputs": [],
   "source": [
    "lst_data = [paragraphs for idx in data['data'] for paragraphs in idx['paragraphs']]"
   ]
  },
  {
   "cell_type": "code",
   "execution_count": 13,
   "id": "ffc9ccd6",
   "metadata": {},
   "outputs": [
    {
     "data": {
      "text/plain": [
       "[{'answers': [{'text': '교향곡', 'answer_start': 54}],\n",
       "  'id': '6566495-0-0',\n",
       "  'question': '바그너는 괴테의 파우스트를 읽고 무엇을 쓰고자 했는가?'},\n",
       " {'answers': [{'text': '1악장', 'answer_start': 421}],\n",
       "  'id': '6566495-0-1',\n",
       "  'question': '바그너는 교향곡 작곡을 어디까지 쓴 뒤에 중단했는가?'},\n",
       " {'answers': [{'text': '베토벤의 교향곡 9번', 'answer_start': 194}],\n",
       "  'id': '6566495-0-2',\n",
       "  'question': '바그너가 파우스트 서곡을 쓸 때 어떤 곡의 영향을 받았는가?'},\n",
       " {'answers': [{'text': '파우스트', 'answer_start': 15}],\n",
       "  'id': '6566518-0-0',\n",
       "  'question': '1839년 바그너가 교향곡의 소재로 쓰려고 했던 책은?'},\n",
       " {'answers': [{'text': '합창교향곡', 'answer_start': 354}],\n",
       "  'id': '6566518-0-1',\n",
       "  'question': '파우스트 서곡의 라단조 조성이 영향을 받은 베토벤의 곡은?'},\n",
       " {'answers': [{'text': '1839', 'answer_start': 0}],\n",
       "  'id': '5917067-0-0',\n",
       "  'question': '바그너가 파우스트를 처음으로 읽은 년도는?'},\n",
       " {'answers': [{'text': '파리', 'answer_start': 410}],\n",
       "  'id': '5917067-0-1',\n",
       "  'question': '바그너가 처음 교향곡 작곡을 한 장소는?'},\n",
       " {'answers': [{'text': '드레스덴', 'answer_start': 534}],\n",
       "  'id': '5917067-0-2',\n",
       "  'question': '바그너의 1악장의 초연은 어디서 연주되었는가?'}]"
      ]
     },
     "execution_count": 13,
     "metadata": {},
     "output_type": "execute_result"
    }
   ],
   "source": [
    "lst_data[0]['qas']"
   ]
  },
  {
   "cell_type": "code",
   "execution_count": 18,
   "id": "7d1cec4e",
   "metadata": {},
   "outputs": [
    {
     "name": "stderr",
     "output_type": "stream",
     "text": [
      "100%|██████████████████████████████████████| 9681/9681 [00:10<00:00, 919.43it/s]\n"
     ]
    }
   ],
   "source": [
    "df = pd.DataFrame()\n",
    "\n",
    "for idx in tqdm(range(len(lst_data))):\n",
    "    subset_df = pd.DataFrame(lst_data[idx]['qas'])\n",
    "    subset_df['context'] = lst_data[idx]['context']\n",
    "    df = pd.concat([df, subset_df])"
   ]
  },
  {
   "cell_type": "code",
   "execution_count": 15,
   "id": "f7750402",
   "metadata": {},
   "outputs": [],
   "source": [
    "df.reset_index(inplace=True, drop=True)"
   ]
  },
  {
   "cell_type": "code",
   "execution_count": 19,
   "id": "50016fdb",
   "metadata": {},
   "outputs": [],
   "source": [
    "df['answers'] = df['answers'].apply(lambda x: x[0])"
   ]
  },
  {
   "cell_type": "code",
   "execution_count": 20,
   "id": "ab599201",
   "metadata": {},
   "outputs": [
    {
     "data": {
      "text/html": [
       "<div>\n",
       "<style scoped>\n",
       "    .dataframe tbody tr th:only-of-type {\n",
       "        vertical-align: middle;\n",
       "    }\n",
       "\n",
       "    .dataframe tbody tr th {\n",
       "        vertical-align: top;\n",
       "    }\n",
       "\n",
       "    .dataframe thead th {\n",
       "        text-align: right;\n",
       "    }\n",
       "</style>\n",
       "<table border=\"1\" class=\"dataframe\">\n",
       "  <thead>\n",
       "    <tr style=\"text-align: right;\">\n",
       "      <th></th>\n",
       "      <th>answers</th>\n",
       "      <th>id</th>\n",
       "      <th>question</th>\n",
       "      <th>context</th>\n",
       "    </tr>\n",
       "  </thead>\n",
       "  <tbody>\n",
       "    <tr>\n",
       "      <th>0</th>\n",
       "      <td>{'text': '교향곡', 'answer_start': 54}</td>\n",
       "      <td>6566495-0-0</td>\n",
       "      <td>바그너는 괴테의 파우스트를 읽고 무엇을 쓰고자 했는가?</td>\n",
       "      <td>1839년 바그너는 괴테의 파우스트을 처음 읽고 그 내용에 마음이 끌려 이를 소재로...</td>\n",
       "    </tr>\n",
       "    <tr>\n",
       "      <th>1</th>\n",
       "      <td>{'text': '1악장', 'answer_start': 421}</td>\n",
       "      <td>6566495-0-1</td>\n",
       "      <td>바그너는 교향곡 작곡을 어디까지 쓴 뒤에 중단했는가?</td>\n",
       "      <td>1839년 바그너는 괴테의 파우스트을 처음 읽고 그 내용에 마음이 끌려 이를 소재로...</td>\n",
       "    </tr>\n",
       "    <tr>\n",
       "      <th>2</th>\n",
       "      <td>{'text': '베토벤의 교향곡 9번', 'answer_start': 194}</td>\n",
       "      <td>6566495-0-2</td>\n",
       "      <td>바그너가 파우스트 서곡을 쓸 때 어떤 곡의 영향을 받았는가?</td>\n",
       "      <td>1839년 바그너는 괴테의 파우스트을 처음 읽고 그 내용에 마음이 끌려 이를 소재로...</td>\n",
       "    </tr>\n",
       "    <tr>\n",
       "      <th>3</th>\n",
       "      <td>{'text': '파우스트', 'answer_start': 15}</td>\n",
       "      <td>6566518-0-0</td>\n",
       "      <td>1839년 바그너가 교향곡의 소재로 쓰려고 했던 책은?</td>\n",
       "      <td>1839년 바그너는 괴테의 파우스트을 처음 읽고 그 내용에 마음이 끌려 이를 소재로...</td>\n",
       "    </tr>\n",
       "    <tr>\n",
       "      <th>4</th>\n",
       "      <td>{'text': '합창교향곡', 'answer_start': 354}</td>\n",
       "      <td>6566518-0-1</td>\n",
       "      <td>파우스트 서곡의 라단조 조성이 영향을 받은 베토벤의 곡은?</td>\n",
       "      <td>1839년 바그너는 괴테의 파우스트을 처음 읽고 그 내용에 마음이 끌려 이를 소재로...</td>\n",
       "    </tr>\n",
       "  </tbody>\n",
       "</table>\n",
       "</div>"
      ],
      "text/plain": [
       "                                        answers           id  \\\n",
       "0           {'text': '교향곡', 'answer_start': 54}  6566495-0-0   \n",
       "1          {'text': '1악장', 'answer_start': 421}  6566495-0-1   \n",
       "2  {'text': '베토벤의 교향곡 9번', 'answer_start': 194}  6566495-0-2   \n",
       "3          {'text': '파우스트', 'answer_start': 15}  6566518-0-0   \n",
       "4        {'text': '합창교향곡', 'answer_start': 354}  6566518-0-1   \n",
       "\n",
       "                            question  \\\n",
       "0     바그너는 괴테의 파우스트를 읽고 무엇을 쓰고자 했는가?   \n",
       "1      바그너는 교향곡 작곡을 어디까지 쓴 뒤에 중단했는가?   \n",
       "2  바그너가 파우스트 서곡을 쓸 때 어떤 곡의 영향을 받았는가?   \n",
       "3     1839년 바그너가 교향곡의 소재로 쓰려고 했던 책은?   \n",
       "4   파우스트 서곡의 라단조 조성이 영향을 받은 베토벤의 곡은?   \n",
       "\n",
       "                                             context  \n",
       "0  1839년 바그너는 괴테의 파우스트을 처음 읽고 그 내용에 마음이 끌려 이를 소재로...  \n",
       "1  1839년 바그너는 괴테의 파우스트을 처음 읽고 그 내용에 마음이 끌려 이를 소재로...  \n",
       "2  1839년 바그너는 괴테의 파우스트을 처음 읽고 그 내용에 마음이 끌려 이를 소재로...  \n",
       "3  1839년 바그너는 괴테의 파우스트을 처음 읽고 그 내용에 마음이 끌려 이를 소재로...  \n",
       "4  1839년 바그너는 괴테의 파우스트을 처음 읽고 그 내용에 마음이 끌려 이를 소재로...  "
      ]
     },
     "execution_count": 20,
     "metadata": {},
     "output_type": "execute_result"
    }
   ],
   "source": [
    "df.head()"
   ]
  },
  {
   "cell_type": "code",
   "execution_count": 21,
   "id": "c98282f5",
   "metadata": {},
   "outputs": [],
   "source": [
    "df = df[['id','context','question','answers']]"
   ]
  },
  {
   "cell_type": "code",
   "execution_count": 39,
   "id": "8cd93c59",
   "metadata": {},
   "outputs": [],
   "source": [
    "df.reset_index(inplace=True, drop=True)"
   ]
  },
  {
   "cell_type": "code",
   "execution_count": 48,
   "id": "eeb218c3",
   "metadata": {},
   "outputs": [],
   "source": [
    "from sklearn.model_selection import train_test_split\n",
    "\n",
    "train_dataset, test_dataset = train_test_split(df, test_size=0.2, random_state=42)"
   ]
  },
  {
   "cell_type": "code",
   "execution_count": 49,
   "id": "f72c28f6",
   "metadata": {},
   "outputs": [],
   "source": [
    "train_dataset.reset_index(inplace=True,drop=True)\n",
    "test_dataset.reset_index(inplace=True,drop=True)"
   ]
  },
  {
   "cell_type": "code",
   "execution_count": 50,
   "id": "8ca245a6",
   "metadata": {},
   "outputs": [],
   "source": [
    "train = Dataset.from_pandas(train_dataset)\n",
    "test = Dataset.from_pandas(test_dataset)"
   ]
  },
  {
   "cell_type": "code",
   "execution_count": 51,
   "id": "4f2f6937",
   "metadata": {},
   "outputs": [],
   "source": [
    "dataset = datasets.DatasetDict(\n",
    "    {\n",
    "        \"train\": train,\n",
    "        \"test\": test,\n",
    "    }\n",
    ")"
   ]
  },
  {
   "cell_type": "code",
   "execution_count": 52,
   "id": "0e29b902",
   "metadata": {},
   "outputs": [
    {
     "data": {
      "text/plain": [
       "DatasetDict({\n",
       "    train: Dataset({\n",
       "        features: ['id', 'context', 'question', 'answers'],\n",
       "        num_rows: 48325\n",
       "    })\n",
       "    test: Dataset({\n",
       "        features: ['id', 'context', 'question', 'answers'],\n",
       "        num_rows: 12082\n",
       "    })\n",
       "})"
      ]
     },
     "execution_count": 52,
     "metadata": {},
     "output_type": "execute_result"
    }
   ],
   "source": [
    "dataset"
   ]
  },
  {
   "cell_type": "code",
   "execution_count": 53,
   "id": "a63253f3",
   "metadata": {},
   "outputs": [
    {
     "data": {
      "application/vnd.jupyter.widget-view+json": {
       "model_id": "8c4826dae14d4ea0b56f45f220517685",
       "version_major": 2,
       "version_minor": 0
      },
      "text/plain": [
       "VBox(children=(HTML(value='<center> <img\\nsrc=https://huggingface.co/front/assets/huggingface_logo-noborder.sv…"
      ]
     },
     "metadata": {},
     "output_type": "display_data"
    }
   ],
   "source": [
    "from huggingface_hub import notebook_login\n",
    "\n",
    "notebook_login()"
   ]
  },
  {
   "cell_type": "code",
   "execution_count": null,
   "id": "13655394",
   "metadata": {},
   "outputs": [],
   "source": [
    "dataset.push_to_hub(\"Hansollll/korquad_v1\")"
   ]
  }
 ],
 "metadata": {
  "kernelspec": {
   "display_name": "Python 3 (ipykernel)",
   "language": "python",
   "name": "python3"
  },
  "language_info": {
   "codemirror_mode": {
    "name": "ipython",
    "version": 3
   },
   "file_extension": ".py",
   "mimetype": "text/x-python",
   "name": "python",
   "nbconvert_exporter": "python",
   "pygments_lexer": "ipython3",
   "version": "3.8.16"
  }
 },
 "nbformat": 4,
 "nbformat_minor": 5
}
